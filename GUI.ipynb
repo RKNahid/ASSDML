{
  "nbformat": 4,
  "nbformat_minor": 0,
  "metadata": {
    "colab": {
      "provenance": [],
      "include_colab_link": true
    },
    "kernelspec": {
      "name": "python3",
      "display_name": "Python 3"
    },
    "language_info": {
      "name": "python"
    },
    "widgets": {
      "application/vnd.jupyter.widget-state+json": {
        "0a4c0be276c647eb81f62f152971cb54": {
          "model_module": "@jupyter-widgets/controls",
          "model_name": "HBoxModel",
          "model_module_version": "1.5.0",
          "state": {
            "_dom_classes": [],
            "_model_module": "@jupyter-widgets/controls",
            "_model_module_version": "1.5.0",
            "_model_name": "HBoxModel",
            "_view_count": null,
            "_view_module": "@jupyter-widgets/controls",
            "_view_module_version": "1.5.0",
            "_view_name": "HBoxView",
            "box_style": "",
            "children": [
              "IPY_MODEL_16f236664ceb40d49971791f08869100",
              "IPY_MODEL_a7c2049952ce43dd89a4f079ebace801",
              "IPY_MODEL_fc29fcc5b08b4747850cde6c9bb44bea"
            ],
            "layout": "IPY_MODEL_c86983cb8c07470bb8dd1e0e60d4e539"
          }
        },
        "16f236664ceb40d49971791f08869100": {
          "model_module": "@jupyter-widgets/controls",
          "model_name": "HTMLModel",
          "model_module_version": "1.5.0",
          "state": {
            "_dom_classes": [],
            "_model_module": "@jupyter-widgets/controls",
            "_model_module_version": "1.5.0",
            "_model_name": "HTMLModel",
            "_view_count": null,
            "_view_module": "@jupyter-widgets/controls",
            "_view_module_version": "1.5.0",
            "_view_name": "HTMLView",
            "description": "",
            "description_tooltip": null,
            "layout": "IPY_MODEL_ddb74f669b2840339ff106b788940063",
            "placeholder": "​",
            "style": "IPY_MODEL_5d7c704fe3324d4d8712c441891495a2",
            "value": "100%"
          }
        },
        "a7c2049952ce43dd89a4f079ebace801": {
          "model_module": "@jupyter-widgets/controls",
          "model_name": "FloatProgressModel",
          "model_module_version": "1.5.0",
          "state": {
            "_dom_classes": [],
            "_model_module": "@jupyter-widgets/controls",
            "_model_module_version": "1.5.0",
            "_model_name": "FloatProgressModel",
            "_view_count": null,
            "_view_module": "@jupyter-widgets/controls",
            "_view_module_version": "1.5.0",
            "_view_name": "ProgressView",
            "bar_style": "success",
            "description": "",
            "description_tooltip": null,
            "layout": "IPY_MODEL_8d46fe0fac3042fda2290539d49600b2",
            "max": 71,
            "min": 0,
            "orientation": "horizontal",
            "style": "IPY_MODEL_1171eeae7daa48739d2679a9bc0acc9f",
            "value": 71
          }
        },
        "fc29fcc5b08b4747850cde6c9bb44bea": {
          "model_module": "@jupyter-widgets/controls",
          "model_name": "HTMLModel",
          "model_module_version": "1.5.0",
          "state": {
            "_dom_classes": [],
            "_model_module": "@jupyter-widgets/controls",
            "_model_module_version": "1.5.0",
            "_model_name": "HTMLModel",
            "_view_count": null,
            "_view_module": "@jupyter-widgets/controls",
            "_view_module_version": "1.5.0",
            "_view_name": "HTMLView",
            "description": "",
            "description_tooltip": null,
            "layout": "IPY_MODEL_6fa3bda7103d4c4996fc441487878878",
            "placeholder": "​",
            "style": "IPY_MODEL_67264f7c1c3044dcbda9579bbaa8e5b1",
            "value": " 71/71 [00:01&lt;00:00, 50.13it/s]"
          }
        },
        "c86983cb8c07470bb8dd1e0e60d4e539": {
          "model_module": "@jupyter-widgets/base",
          "model_name": "LayoutModel",
          "model_module_version": "1.2.0",
          "state": {
            "_model_module": "@jupyter-widgets/base",
            "_model_module_version": "1.2.0",
            "_model_name": "LayoutModel",
            "_view_count": null,
            "_view_module": "@jupyter-widgets/base",
            "_view_module_version": "1.2.0",
            "_view_name": "LayoutView",
            "align_content": null,
            "align_items": null,
            "align_self": null,
            "border": null,
            "bottom": null,
            "display": null,
            "flex": null,
            "flex_flow": null,
            "grid_area": null,
            "grid_auto_columns": null,
            "grid_auto_flow": null,
            "grid_auto_rows": null,
            "grid_column": null,
            "grid_gap": null,
            "grid_row": null,
            "grid_template_areas": null,
            "grid_template_columns": null,
            "grid_template_rows": null,
            "height": null,
            "justify_content": null,
            "justify_items": null,
            "left": null,
            "margin": null,
            "max_height": null,
            "max_width": null,
            "min_height": null,
            "min_width": null,
            "object_fit": null,
            "object_position": null,
            "order": null,
            "overflow": null,
            "overflow_x": null,
            "overflow_y": null,
            "padding": null,
            "right": null,
            "top": null,
            "visibility": null,
            "width": null
          }
        },
        "ddb74f669b2840339ff106b788940063": {
          "model_module": "@jupyter-widgets/base",
          "model_name": "LayoutModel",
          "model_module_version": "1.2.0",
          "state": {
            "_model_module": "@jupyter-widgets/base",
            "_model_module_version": "1.2.0",
            "_model_name": "LayoutModel",
            "_view_count": null,
            "_view_module": "@jupyter-widgets/base",
            "_view_module_version": "1.2.0",
            "_view_name": "LayoutView",
            "align_content": null,
            "align_items": null,
            "align_self": null,
            "border": null,
            "bottom": null,
            "display": null,
            "flex": null,
            "flex_flow": null,
            "grid_area": null,
            "grid_auto_columns": null,
            "grid_auto_flow": null,
            "grid_auto_rows": null,
            "grid_column": null,
            "grid_gap": null,
            "grid_row": null,
            "grid_template_areas": null,
            "grid_template_columns": null,
            "grid_template_rows": null,
            "height": null,
            "justify_content": null,
            "justify_items": null,
            "left": null,
            "margin": null,
            "max_height": null,
            "max_width": null,
            "min_height": null,
            "min_width": null,
            "object_fit": null,
            "object_position": null,
            "order": null,
            "overflow": null,
            "overflow_x": null,
            "overflow_y": null,
            "padding": null,
            "right": null,
            "top": null,
            "visibility": null,
            "width": null
          }
        },
        "5d7c704fe3324d4d8712c441891495a2": {
          "model_module": "@jupyter-widgets/controls",
          "model_name": "DescriptionStyleModel",
          "model_module_version": "1.5.0",
          "state": {
            "_model_module": "@jupyter-widgets/controls",
            "_model_module_version": "1.5.0",
            "_model_name": "DescriptionStyleModel",
            "_view_count": null,
            "_view_module": "@jupyter-widgets/base",
            "_view_module_version": "1.2.0",
            "_view_name": "StyleView",
            "description_width": ""
          }
        },
        "8d46fe0fac3042fda2290539d49600b2": {
          "model_module": "@jupyter-widgets/base",
          "model_name": "LayoutModel",
          "model_module_version": "1.2.0",
          "state": {
            "_model_module": "@jupyter-widgets/base",
            "_model_module_version": "1.2.0",
            "_model_name": "LayoutModel",
            "_view_count": null,
            "_view_module": "@jupyter-widgets/base",
            "_view_module_version": "1.2.0",
            "_view_name": "LayoutView",
            "align_content": null,
            "align_items": null,
            "align_self": null,
            "border": null,
            "bottom": null,
            "display": null,
            "flex": null,
            "flex_flow": null,
            "grid_area": null,
            "grid_auto_columns": null,
            "grid_auto_flow": null,
            "grid_auto_rows": null,
            "grid_column": null,
            "grid_gap": null,
            "grid_row": null,
            "grid_template_areas": null,
            "grid_template_columns": null,
            "grid_template_rows": null,
            "height": null,
            "justify_content": null,
            "justify_items": null,
            "left": null,
            "margin": null,
            "max_height": null,
            "max_width": null,
            "min_height": null,
            "min_width": null,
            "object_fit": null,
            "object_position": null,
            "order": null,
            "overflow": null,
            "overflow_x": null,
            "overflow_y": null,
            "padding": null,
            "right": null,
            "top": null,
            "visibility": null,
            "width": null
          }
        },
        "1171eeae7daa48739d2679a9bc0acc9f": {
          "model_module": "@jupyter-widgets/controls",
          "model_name": "ProgressStyleModel",
          "model_module_version": "1.5.0",
          "state": {
            "_model_module": "@jupyter-widgets/controls",
            "_model_module_version": "1.5.0",
            "_model_name": "ProgressStyleModel",
            "_view_count": null,
            "_view_module": "@jupyter-widgets/base",
            "_view_module_version": "1.2.0",
            "_view_name": "StyleView",
            "bar_color": null,
            "description_width": ""
          }
        },
        "6fa3bda7103d4c4996fc441487878878": {
          "model_module": "@jupyter-widgets/base",
          "model_name": "LayoutModel",
          "model_module_version": "1.2.0",
          "state": {
            "_model_module": "@jupyter-widgets/base",
            "_model_module_version": "1.2.0",
            "_model_name": "LayoutModel",
            "_view_count": null,
            "_view_module": "@jupyter-widgets/base",
            "_view_module_version": "1.2.0",
            "_view_name": "LayoutView",
            "align_content": null,
            "align_items": null,
            "align_self": null,
            "border": null,
            "bottom": null,
            "display": null,
            "flex": null,
            "flex_flow": null,
            "grid_area": null,
            "grid_auto_columns": null,
            "grid_auto_flow": null,
            "grid_auto_rows": null,
            "grid_column": null,
            "grid_gap": null,
            "grid_row": null,
            "grid_template_areas": null,
            "grid_template_columns": null,
            "grid_template_rows": null,
            "height": null,
            "justify_content": null,
            "justify_items": null,
            "left": null,
            "margin": null,
            "max_height": null,
            "max_width": null,
            "min_height": null,
            "min_width": null,
            "object_fit": null,
            "object_position": null,
            "order": null,
            "overflow": null,
            "overflow_x": null,
            "overflow_y": null,
            "padding": null,
            "right": null,
            "top": null,
            "visibility": null,
            "width": null
          }
        },
        "67264f7c1c3044dcbda9579bbaa8e5b1": {
          "model_module": "@jupyter-widgets/controls",
          "model_name": "DescriptionStyleModel",
          "model_module_version": "1.5.0",
          "state": {
            "_model_module": "@jupyter-widgets/controls",
            "_model_module_version": "1.5.0",
            "_model_name": "DescriptionStyleModel",
            "_view_count": null,
            "_view_module": "@jupyter-widgets/base",
            "_view_module_version": "1.2.0",
            "_view_name": "StyleView",
            "description_width": ""
          }
        }
      }
    }
  },
  "cells": [
    {
      "cell_type": "markdown",
      "metadata": {
        "id": "view-in-github",
        "colab_type": "text"
      },
      "source": [
        "<a href=\"https://colab.research.google.com/github/RKNahid/Automated-Sleep-Stage-Detection-using-Machine-Learning-Algorithm/blob/main/GUI.ipynb\" target=\"_parent\"><img src=\"https://colab.research.google.com/assets/colab-badge.svg\" alt=\"Open In Colab\"/></a>"
      ]
    },
    {
      "cell_type": "markdown",
      "source": [
        "#Mount Drive"
      ],
      "metadata": {
        "id": "lEUSQmgzOmAb"
      }
    },
    {
      "cell_type": "code",
      "source": [
        "from google.colab import drive\n",
        "drive.mount('/content/drive')\n"
      ],
      "metadata": {
        "colab": {
          "base_uri": "https://localhost:8080/"
        },
        "id": "rZObF_EsOlKV",
        "outputId": "d23caf8a-4080-4330-a735-7628651f6ff4"
      },
      "execution_count": null,
      "outputs": [
        {
          "output_type": "stream",
          "name": "stdout",
          "text": [
            "Mounted at /content/drive\n"
          ]
        }
      ]
    },
    {
      "cell_type": "markdown",
      "source": [
        "#Predict Sleep Stage"
      ],
      "metadata": {
        "id": "-6I7rjxyOvA4"
      }
    },
    {
      "cell_type": "code",
      "source": [
        "#@title Main Engine\n",
        "\n",
        "Input_DATA_Path = '/content/drive/MyDrive/Project/GUI/Datas/Series_data_2.csv' #@param {type:\"string\"}\n",
        "Select_Algorithm = 'Random Forest (Accu: 0.92)' #@param [\"Random Forest (Accu: 0.92)\", \"XGBoosting (Accu: 0.94)\",\"GradientBoosting (Accu: 0.88)\"]\n",
        "\n",
        "\n",
        "\n",
        "import numpy as np\n",
        "import pandas as pd\n",
        "from tqdm.notebook import tqdm\n",
        "from joblib import Parallel, delayed\n",
        "import joblib\n",
        "\n",
        "\n",
        "def load_model(model_name):\n",
        "  return joblib.load(model_name)\n",
        "\n",
        "\n",
        "model_path_dict = {\n",
        "    \"Random Forest (Accu: 0.92)\": \"/content/drive/MyDrive/Project/GUI/rf.sav\",\n",
        "    \"XGBoosting (Accu: 0.94)\": \"/content/drive/MyDrive/Project/GUI/xgb.sav\",\n",
        "    \"GradientBoosting (Accu: 0.88)\": \"/content/drive/MyDrive/Project/GUI/gb.sav\"\n",
        "}\n",
        "\n",
        "\n",
        "\n",
        "dataset = pd.read_csv(Input_DATA_Path)\n",
        "model = load_model(model_path_dict[Select_Algorithm])\n",
        "\n",
        "class_dict={0:\"NREM\",1:\"REM\"}\n",
        "for i in tqdm(range(dataset.shape[0])):\n",
        "  print(\"For Row Number \",i,\" predicted class: \",class_dict[model.predict(dataset.loc[i:i,:])[0]])\n",
        "\n",
        "\n",
        "\n"
      ],
      "metadata": {
        "cellView": "form",
        "id": "STRz239xGd0P",
        "colab": {
          "base_uri": "https://localhost:8080/",
          "height": 1000,
          "referenced_widgets": [
            "0a4c0be276c647eb81f62f152971cb54",
            "16f236664ceb40d49971791f08869100",
            "a7c2049952ce43dd89a4f079ebace801",
            "fc29fcc5b08b4747850cde6c9bb44bea",
            "c86983cb8c07470bb8dd1e0e60d4e539",
            "ddb74f669b2840339ff106b788940063",
            "5d7c704fe3324d4d8712c441891495a2",
            "8d46fe0fac3042fda2290539d49600b2",
            "1171eeae7daa48739d2679a9bc0acc9f",
            "6fa3bda7103d4c4996fc441487878878",
            "67264f7c1c3044dcbda9579bbaa8e5b1"
          ]
        },
        "outputId": "83eea67b-4be4-400a-de33-c527e79d3515"
      },
      "execution_count": null,
      "outputs": [
        {
          "output_type": "display_data",
          "data": {
            "text/plain": [
              "  0%|          | 0/71 [00:00<?, ?it/s]"
            ],
            "application/vnd.jupyter.widget-view+json": {
              "version_major": 2,
              "version_minor": 0,
              "model_id": "0a4c0be276c647eb81f62f152971cb54"
            }
          },
          "metadata": {}
        },
        {
          "output_type": "stream",
          "name": "stdout",
          "text": [
            "For Row Number  0  predicted class:  NREM\n",
            "For Row Number  1  predicted class:  NREM\n",
            "For Row Number  2  predicted class:  NREM\n",
            "For Row Number  3  predicted class:  NREM\n",
            "For Row Number  4  predicted class:  NREM\n",
            "For Row Number  5  predicted class:  NREM\n",
            "For Row Number  6  predicted class:  NREM\n",
            "For Row Number  7  predicted class:  NREM\n",
            "For Row Number  8  predicted class:  NREM\n",
            "For Row Number  9  predicted class:  NREM\n",
            "For Row Number  10  predicted class:  NREM\n",
            "For Row Number  11  predicted class:  NREM\n",
            "For Row Number  12  predicted class:  NREM\n",
            "For Row Number  13  predicted class:  NREM\n",
            "For Row Number  14  predicted class:  NREM\n",
            "For Row Number  15  predicted class:  NREM\n",
            "For Row Number  16  predicted class:  NREM\n",
            "For Row Number  17  predicted class:  NREM\n",
            "For Row Number  18  predicted class:  NREM\n",
            "For Row Number  19  predicted class:  NREM\n",
            "For Row Number  20  predicted class:  NREM\n",
            "For Row Number  21  predicted class:  REM\n",
            "For Row Number  22  predicted class:  REM\n",
            "For Row Number  23  predicted class:  REM\n",
            "For Row Number  24  predicted class:  REM\n",
            "For Row Number  25  predicted class:  REM\n",
            "For Row Number  26  predicted class:  REM\n",
            "For Row Number  27  predicted class:  REM\n",
            "For Row Number  28  predicted class:  REM\n",
            "For Row Number  29  predicted class:  REM\n",
            "For Row Number  30  predicted class:  REM\n",
            "For Row Number  31  predicted class:  REM\n",
            "For Row Number  32  predicted class:  REM\n",
            "For Row Number  33  predicted class:  REM\n",
            "For Row Number  34  predicted class:  REM\n",
            "For Row Number  35  predicted class:  REM\n",
            "For Row Number  36  predicted class:  REM\n",
            "For Row Number  37  predicted class:  REM\n",
            "For Row Number  38  predicted class:  REM\n",
            "For Row Number  39  predicted class:  REM\n",
            "For Row Number  40  predicted class:  REM\n",
            "For Row Number  41  predicted class:  REM\n",
            "For Row Number  42  predicted class:  REM\n",
            "For Row Number  43  predicted class:  REM\n",
            "For Row Number  44  predicted class:  REM\n",
            "For Row Number  45  predicted class:  REM\n",
            "For Row Number  46  predicted class:  REM\n",
            "For Row Number  47  predicted class:  REM\n",
            "For Row Number  48  predicted class:  REM\n",
            "For Row Number  49  predicted class:  REM\n",
            "For Row Number  50  predicted class:  REM\n",
            "For Row Number  51  predicted class:  REM\n",
            "For Row Number  52  predicted class:  REM\n",
            "For Row Number  53  predicted class:  REM\n",
            "For Row Number  54  predicted class:  NREM\n",
            "For Row Number  55  predicted class:  NREM\n",
            "For Row Number  56  predicted class:  NREM\n",
            "For Row Number  57  predicted class:  NREM\n",
            "For Row Number  58  predicted class:  NREM\n",
            "For Row Number  59  predicted class:  NREM\n",
            "For Row Number  60  predicted class:  NREM\n",
            "For Row Number  61  predicted class:  NREM\n",
            "For Row Number  62  predicted class:  NREM\n",
            "For Row Number  63  predicted class:  NREM\n",
            "For Row Number  64  predicted class:  NREM\n",
            "For Row Number  65  predicted class:  NREM\n",
            "For Row Number  66  predicted class:  NREM\n",
            "For Row Number  67  predicted class:  NREM\n",
            "For Row Number  68  predicted class:  NREM\n",
            "For Row Number  69  predicted class:  NREM\n",
            "For Row Number  70  predicted class:  NREM\n"
          ]
        }
      ]
    },
    {
      "cell_type": "markdown",
      "source": [],
      "metadata": {
        "id": "Xl6Eg809FFMi"
      }
    },
    {
      "cell_type": "markdown",
      "source": [],
      "metadata": {
        "id": "XQIqJ3F5FCLx"
      }
    }
  ]
}