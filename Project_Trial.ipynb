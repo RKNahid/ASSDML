{
  "nbformat": 4,
  "nbformat_minor": 0,
  "metadata": {
    "colab": {
      "provenance": [],
      "include_colab_link": true
    },
    "kernelspec": {
      "name": "python3",
      "display_name": "Python 3"
    },
    "language_info": {
      "name": "python"
    }
  },
  "cells": [
    {
      "cell_type": "markdown",
      "metadata": {
        "id": "view-in-github",
        "colab_type": "text"
      },
      "source": [
        "<a href=\"https://colab.research.google.com/github/RKNahid/Automated-Sleep-Stage-Detection-using-Machine-Learning-Algorithm/blob/main/Project_Trial.ipynb\" target=\"_parent\"><img src=\"https://colab.research.google.com/assets/colab-badge.svg\" alt=\"Open In Colab\"/></a>"
      ]
    },
    {
      "cell_type": "code",
      "execution_count": null,
      "metadata": {
        "id": "x5dqGHC1vQkb"
      },
      "outputs": [],
      "source": [
        "from google.colab import drive\n",
        "drive.mount('/content/drive')"
      ]
    },
    {
      "cell_type": "code",
      "source": [
        "!pip install imbalanced-learn\n",
        "\n",
        "from imblearn.over_sampling import SMOTE\n",
        "\n",
        "def balance(x_temp,y_temp):\n",
        "  smote = SMOTE()\n",
        "\n",
        "  x_temp, y_temp = smote.fit_resample(x_temp, y_temp)\n",
        "\n",
        "  return x_temp, y_temp"
      ],
      "metadata": {
        "colab": {
          "base_uri": "https://localhost:8080/"
        },
        "id": "q1tD9JMR-lqA",
        "outputId": "2004253e-0e01-4e92-fbba-be2fbae76aa8"
      },
      "execution_count": 2,
      "outputs": [
        {
          "output_type": "stream",
          "name": "stdout",
          "text": [
            "Looking in indexes: https://pypi.org/simple, https://us-python.pkg.dev/colab-wheels/public/simple/\n",
            "Requirement already satisfied: imbalanced-learn in /usr/local/lib/python3.10/dist-packages (0.10.1)\n",
            "Requirement already satisfied: scikit-learn>=1.0.2 in /usr/local/lib/python3.10/dist-packages (from imbalanced-learn) (1.2.2)\n",
            "Requirement already satisfied: threadpoolctl>=2.0.0 in /usr/local/lib/python3.10/dist-packages (from imbalanced-learn) (3.1.0)\n",
            "Requirement already satisfied: numpy>=1.17.3 in /usr/local/lib/python3.10/dist-packages (from imbalanced-learn) (1.22.4)\n",
            "Requirement already satisfied: joblib>=1.1.1 in /usr/local/lib/python3.10/dist-packages (from imbalanced-learn) (1.2.0)\n",
            "Requirement already satisfied: scipy>=1.3.2 in /usr/local/lib/python3.10/dist-packages (from imbalanced-learn) (1.10.1)\n"
          ]
        }
      ]
    },
    {
      "cell_type": "code",
      "source": [
        "def divide_dataset(dataset,numOrper,random_state = 0):\n",
        "\n",
        "  rows,cols = dataset.shape\n",
        "\n",
        "  if random_state == 0:\n",
        "    if type(numOrper) == int:\n",
        "      return dataset.iloc[:numOrper,:]\n",
        "    else:\n",
        "      return dataset.iloc[:int(rows*(numOrper)),:]\n",
        "  else:\n",
        "    import random\n",
        "    if type(numOrper) == int:\n",
        "      l_r = random.sample(range(0, rows), numOrper)\n",
        "    else:\n",
        "      l_r = random.sample(range(0, rows), int(rows*(numOrper)))\n",
        "    return dataset.iloc[l_r,:]"
      ],
      "metadata": {
        "id": "oZeJdcJCGvy3"
      },
      "execution_count": null,
      "outputs": []
    },
    {
      "cell_type": "code",
      "source": [
        "import numpy as np\n",
        "import pandas as pd"
      ],
      "metadata": {
        "id": "wKNX0Szqwqzi"
      },
      "execution_count": null,
      "outputs": []
    },
    {
      "cell_type": "code",
      "source": [
        "df = pd.read_csv(\"/content/drive/MyDrive/Thesis_Data/REM_NREM.csv\")\n",
        "target = \"Sleep_Stage\""
      ],
      "metadata": {
        "id": "ihaloMJYxTK4"
      },
      "execution_count": null,
      "outputs": []
    },
    {
      "cell_type": "code",
      "source": [
        "df.head()"
      ],
      "metadata": {
        "colab": {
          "base_uri": "https://localhost:8080/",
          "height": 317
        },
        "id": "iIjsvQrnx_rA",
        "outputId": "b929baf1-0aea-4a3f-86a8-ee2930537f75"
      },
      "execution_count": null,
      "outputs": [
        {
          "output_type": "execute_result",
          "data": {
            "text/plain": [
              "  Sleep_Stage  MeanP_Alpha_F4  MedianF_Alpha_F4  MeanF_Alpha_F4  \\\n",
              "0        NREM         0.00034          10.11512        17.85756   \n",
              "1        NREM         0.00035          10.73951        17.60780   \n",
              "2        NREM         0.00035           9.36585        17.60780   \n",
              "3        NREM         0.00050          10.36488        16.60878   \n",
              "4        NREM         0.00072           9.36585        15.98439   \n",
              "\n",
              "   Spectral Edge_Alpha_F4  PeakF_Alpha_F4  MeanP_Beta_F4  MedianF_Beta_F4  \\\n",
              "0                17.48293        10.24000        0.00047         17.73268   \n",
              "1                17.10829         9.11610        0.00048         16.85854   \n",
              "2                16.98341         9.24098        0.00042         17.35805   \n",
              "3                15.85951         7.99220        0.00053         15.48488   \n",
              "4                15.48488         7.99220        0.00067         15.11024   \n",
              "\n",
              "   MeanF_Beta_F4  Spectral Edge_Beta_F4  ...  MeanP_Delta_O2  \\\n",
              "0       25.35024               27.47317  ...         0.00112   \n",
              "1       25.22537               26.97366  ...         0.00070   \n",
              "2       26.09951               28.47220  ...         0.00077   \n",
              "3       24.10146               25.72488  ...         0.00130   \n",
              "4       22.22829               23.22732  ...         0.00123   \n",
              "\n",
              "   MedianF_Delta_O2  MeanF_Delta_O2  Spectral Edge_Delta_O2  PeakF_Delta_O2  \\\n",
              "0           0.74927         6.36878                 2.87220         0.62439   \n",
              "1           0.99902         6.86829                 3.62146         0.74927   \n",
              "2           1.49854         6.49366                 4.12098         0.74927   \n",
              "3           1.87317         6.11902                 3.74634         0.37463   \n",
              "4           1.49854         6.61854                 3.74634         0.74927   \n",
              "\n",
              "   MeanP_Gamma_O2  MedianF_Gamma_O2  MeanF_Gamma_O2  Spectral Edge_Gamma_O2  \\\n",
              "0        0.000076          32.71805        43.83220                49.95122   \n",
              "1        0.000072          32.09366        44.33171                49.95122   \n",
              "2        0.000069          33.09268        43.95707                49.95122   \n",
              "3        0.000070          31.59415        42.83317                49.95122   \n",
              "4        0.000060          29.47122        45.08098                49.95122   \n",
              "\n",
              "   PeakF_Gamma_O2  \n",
              "0        49.95122  \n",
              "1        49.95122  \n",
              "2        49.95122  \n",
              "3        49.95122  \n",
              "4        49.95122  \n",
              "\n",
              "[5 rows x 76 columns]"
            ],
            "text/html": [
              "\n",
              "  <div id=\"df-844e1c84-5381-4d44-a556-b347f9897178\">\n",
              "    <div class=\"colab-df-container\">\n",
              "      <div>\n",
              "<style scoped>\n",
              "    .dataframe tbody tr th:only-of-type {\n",
              "        vertical-align: middle;\n",
              "    }\n",
              "\n",
              "    .dataframe tbody tr th {\n",
              "        vertical-align: top;\n",
              "    }\n",
              "\n",
              "    .dataframe thead th {\n",
              "        text-align: right;\n",
              "    }\n",
              "</style>\n",
              "<table border=\"1\" class=\"dataframe\">\n",
              "  <thead>\n",
              "    <tr style=\"text-align: right;\">\n",
              "      <th></th>\n",
              "      <th>Sleep_Stage</th>\n",
              "      <th>MeanP_Alpha_F4</th>\n",
              "      <th>MedianF_Alpha_F4</th>\n",
              "      <th>MeanF_Alpha_F4</th>\n",
              "      <th>Spectral Edge_Alpha_F4</th>\n",
              "      <th>PeakF_Alpha_F4</th>\n",
              "      <th>MeanP_Beta_F4</th>\n",
              "      <th>MedianF_Beta_F4</th>\n",
              "      <th>MeanF_Beta_F4</th>\n",
              "      <th>Spectral Edge_Beta_F4</th>\n",
              "      <th>...</th>\n",
              "      <th>MeanP_Delta_O2</th>\n",
              "      <th>MedianF_Delta_O2</th>\n",
              "      <th>MeanF_Delta_O2</th>\n",
              "      <th>Spectral Edge_Delta_O2</th>\n",
              "      <th>PeakF_Delta_O2</th>\n",
              "      <th>MeanP_Gamma_O2</th>\n",
              "      <th>MedianF_Gamma_O2</th>\n",
              "      <th>MeanF_Gamma_O2</th>\n",
              "      <th>Spectral Edge_Gamma_O2</th>\n",
              "      <th>PeakF_Gamma_O2</th>\n",
              "    </tr>\n",
              "  </thead>\n",
              "  <tbody>\n",
              "    <tr>\n",
              "      <th>0</th>\n",
              "      <td>NREM</td>\n",
              "      <td>0.00034</td>\n",
              "      <td>10.11512</td>\n",
              "      <td>17.85756</td>\n",
              "      <td>17.48293</td>\n",
              "      <td>10.24000</td>\n",
              "      <td>0.00047</td>\n",
              "      <td>17.73268</td>\n",
              "      <td>25.35024</td>\n",
              "      <td>27.47317</td>\n",
              "      <td>...</td>\n",
              "      <td>0.00112</td>\n",
              "      <td>0.74927</td>\n",
              "      <td>6.36878</td>\n",
              "      <td>2.87220</td>\n",
              "      <td>0.62439</td>\n",
              "      <td>0.000076</td>\n",
              "      <td>32.71805</td>\n",
              "      <td>43.83220</td>\n",
              "      <td>49.95122</td>\n",
              "      <td>49.95122</td>\n",
              "    </tr>\n",
              "    <tr>\n",
              "      <th>1</th>\n",
              "      <td>NREM</td>\n",
              "      <td>0.00035</td>\n",
              "      <td>10.73951</td>\n",
              "      <td>17.60780</td>\n",
              "      <td>17.10829</td>\n",
              "      <td>9.11610</td>\n",
              "      <td>0.00048</td>\n",
              "      <td>16.85854</td>\n",
              "      <td>25.22537</td>\n",
              "      <td>26.97366</td>\n",
              "      <td>...</td>\n",
              "      <td>0.00070</td>\n",
              "      <td>0.99902</td>\n",
              "      <td>6.86829</td>\n",
              "      <td>3.62146</td>\n",
              "      <td>0.74927</td>\n",
              "      <td>0.000072</td>\n",
              "      <td>32.09366</td>\n",
              "      <td>44.33171</td>\n",
              "      <td>49.95122</td>\n",
              "      <td>49.95122</td>\n",
              "    </tr>\n",
              "    <tr>\n",
              "      <th>2</th>\n",
              "      <td>NREM</td>\n",
              "      <td>0.00035</td>\n",
              "      <td>9.36585</td>\n",
              "      <td>17.60780</td>\n",
              "      <td>16.98341</td>\n",
              "      <td>9.24098</td>\n",
              "      <td>0.00042</td>\n",
              "      <td>17.35805</td>\n",
              "      <td>26.09951</td>\n",
              "      <td>28.47220</td>\n",
              "      <td>...</td>\n",
              "      <td>0.00077</td>\n",
              "      <td>1.49854</td>\n",
              "      <td>6.49366</td>\n",
              "      <td>4.12098</td>\n",
              "      <td>0.74927</td>\n",
              "      <td>0.000069</td>\n",
              "      <td>33.09268</td>\n",
              "      <td>43.95707</td>\n",
              "      <td>49.95122</td>\n",
              "      <td>49.95122</td>\n",
              "    </tr>\n",
              "    <tr>\n",
              "      <th>3</th>\n",
              "      <td>NREM</td>\n",
              "      <td>0.00050</td>\n",
              "      <td>10.36488</td>\n",
              "      <td>16.60878</td>\n",
              "      <td>15.85951</td>\n",
              "      <td>7.99220</td>\n",
              "      <td>0.00053</td>\n",
              "      <td>15.48488</td>\n",
              "      <td>24.10146</td>\n",
              "      <td>25.72488</td>\n",
              "      <td>...</td>\n",
              "      <td>0.00130</td>\n",
              "      <td>1.87317</td>\n",
              "      <td>6.11902</td>\n",
              "      <td>3.74634</td>\n",
              "      <td>0.37463</td>\n",
              "      <td>0.000070</td>\n",
              "      <td>31.59415</td>\n",
              "      <td>42.83317</td>\n",
              "      <td>49.95122</td>\n",
              "      <td>49.95122</td>\n",
              "    </tr>\n",
              "    <tr>\n",
              "      <th>4</th>\n",
              "      <td>NREM</td>\n",
              "      <td>0.00072</td>\n",
              "      <td>9.36585</td>\n",
              "      <td>15.98439</td>\n",
              "      <td>15.48488</td>\n",
              "      <td>7.99220</td>\n",
              "      <td>0.00067</td>\n",
              "      <td>15.11024</td>\n",
              "      <td>22.22829</td>\n",
              "      <td>23.22732</td>\n",
              "      <td>...</td>\n",
              "      <td>0.00123</td>\n",
              "      <td>1.49854</td>\n",
              "      <td>6.61854</td>\n",
              "      <td>3.74634</td>\n",
              "      <td>0.74927</td>\n",
              "      <td>0.000060</td>\n",
              "      <td>29.47122</td>\n",
              "      <td>45.08098</td>\n",
              "      <td>49.95122</td>\n",
              "      <td>49.95122</td>\n",
              "    </tr>\n",
              "  </tbody>\n",
              "</table>\n",
              "<p>5 rows × 76 columns</p>\n",
              "</div>\n",
              "      <button class=\"colab-df-convert\" onclick=\"convertToInteractive('df-844e1c84-5381-4d44-a556-b347f9897178')\"\n",
              "              title=\"Convert this dataframe to an interactive table.\"\n",
              "              style=\"display:none;\">\n",
              "        \n",
              "  <svg xmlns=\"http://www.w3.org/2000/svg\" height=\"24px\"viewBox=\"0 0 24 24\"\n",
              "       width=\"24px\">\n",
              "    <path d=\"M0 0h24v24H0V0z\" fill=\"none\"/>\n",
              "    <path d=\"M18.56 5.44l.94 2.06.94-2.06 2.06-.94-2.06-.94-.94-2.06-.94 2.06-2.06.94zm-11 1L8.5 8.5l.94-2.06 2.06-.94-2.06-.94L8.5 2.5l-.94 2.06-2.06.94zm10 10l.94 2.06.94-2.06 2.06-.94-2.06-.94-.94-2.06-.94 2.06-2.06.94z\"/><path d=\"M17.41 7.96l-1.37-1.37c-.4-.4-.92-.59-1.43-.59-.52 0-1.04.2-1.43.59L10.3 9.45l-7.72 7.72c-.78.78-.78 2.05 0 2.83L4 21.41c.39.39.9.59 1.41.59.51 0 1.02-.2 1.41-.59l7.78-7.78 2.81-2.81c.8-.78.8-2.07 0-2.86zM5.41 20L4 18.59l7.72-7.72 1.47 1.35L5.41 20z\"/>\n",
              "  </svg>\n",
              "      </button>\n",
              "      \n",
              "  <style>\n",
              "    .colab-df-container {\n",
              "      display:flex;\n",
              "      flex-wrap:wrap;\n",
              "      gap: 12px;\n",
              "    }\n",
              "\n",
              "    .colab-df-convert {\n",
              "      background-color: #E8F0FE;\n",
              "      border: none;\n",
              "      border-radius: 50%;\n",
              "      cursor: pointer;\n",
              "      display: none;\n",
              "      fill: #1967D2;\n",
              "      height: 32px;\n",
              "      padding: 0 0 0 0;\n",
              "      width: 32px;\n",
              "    }\n",
              "\n",
              "    .colab-df-convert:hover {\n",
              "      background-color: #E2EBFA;\n",
              "      box-shadow: 0px 1px 2px rgba(60, 64, 67, 0.3), 0px 1px 3px 1px rgba(60, 64, 67, 0.15);\n",
              "      fill: #174EA6;\n",
              "    }\n",
              "\n",
              "    [theme=dark] .colab-df-convert {\n",
              "      background-color: #3B4455;\n",
              "      fill: #D2E3FC;\n",
              "    }\n",
              "\n",
              "    [theme=dark] .colab-df-convert:hover {\n",
              "      background-color: #434B5C;\n",
              "      box-shadow: 0px 1px 3px 1px rgba(0, 0, 0, 0.15);\n",
              "      filter: drop-shadow(0px 1px 2px rgba(0, 0, 0, 0.3));\n",
              "      fill: #FFFFFF;\n",
              "    }\n",
              "  </style>\n",
              "\n",
              "      <script>\n",
              "        const buttonEl =\n",
              "          document.querySelector('#df-844e1c84-5381-4d44-a556-b347f9897178 button.colab-df-convert');\n",
              "        buttonEl.style.display =\n",
              "          google.colab.kernel.accessAllowed ? 'block' : 'none';\n",
              "\n",
              "        async function convertToInteractive(key) {\n",
              "          const element = document.querySelector('#df-844e1c84-5381-4d44-a556-b347f9897178');\n",
              "          const dataTable =\n",
              "            await google.colab.kernel.invokeFunction('convertToInteractive',\n",
              "                                                     [key], {});\n",
              "          if (!dataTable) return;\n",
              "\n",
              "          const docLinkHtml = 'Like what you see? Visit the ' +\n",
              "            '<a target=\"_blank\" href=https://colab.research.google.com/notebooks/data_table.ipynb>data table notebook</a>'\n",
              "            + ' to learn more about interactive tables.';\n",
              "          element.innerHTML = '';\n",
              "          dataTable['output_type'] = 'display_data';\n",
              "          await google.colab.output.renderOutput(dataTable, element);\n",
              "          const docLink = document.createElement('div');\n",
              "          docLink.innerHTML = docLinkHtml;\n",
              "          element.appendChild(docLink);\n",
              "        }\n",
              "      </script>\n",
              "    </div>\n",
              "  </div>\n",
              "  "
            ]
          },
          "metadata": {},
          "execution_count": 5
        }
      ]
    },
    {
      "cell_type": "code",
      "source": [
        "df.tail()"
      ],
      "metadata": {
        "colab": {
          "base_uri": "https://localhost:8080/",
          "height": 317
        },
        "id": "eDz1HbI4yB9l",
        "outputId": "74851321-e505-4b12-9ff9-f527594d224a"
      },
      "execution_count": null,
      "outputs": [
        {
          "output_type": "execute_result",
          "data": {
            "text/plain": [
              "      Sleep_Stage  MeanP_Alpha_F4  MedianF_Alpha_F4  MeanF_Alpha_F4  \\\n",
              "89091        NREM         0.00055          11.36390        19.73073   \n",
              "89092        NREM         0.00052          10.61463        18.10732   \n",
              "89093        NREM         0.00031          10.11512        17.48293   \n",
              "89094        NREM         0.00042           9.99024        16.35902   \n",
              "89095        NREM         0.00040           9.86537        15.73463   \n",
              "\n",
              "       Spectral Edge_Alpha_F4  PeakF_Alpha_F4  MeanP_Beta_F4  MedianF_Beta_F4  \\\n",
              "89091                19.35610        10.36488        0.00112         21.35415   \n",
              "89092                17.60780         8.61659        0.00084         19.85561   \n",
              "89093                16.85854        10.11512        0.00039         16.73366   \n",
              "89094                15.85951         9.86537        0.00044         15.73463   \n",
              "89095                14.98537        10.36488        0.00037         14.48585   \n",
              "\n",
              "       MeanF_Beta_F4  Spectral Edge_Beta_F4  ...  MeanP_Delta_O2  \\\n",
              "89091       31.34439               34.96585  ...         0.00779   \n",
              "89092       31.21951               36.33951  ...         0.00620   \n",
              "89093       24.97561               26.97366  ...         0.00101   \n",
              "89094       24.85073               26.47415  ...         0.00426   \n",
              "89095       22.72780               24.10146  ...         0.00116   \n",
              "\n",
              "       MedianF_Delta_O2  MeanF_Delta_O2  Spectral Edge_Delta_O2  \\\n",
              "89091           0.74927         4.87024                 1.87317   \n",
              "89092           0.99902         4.87024                 2.24780   \n",
              "89093           1.12390         6.99317                 3.74634   \n",
              "89094           1.12390         5.24488                 2.24780   \n",
              "89095           0.87415         7.36780                 3.99610   \n",
              "\n",
              "       PeakF_Delta_O2  MeanP_Gamma_O2  MedianF_Gamma_O2  MeanF_Gamma_O2  \\\n",
              "89091         0.62439        0.000420          34.96585        41.08488   \n",
              "89092         0.49951        0.000330          36.83902        43.45756   \n",
              "89093         0.49951        0.000063          29.09659        37.58829   \n",
              "89094         1.24878        0.000065          29.59610        39.08683   \n",
              "89095         0.74927        0.000041          27.09854        36.58927   \n",
              "\n",
              "       Spectral Edge_Gamma_O2  PeakF_Gamma_O2  \n",
              "89091                48.45268        36.21463  \n",
              "89092                50.95024        36.46439  \n",
              "89093                45.20585        24.22634  \n",
              "89094                47.57854        24.97561  \n",
              "89095                43.08293        21.10439  \n",
              "\n",
              "[5 rows x 76 columns]"
            ],
            "text/html": [
              "\n",
              "  <div id=\"df-feda6629-cc91-400d-be3b-2039909402e9\">\n",
              "    <div class=\"colab-df-container\">\n",
              "      <div>\n",
              "<style scoped>\n",
              "    .dataframe tbody tr th:only-of-type {\n",
              "        vertical-align: middle;\n",
              "    }\n",
              "\n",
              "    .dataframe tbody tr th {\n",
              "        vertical-align: top;\n",
              "    }\n",
              "\n",
              "    .dataframe thead th {\n",
              "        text-align: right;\n",
              "    }\n",
              "</style>\n",
              "<table border=\"1\" class=\"dataframe\">\n",
              "  <thead>\n",
              "    <tr style=\"text-align: right;\">\n",
              "      <th></th>\n",
              "      <th>Sleep_Stage</th>\n",
              "      <th>MeanP_Alpha_F4</th>\n",
              "      <th>MedianF_Alpha_F4</th>\n",
              "      <th>MeanF_Alpha_F4</th>\n",
              "      <th>Spectral Edge_Alpha_F4</th>\n",
              "      <th>PeakF_Alpha_F4</th>\n",
              "      <th>MeanP_Beta_F4</th>\n",
              "      <th>MedianF_Beta_F4</th>\n",
              "      <th>MeanF_Beta_F4</th>\n",
              "      <th>Spectral Edge_Beta_F4</th>\n",
              "      <th>...</th>\n",
              "      <th>MeanP_Delta_O2</th>\n",
              "      <th>MedianF_Delta_O2</th>\n",
              "      <th>MeanF_Delta_O2</th>\n",
              "      <th>Spectral Edge_Delta_O2</th>\n",
              "      <th>PeakF_Delta_O2</th>\n",
              "      <th>MeanP_Gamma_O2</th>\n",
              "      <th>MedianF_Gamma_O2</th>\n",
              "      <th>MeanF_Gamma_O2</th>\n",
              "      <th>Spectral Edge_Gamma_O2</th>\n",
              "      <th>PeakF_Gamma_O2</th>\n",
              "    </tr>\n",
              "  </thead>\n",
              "  <tbody>\n",
              "    <tr>\n",
              "      <th>89091</th>\n",
              "      <td>NREM</td>\n",
              "      <td>0.00055</td>\n",
              "      <td>11.36390</td>\n",
              "      <td>19.73073</td>\n",
              "      <td>19.35610</td>\n",
              "      <td>10.36488</td>\n",
              "      <td>0.00112</td>\n",
              "      <td>21.35415</td>\n",
              "      <td>31.34439</td>\n",
              "      <td>34.96585</td>\n",
              "      <td>...</td>\n",
              "      <td>0.00779</td>\n",
              "      <td>0.74927</td>\n",
              "      <td>4.87024</td>\n",
              "      <td>1.87317</td>\n",
              "      <td>0.62439</td>\n",
              "      <td>0.000420</td>\n",
              "      <td>34.96585</td>\n",
              "      <td>41.08488</td>\n",
              "      <td>48.45268</td>\n",
              "      <td>36.21463</td>\n",
              "    </tr>\n",
              "    <tr>\n",
              "      <th>89092</th>\n",
              "      <td>NREM</td>\n",
              "      <td>0.00052</td>\n",
              "      <td>10.61463</td>\n",
              "      <td>18.10732</td>\n",
              "      <td>17.60780</td>\n",
              "      <td>8.61659</td>\n",
              "      <td>0.00084</td>\n",
              "      <td>19.85561</td>\n",
              "      <td>31.21951</td>\n",
              "      <td>36.33951</td>\n",
              "      <td>...</td>\n",
              "      <td>0.00620</td>\n",
              "      <td>0.99902</td>\n",
              "      <td>4.87024</td>\n",
              "      <td>2.24780</td>\n",
              "      <td>0.49951</td>\n",
              "      <td>0.000330</td>\n",
              "      <td>36.83902</td>\n",
              "      <td>43.45756</td>\n",
              "      <td>50.95024</td>\n",
              "      <td>36.46439</td>\n",
              "    </tr>\n",
              "    <tr>\n",
              "      <th>89093</th>\n",
              "      <td>NREM</td>\n",
              "      <td>0.00031</td>\n",
              "      <td>10.11512</td>\n",
              "      <td>17.48293</td>\n",
              "      <td>16.85854</td>\n",
              "      <td>10.11512</td>\n",
              "      <td>0.00039</td>\n",
              "      <td>16.73366</td>\n",
              "      <td>24.97561</td>\n",
              "      <td>26.97366</td>\n",
              "      <td>...</td>\n",
              "      <td>0.00101</td>\n",
              "      <td>1.12390</td>\n",
              "      <td>6.99317</td>\n",
              "      <td>3.74634</td>\n",
              "      <td>0.49951</td>\n",
              "      <td>0.000063</td>\n",
              "      <td>29.09659</td>\n",
              "      <td>37.58829</td>\n",
              "      <td>45.20585</td>\n",
              "      <td>24.22634</td>\n",
              "    </tr>\n",
              "    <tr>\n",
              "      <th>89094</th>\n",
              "      <td>NREM</td>\n",
              "      <td>0.00042</td>\n",
              "      <td>9.99024</td>\n",
              "      <td>16.35902</td>\n",
              "      <td>15.85951</td>\n",
              "      <td>9.86537</td>\n",
              "      <td>0.00044</td>\n",
              "      <td>15.73463</td>\n",
              "      <td>24.85073</td>\n",
              "      <td>26.47415</td>\n",
              "      <td>...</td>\n",
              "      <td>0.00426</td>\n",
              "      <td>1.12390</td>\n",
              "      <td>5.24488</td>\n",
              "      <td>2.24780</td>\n",
              "      <td>1.24878</td>\n",
              "      <td>0.000065</td>\n",
              "      <td>29.59610</td>\n",
              "      <td>39.08683</td>\n",
              "      <td>47.57854</td>\n",
              "      <td>24.97561</td>\n",
              "    </tr>\n",
              "    <tr>\n",
              "      <th>89095</th>\n",
              "      <td>NREM</td>\n",
              "      <td>0.00040</td>\n",
              "      <td>9.86537</td>\n",
              "      <td>15.73463</td>\n",
              "      <td>14.98537</td>\n",
              "      <td>10.36488</td>\n",
              "      <td>0.00037</td>\n",
              "      <td>14.48585</td>\n",
              "      <td>22.72780</td>\n",
              "      <td>24.10146</td>\n",
              "      <td>...</td>\n",
              "      <td>0.00116</td>\n",
              "      <td>0.87415</td>\n",
              "      <td>7.36780</td>\n",
              "      <td>3.99610</td>\n",
              "      <td>0.74927</td>\n",
              "      <td>0.000041</td>\n",
              "      <td>27.09854</td>\n",
              "      <td>36.58927</td>\n",
              "      <td>43.08293</td>\n",
              "      <td>21.10439</td>\n",
              "    </tr>\n",
              "  </tbody>\n",
              "</table>\n",
              "<p>5 rows × 76 columns</p>\n",
              "</div>\n",
              "      <button class=\"colab-df-convert\" onclick=\"convertToInteractive('df-feda6629-cc91-400d-be3b-2039909402e9')\"\n",
              "              title=\"Convert this dataframe to an interactive table.\"\n",
              "              style=\"display:none;\">\n",
              "        \n",
              "  <svg xmlns=\"http://www.w3.org/2000/svg\" height=\"24px\"viewBox=\"0 0 24 24\"\n",
              "       width=\"24px\">\n",
              "    <path d=\"M0 0h24v24H0V0z\" fill=\"none\"/>\n",
              "    <path d=\"M18.56 5.44l.94 2.06.94-2.06 2.06-.94-2.06-.94-.94-2.06-.94 2.06-2.06.94zm-11 1L8.5 8.5l.94-2.06 2.06-.94-2.06-.94L8.5 2.5l-.94 2.06-2.06.94zm10 10l.94 2.06.94-2.06 2.06-.94-2.06-.94-.94-2.06-.94 2.06-2.06.94z\"/><path d=\"M17.41 7.96l-1.37-1.37c-.4-.4-.92-.59-1.43-.59-.52 0-1.04.2-1.43.59L10.3 9.45l-7.72 7.72c-.78.78-.78 2.05 0 2.83L4 21.41c.39.39.9.59 1.41.59.51 0 1.02-.2 1.41-.59l7.78-7.78 2.81-2.81c.8-.78.8-2.07 0-2.86zM5.41 20L4 18.59l7.72-7.72 1.47 1.35L5.41 20z\"/>\n",
              "  </svg>\n",
              "      </button>\n",
              "      \n",
              "  <style>\n",
              "    .colab-df-container {\n",
              "      display:flex;\n",
              "      flex-wrap:wrap;\n",
              "      gap: 12px;\n",
              "    }\n",
              "\n",
              "    .colab-df-convert {\n",
              "      background-color: #E8F0FE;\n",
              "      border: none;\n",
              "      border-radius: 50%;\n",
              "      cursor: pointer;\n",
              "      display: none;\n",
              "      fill: #1967D2;\n",
              "      height: 32px;\n",
              "      padding: 0 0 0 0;\n",
              "      width: 32px;\n",
              "    }\n",
              "\n",
              "    .colab-df-convert:hover {\n",
              "      background-color: #E2EBFA;\n",
              "      box-shadow: 0px 1px 2px rgba(60, 64, 67, 0.3), 0px 1px 3px 1px rgba(60, 64, 67, 0.15);\n",
              "      fill: #174EA6;\n",
              "    }\n",
              "\n",
              "    [theme=dark] .colab-df-convert {\n",
              "      background-color: #3B4455;\n",
              "      fill: #D2E3FC;\n",
              "    }\n",
              "\n",
              "    [theme=dark] .colab-df-convert:hover {\n",
              "      background-color: #434B5C;\n",
              "      box-shadow: 0px 1px 3px 1px rgba(0, 0, 0, 0.15);\n",
              "      filter: drop-shadow(0px 1px 2px rgba(0, 0, 0, 0.3));\n",
              "      fill: #FFFFFF;\n",
              "    }\n",
              "  </style>\n",
              "\n",
              "      <script>\n",
              "        const buttonEl =\n",
              "          document.querySelector('#df-feda6629-cc91-400d-be3b-2039909402e9 button.colab-df-convert');\n",
              "        buttonEl.style.display =\n",
              "          google.colab.kernel.accessAllowed ? 'block' : 'none';\n",
              "\n",
              "        async function convertToInteractive(key) {\n",
              "          const element = document.querySelector('#df-feda6629-cc91-400d-be3b-2039909402e9');\n",
              "          const dataTable =\n",
              "            await google.colab.kernel.invokeFunction('convertToInteractive',\n",
              "                                                     [key], {});\n",
              "          if (!dataTable) return;\n",
              "\n",
              "          const docLinkHtml = 'Like what you see? Visit the ' +\n",
              "            '<a target=\"_blank\" href=https://colab.research.google.com/notebooks/data_table.ipynb>data table notebook</a>'\n",
              "            + ' to learn more about interactive tables.';\n",
              "          element.innerHTML = '';\n",
              "          dataTable['output_type'] = 'display_data';\n",
              "          await google.colab.output.renderOutput(dataTable, element);\n",
              "          const docLink = document.createElement('div');\n",
              "          docLink.innerHTML = docLinkHtml;\n",
              "          element.appendChild(docLink);\n",
              "        }\n",
              "      </script>\n",
              "    </div>\n",
              "  </div>\n",
              "  "
            ]
          },
          "metadata": {},
          "execution_count": 5
        }
      ]
    },
    {
      "cell_type": "code",
      "source": [
        "df.shape    #(row,col)"
      ],
      "metadata": {
        "colab": {
          "base_uri": "https://localhost:8080/"
        },
        "id": "QwI2pupgyF2Z",
        "outputId": "bb62fd68-6041-4228-b5dc-e66f59f5e4f3"
      },
      "execution_count": null,
      "outputs": [
        {
          "output_type": "execute_result",
          "data": {
            "text/plain": [
              "(89096, 76)"
            ]
          },
          "metadata": {},
          "execution_count": 6
        }
      ]
    },
    {
      "cell_type": "code",
      "source": [
        "sorted(list(set(df[target])))"
      ],
      "metadata": {
        "colab": {
          "base_uri": "https://localhost:8080/"
        },
        "id": "xDS9cPMeyJ3J",
        "outputId": "134dc463-a9ef-4568-f427-73ceed282ef7"
      },
      "execution_count": null,
      "outputs": [
        {
          "output_type": "execute_result",
          "data": {
            "text/plain": [
              "['NREM', 'REM']"
            ]
          },
          "metadata": {},
          "execution_count": 7
        }
      ]
    },
    {
      "cell_type": "code",
      "source": [
        "df.info()"
      ],
      "metadata": {
        "colab": {
          "base_uri": "https://localhost:8080/"
        },
        "id": "baR_eJaoy6cU",
        "outputId": "9484aee8-bf33-4fb7-e068-df88f061b3ea"
      },
      "execution_count": null,
      "outputs": [
        {
          "output_type": "stream",
          "name": "stdout",
          "text": [
            "<class 'pandas.core.frame.DataFrame'>\n",
            "RangeIndex: 89096 entries, 0 to 89095\n",
            "Data columns (total 76 columns):\n",
            " #   Column                  Non-Null Count  Dtype  \n",
            "---  ------                  --------------  -----  \n",
            " 0   Sleep_Stage             89096 non-null  object \n",
            " 1   MeanP_Alpha_F4          89096 non-null  float64\n",
            " 2   MedianF_Alpha_F4        89096 non-null  float64\n",
            " 3   MeanF_Alpha_F4          89096 non-null  float64\n",
            " 4   Spectral Edge_Alpha_F4  89096 non-null  float64\n",
            " 5   PeakF_Alpha_F4          89096 non-null  float64\n",
            " 6   MeanP_Beta_F4           89096 non-null  float64\n",
            " 7   MedianF_Beta_F4         89096 non-null  float64\n",
            " 8   MeanF_Beta_F4           89096 non-null  float64\n",
            " 9   Spectral Edge_Beta_F4   89096 non-null  float64\n",
            " 10  PeakF_Beta_F4           89096 non-null  float64\n",
            " 11  MeanP_Theta_F4          89096 non-null  float64\n",
            " 12  MedianF_Theta_F4        89096 non-null  float64\n",
            " 13  MeanF_Theta_F4          89096 non-null  float64\n",
            " 14  Spectral Edge_Theta_F4  89096 non-null  float64\n",
            " 15  PeakF_Theta_F4          89096 non-null  float64\n",
            " 16  MeanP_Delta_F4          89096 non-null  float64\n",
            " 17  MedianF_Delta_F4        89096 non-null  float64\n",
            " 18  MeanF_Delta_F4          89096 non-null  float64\n",
            " 19  Spectral Edge_Delta_F4  89096 non-null  float64\n",
            " 20  PeakF_Delta_F4          89096 non-null  float64\n",
            " 21  MeanP_Gamma_F4          89096 non-null  float64\n",
            " 22  MedianF_Gamma_F4        89096 non-null  float64\n",
            " 23  MeanF_Gamma_F4          89096 non-null  float64\n",
            " 24  Spectral Edge_Gamma_F4  89096 non-null  float64\n",
            " 25  PeakF_Gamma_F4          89096 non-null  float64\n",
            " 26  MeanP_Alpha_C4          89096 non-null  float64\n",
            " 27  MedianF_Alpha_C4        89096 non-null  float64\n",
            " 28  MeanF_Alpha_C4          89096 non-null  float64\n",
            " 29  Spectral Edge_Alpha_C4  89096 non-null  float64\n",
            " 30  PeakF_Alpha_C4          89096 non-null  float64\n",
            " 31  MeanP_Beta_C4           89096 non-null  float64\n",
            " 32  MedianF_Beta_C4         89096 non-null  float64\n",
            " 33  MeanF_Beta_C4           89096 non-null  float64\n",
            " 34  Spectral Edge_Beta_C4   89096 non-null  float64\n",
            " 35  PeakF_Beta_C4           89096 non-null  float64\n",
            " 36  MeanP_Theta_C4          89096 non-null  float64\n",
            " 37  MedianF_Theta_C4        89096 non-null  float64\n",
            " 38  MeanF_Theta_C4          89096 non-null  float64\n",
            " 39  Spectral Edge_Theta_C4  89096 non-null  float64\n",
            " 40  PeakF_Theta_C4          89096 non-null  float64\n",
            " 41  MeanP_Delta_C4          89096 non-null  float64\n",
            " 42  MedianF_Delta_C4        89096 non-null  float64\n",
            " 43  MeanF_Delta_C4          89096 non-null  float64\n",
            " 44  Spectral Edge_Delta_C4  89096 non-null  float64\n",
            " 45  PeakF_Delta_C4          89096 non-null  float64\n",
            " 46  MeanP_Gamma_C4          89096 non-null  float64\n",
            " 47  MedianF_Gamma_C4        89096 non-null  float64\n",
            " 48  MeanF_Gamma_C4          89096 non-null  float64\n",
            " 49  Spectral Edge_Gamma_C4  89096 non-null  float64\n",
            " 50  PeakF_Gamma_C4          89096 non-null  float64\n",
            " 51  MeanP_Alpha_O2          89096 non-null  float64\n",
            " 52  MedianF_Alpha_O2        89096 non-null  float64\n",
            " 53  MeanF_Alpha_O2          89096 non-null  float64\n",
            " 54  Spectral Edge_Alpha_O2  89096 non-null  float64\n",
            " 55  PeakF_Alpha_O2          89096 non-null  float64\n",
            " 56  MeanP_Beta_O2           89096 non-null  float64\n",
            " 57  MedianF_Beta_O2         89096 non-null  float64\n",
            " 58  MeanF_Beta_O2           89096 non-null  float64\n",
            " 59  Spectral Edge_Beta_O2   89096 non-null  float64\n",
            " 60  PeakF_Beta_O2           89096 non-null  float64\n",
            " 61  MeanP_Theta_O2          89096 non-null  float64\n",
            " 62  MedianF_Theta_O2        89096 non-null  float64\n",
            " 63  MeanF_Theta_O2          89096 non-null  float64\n",
            " 64  Spectral Edge_Theta_O2  89096 non-null  float64\n",
            " 65  PeakF_Theta_O2          89096 non-null  float64\n",
            " 66  MeanP_Delta_O2          89096 non-null  float64\n",
            " 67  MedianF_Delta_O2        89096 non-null  float64\n",
            " 68  MeanF_Delta_O2          89096 non-null  float64\n",
            " 69  Spectral Edge_Delta_O2  89096 non-null  float64\n",
            " 70  PeakF_Delta_O2          89096 non-null  float64\n",
            " 71  MeanP_Gamma_O2          89096 non-null  float64\n",
            " 72  MedianF_Gamma_O2        89096 non-null  float64\n",
            " 73  MeanF_Gamma_O2          89096 non-null  float64\n",
            " 74  Spectral Edge_Gamma_O2  89096 non-null  float64\n",
            " 75  PeakF_Gamma_O2          89096 non-null  float64\n",
            "dtypes: float64(75), object(1)\n",
            "memory usage: 51.7+ MB\n"
          ]
        }
      ]
    },
    {
      "cell_type": "code",
      "source": [
        "new_data = divide_dataset(df,0.08,1)"
      ],
      "metadata": {
        "id": "ohj8Yh9FHFsB"
      },
      "execution_count": null,
      "outputs": []
    },
    {
      "cell_type": "code",
      "source": [
        "new_data.shape"
      ],
      "metadata": {
        "id": "Q4gpvT_RHS4Q",
        "outputId": "ecd36f16-d4ab-4ae4-f9b1-19844e021748",
        "colab": {
          "base_uri": "https://localhost:8080/"
        }
      },
      "execution_count": null,
      "outputs": [
        {
          "output_type": "execute_result",
          "data": {
            "text/plain": [
              "(7127, 76)"
            ]
          },
          "metadata": {},
          "execution_count": 12
        }
      ]
    },
    {
      "cell_type": "code",
      "source": [
        "df = new_data"
      ],
      "metadata": {
        "id": "riXCL0FzHfTr"
      },
      "execution_count": null,
      "outputs": []
    },
    {
      "cell_type": "markdown",
      "source": [
        "Label Encoding"
      ],
      "metadata": {
        "id": "LhDd7M9h0JYJ"
      }
    },
    {
      "cell_type": "code",
      "source": [
        "from sklearn.preprocessing import LabelEncoder\n",
        "\n",
        "encoder = LabelEncoder()\n",
        "\n",
        "df[target] = encoder.fit_transform(df[target])"
      ],
      "metadata": {
        "id": "w7upusgjzF1P"
      },
      "execution_count": null,
      "outputs": []
    },
    {
      "cell_type": "code",
      "source": [
        "sorted(list(set(df[target])))"
      ],
      "metadata": {
        "colab": {
          "base_uri": "https://localhost:8080/"
        },
        "id": "SrMVunOlz1Ii",
        "outputId": "d580fe50-5773-4c32-924b-cc418657f75d"
      },
      "execution_count": null,
      "outputs": [
        {
          "output_type": "execute_result",
          "data": {
            "text/plain": [
              "[0, 1]"
            ]
          },
          "metadata": {},
          "execution_count": 15
        }
      ]
    },
    {
      "cell_type": "code",
      "source": [
        "df.info()"
      ],
      "metadata": {
        "colab": {
          "base_uri": "https://localhost:8080/"
        },
        "id": "5KFPzEGpz43Q",
        "outputId": "76e18e7d-7caa-4fb2-97ba-e242b030be02"
      },
      "execution_count": null,
      "outputs": [
        {
          "output_type": "stream",
          "name": "stdout",
          "text": [
            "<class 'pandas.core.frame.DataFrame'>\n",
            "Int64Index: 7127 entries, 70998 to 54037\n",
            "Data columns (total 76 columns):\n",
            " #   Column                  Non-Null Count  Dtype  \n",
            "---  ------                  --------------  -----  \n",
            " 0   Sleep_Stage             7127 non-null   int64  \n",
            " 1   MeanP_Alpha_F4          7127 non-null   float64\n",
            " 2   MedianF_Alpha_F4        7127 non-null   float64\n",
            " 3   MeanF_Alpha_F4          7127 non-null   float64\n",
            " 4   Spectral Edge_Alpha_F4  7127 non-null   float64\n",
            " 5   PeakF_Alpha_F4          7127 non-null   float64\n",
            " 6   MeanP_Beta_F4           7127 non-null   float64\n",
            " 7   MedianF_Beta_F4         7127 non-null   float64\n",
            " 8   MeanF_Beta_F4           7127 non-null   float64\n",
            " 9   Spectral Edge_Beta_F4   7127 non-null   float64\n",
            " 10  PeakF_Beta_F4           7127 non-null   float64\n",
            " 11  MeanP_Theta_F4          7127 non-null   float64\n",
            " 12  MedianF_Theta_F4        7127 non-null   float64\n",
            " 13  MeanF_Theta_F4          7127 non-null   float64\n",
            " 14  Spectral Edge_Theta_F4  7127 non-null   float64\n",
            " 15  PeakF_Theta_F4          7127 non-null   float64\n",
            " 16  MeanP_Delta_F4          7127 non-null   float64\n",
            " 17  MedianF_Delta_F4        7127 non-null   float64\n",
            " 18  MeanF_Delta_F4          7127 non-null   float64\n",
            " 19  Spectral Edge_Delta_F4  7127 non-null   float64\n",
            " 20  PeakF_Delta_F4          7127 non-null   float64\n",
            " 21  MeanP_Gamma_F4          7127 non-null   float64\n",
            " 22  MedianF_Gamma_F4        7127 non-null   float64\n",
            " 23  MeanF_Gamma_F4          7127 non-null   float64\n",
            " 24  Spectral Edge_Gamma_F4  7127 non-null   float64\n",
            " 25  PeakF_Gamma_F4          7127 non-null   float64\n",
            " 26  MeanP_Alpha_C4          7127 non-null   float64\n",
            " 27  MedianF_Alpha_C4        7127 non-null   float64\n",
            " 28  MeanF_Alpha_C4          7127 non-null   float64\n",
            " 29  Spectral Edge_Alpha_C4  7127 non-null   float64\n",
            " 30  PeakF_Alpha_C4          7127 non-null   float64\n",
            " 31  MeanP_Beta_C4           7127 non-null   float64\n",
            " 32  MedianF_Beta_C4         7127 non-null   float64\n",
            " 33  MeanF_Beta_C4           7127 non-null   float64\n",
            " 34  Spectral Edge_Beta_C4   7127 non-null   float64\n",
            " 35  PeakF_Beta_C4           7127 non-null   float64\n",
            " 36  MeanP_Theta_C4          7127 non-null   float64\n",
            " 37  MedianF_Theta_C4        7127 non-null   float64\n",
            " 38  MeanF_Theta_C4          7127 non-null   float64\n",
            " 39  Spectral Edge_Theta_C4  7127 non-null   float64\n",
            " 40  PeakF_Theta_C4          7127 non-null   float64\n",
            " 41  MeanP_Delta_C4          7127 non-null   float64\n",
            " 42  MedianF_Delta_C4        7127 non-null   float64\n",
            " 43  MeanF_Delta_C4          7127 non-null   float64\n",
            " 44  Spectral Edge_Delta_C4  7127 non-null   float64\n",
            " 45  PeakF_Delta_C4          7127 non-null   float64\n",
            " 46  MeanP_Gamma_C4          7127 non-null   float64\n",
            " 47  MedianF_Gamma_C4        7127 non-null   float64\n",
            " 48  MeanF_Gamma_C4          7127 non-null   float64\n",
            " 49  Spectral Edge_Gamma_C4  7127 non-null   float64\n",
            " 50  PeakF_Gamma_C4          7127 non-null   float64\n",
            " 51  MeanP_Alpha_O2          7127 non-null   float64\n",
            " 52  MedianF_Alpha_O2        7127 non-null   float64\n",
            " 53  MeanF_Alpha_O2          7127 non-null   float64\n",
            " 54  Spectral Edge_Alpha_O2  7127 non-null   float64\n",
            " 55  PeakF_Alpha_O2          7127 non-null   float64\n",
            " 56  MeanP_Beta_O2           7127 non-null   float64\n",
            " 57  MedianF_Beta_O2         7127 non-null   float64\n",
            " 58  MeanF_Beta_O2           7127 non-null   float64\n",
            " 59  Spectral Edge_Beta_O2   7127 non-null   float64\n",
            " 60  PeakF_Beta_O2           7127 non-null   float64\n",
            " 61  MeanP_Theta_O2          7127 non-null   float64\n",
            " 62  MedianF_Theta_O2        7127 non-null   float64\n",
            " 63  MeanF_Theta_O2          7127 non-null   float64\n",
            " 64  Spectral Edge_Theta_O2  7127 non-null   float64\n",
            " 65  PeakF_Theta_O2          7127 non-null   float64\n",
            " 66  MeanP_Delta_O2          7127 non-null   float64\n",
            " 67  MedianF_Delta_O2        7127 non-null   float64\n",
            " 68  MeanF_Delta_O2          7127 non-null   float64\n",
            " 69  Spectral Edge_Delta_O2  7127 non-null   float64\n",
            " 70  PeakF_Delta_O2          7127 non-null   float64\n",
            " 71  MeanP_Gamma_O2          7127 non-null   float64\n",
            " 72  MedianF_Gamma_O2        7127 non-null   float64\n",
            " 73  MeanF_Gamma_O2          7127 non-null   float64\n",
            " 74  Spectral Edge_Gamma_O2  7127 non-null   float64\n",
            " 75  PeakF_Gamma_O2          7127 non-null   float64\n",
            "dtypes: float64(75), int64(1)\n",
            "memory usage: 4.2 MB\n"
          ]
        }
      ]
    },
    {
      "cell_type": "markdown",
      "source": [
        "Dataset Spliting"
      ],
      "metadata": {
        "id": "3KgKZ33e0Mim"
      }
    },
    {
      "cell_type": "code",
      "source": [
        "x = df.loc[:,df.columns != target]       #df.loc[starting_row : ending row, list_of_columns]\n",
        "\n",
        "y = df[target]"
      ],
      "metadata": {
        "id": "yON5bfKcz6ck"
      },
      "execution_count": null,
      "outputs": []
    },
    {
      "cell_type": "code",
      "source": [
        "x.head()"
      ],
      "metadata": {
        "colab": {
          "base_uri": "https://localhost:8080/",
          "height": 317
        },
        "id": "FSihjTbU09lu",
        "outputId": "960953ee-5b68-4c9f-ec7d-13a1515df50d"
      },
      "execution_count": null,
      "outputs": [
        {
          "output_type": "execute_result",
          "data": {
            "text/plain": [
              "       MeanP_Alpha_F4  MedianF_Alpha_F4  MeanF_Alpha_F4  \\\n",
              "70998        0.000720          10.73951        17.98244   \n",
              "64453        0.000920           8.86634        14.11122   \n",
              "77121        0.000610           9.99024        16.98341   \n",
              "60845        0.000540          10.11512        15.23512   \n",
              "72280        0.000073           8.49171        15.60976   \n",
              "\n",
              "       Spectral Edge_Alpha_F4  PeakF_Alpha_F4  MeanP_Beta_F4  MedianF_Beta_F4  \\\n",
              "70998                17.73268         6.74341       0.001020         17.73268   \n",
              "64453                13.36195         8.11707       0.000640         12.98732   \n",
              "77121                16.48390         8.24195       0.000670         15.85951   \n",
              "60845                14.48585        12.23805       0.000490         13.61171   \n",
              "72280                14.36098         5.74439       0.000061         15.60976   \n",
              "\n",
              "       MeanF_Beta_F4  Spectral Edge_Beta_F4  PeakF_Beta_F4  ...  \\\n",
              "70998       25.47512               26.84878       16.73366  ...   \n",
              "64453       25.10049               26.47415       10.86439  ...   \n",
              "77121       22.85268               24.22634       14.36098  ...   \n",
              "60845       22.72780               23.72683       12.23805  ...   \n",
              "72280       26.84878               30.09561       49.95122  ...   \n",
              "\n",
              "       MeanP_Delta_O2  MedianF_Delta_O2  MeanF_Delta_O2  \\\n",
              "70998         0.00092           1.74829         7.61756   \n",
              "64453         0.01073           1.62341         5.36976   \n",
              "77121         0.00130           0.87415         6.86829   \n",
              "60845         0.00414           0.74927         6.11902   \n",
              "72280         0.00155           1.37366         6.11902   \n",
              "\n",
              "       Spectral Edge_Delta_O2  PeakF_Delta_O2  MeanP_Gamma_O2  \\\n",
              "70998                 4.24585         0.74927        0.000078   \n",
              "64453                 3.12195         1.24878        0.000360   \n",
              "77121                 3.12195         0.74927        0.000040   \n",
              "60845                 2.37268         0.62439        0.000073   \n",
              "72280                 3.74634         1.12390        0.000026   \n",
              "\n",
              "       MedianF_Gamma_O2  MeanF_Gamma_O2  Spectral Edge_Gamma_O2  \\\n",
              "70998          26.22439        32.84293                38.96195   \n",
              "64453          49.82634        49.82634                49.95122   \n",
              "77121          27.59805        40.46049                49.82634   \n",
              "60845          31.09463        49.57659                49.95122   \n",
              "72280          33.34244        49.70146                49.95122   \n",
              "\n",
              "       PeakF_Gamma_O2  \n",
              "70998        21.35415  \n",
              "64453        49.95122  \n",
              "77121        49.95122  \n",
              "60845        49.95122  \n",
              "72280        49.95122  \n",
              "\n",
              "[5 rows x 75 columns]"
            ],
            "text/html": [
              "\n",
              "  <div id=\"df-d0d71672-68a9-474e-bcb4-a685d6e7e2f7\">\n",
              "    <div class=\"colab-df-container\">\n",
              "      <div>\n",
              "<style scoped>\n",
              "    .dataframe tbody tr th:only-of-type {\n",
              "        vertical-align: middle;\n",
              "    }\n",
              "\n",
              "    .dataframe tbody tr th {\n",
              "        vertical-align: top;\n",
              "    }\n",
              "\n",
              "    .dataframe thead th {\n",
              "        text-align: right;\n",
              "    }\n",
              "</style>\n",
              "<table border=\"1\" class=\"dataframe\">\n",
              "  <thead>\n",
              "    <tr style=\"text-align: right;\">\n",
              "      <th></th>\n",
              "      <th>MeanP_Alpha_F4</th>\n",
              "      <th>MedianF_Alpha_F4</th>\n",
              "      <th>MeanF_Alpha_F4</th>\n",
              "      <th>Spectral Edge_Alpha_F4</th>\n",
              "      <th>PeakF_Alpha_F4</th>\n",
              "      <th>MeanP_Beta_F4</th>\n",
              "      <th>MedianF_Beta_F4</th>\n",
              "      <th>MeanF_Beta_F4</th>\n",
              "      <th>Spectral Edge_Beta_F4</th>\n",
              "      <th>PeakF_Beta_F4</th>\n",
              "      <th>...</th>\n",
              "      <th>MeanP_Delta_O2</th>\n",
              "      <th>MedianF_Delta_O2</th>\n",
              "      <th>MeanF_Delta_O2</th>\n",
              "      <th>Spectral Edge_Delta_O2</th>\n",
              "      <th>PeakF_Delta_O2</th>\n",
              "      <th>MeanP_Gamma_O2</th>\n",
              "      <th>MedianF_Gamma_O2</th>\n",
              "      <th>MeanF_Gamma_O2</th>\n",
              "      <th>Spectral Edge_Gamma_O2</th>\n",
              "      <th>PeakF_Gamma_O2</th>\n",
              "    </tr>\n",
              "  </thead>\n",
              "  <tbody>\n",
              "    <tr>\n",
              "      <th>70998</th>\n",
              "      <td>0.000720</td>\n",
              "      <td>10.73951</td>\n",
              "      <td>17.98244</td>\n",
              "      <td>17.73268</td>\n",
              "      <td>6.74341</td>\n",
              "      <td>0.001020</td>\n",
              "      <td>17.73268</td>\n",
              "      <td>25.47512</td>\n",
              "      <td>26.84878</td>\n",
              "      <td>16.73366</td>\n",
              "      <td>...</td>\n",
              "      <td>0.00092</td>\n",
              "      <td>1.74829</td>\n",
              "      <td>7.61756</td>\n",
              "      <td>4.24585</td>\n",
              "      <td>0.74927</td>\n",
              "      <td>0.000078</td>\n",
              "      <td>26.22439</td>\n",
              "      <td>32.84293</td>\n",
              "      <td>38.96195</td>\n",
              "      <td>21.35415</td>\n",
              "    </tr>\n",
              "    <tr>\n",
              "      <th>64453</th>\n",
              "      <td>0.000920</td>\n",
              "      <td>8.86634</td>\n",
              "      <td>14.11122</td>\n",
              "      <td>13.36195</td>\n",
              "      <td>8.11707</td>\n",
              "      <td>0.000640</td>\n",
              "      <td>12.98732</td>\n",
              "      <td>25.10049</td>\n",
              "      <td>26.47415</td>\n",
              "      <td>10.86439</td>\n",
              "      <td>...</td>\n",
              "      <td>0.01073</td>\n",
              "      <td>1.62341</td>\n",
              "      <td>5.36976</td>\n",
              "      <td>3.12195</td>\n",
              "      <td>1.24878</td>\n",
              "      <td>0.000360</td>\n",
              "      <td>49.82634</td>\n",
              "      <td>49.82634</td>\n",
              "      <td>49.95122</td>\n",
              "      <td>49.95122</td>\n",
              "    </tr>\n",
              "    <tr>\n",
              "      <th>77121</th>\n",
              "      <td>0.000610</td>\n",
              "      <td>9.99024</td>\n",
              "      <td>16.98341</td>\n",
              "      <td>16.48390</td>\n",
              "      <td>8.24195</td>\n",
              "      <td>0.000670</td>\n",
              "      <td>15.85951</td>\n",
              "      <td>22.85268</td>\n",
              "      <td>24.22634</td>\n",
              "      <td>14.36098</td>\n",
              "      <td>...</td>\n",
              "      <td>0.00130</td>\n",
              "      <td>0.87415</td>\n",
              "      <td>6.86829</td>\n",
              "      <td>3.12195</td>\n",
              "      <td>0.74927</td>\n",
              "      <td>0.000040</td>\n",
              "      <td>27.59805</td>\n",
              "      <td>40.46049</td>\n",
              "      <td>49.82634</td>\n",
              "      <td>49.95122</td>\n",
              "    </tr>\n",
              "    <tr>\n",
              "      <th>60845</th>\n",
              "      <td>0.000540</td>\n",
              "      <td>10.11512</td>\n",
              "      <td>15.23512</td>\n",
              "      <td>14.48585</td>\n",
              "      <td>12.23805</td>\n",
              "      <td>0.000490</td>\n",
              "      <td>13.61171</td>\n",
              "      <td>22.72780</td>\n",
              "      <td>23.72683</td>\n",
              "      <td>12.23805</td>\n",
              "      <td>...</td>\n",
              "      <td>0.00414</td>\n",
              "      <td>0.74927</td>\n",
              "      <td>6.11902</td>\n",
              "      <td>2.37268</td>\n",
              "      <td>0.62439</td>\n",
              "      <td>0.000073</td>\n",
              "      <td>31.09463</td>\n",
              "      <td>49.57659</td>\n",
              "      <td>49.95122</td>\n",
              "      <td>49.95122</td>\n",
              "    </tr>\n",
              "    <tr>\n",
              "      <th>72280</th>\n",
              "      <td>0.000073</td>\n",
              "      <td>8.49171</td>\n",
              "      <td>15.60976</td>\n",
              "      <td>14.36098</td>\n",
              "      <td>5.74439</td>\n",
              "      <td>0.000061</td>\n",
              "      <td>15.60976</td>\n",
              "      <td>26.84878</td>\n",
              "      <td>30.09561</td>\n",
              "      <td>49.95122</td>\n",
              "      <td>...</td>\n",
              "      <td>0.00155</td>\n",
              "      <td>1.37366</td>\n",
              "      <td>6.11902</td>\n",
              "      <td>3.74634</td>\n",
              "      <td>1.12390</td>\n",
              "      <td>0.000026</td>\n",
              "      <td>33.34244</td>\n",
              "      <td>49.70146</td>\n",
              "      <td>49.95122</td>\n",
              "      <td>49.95122</td>\n",
              "    </tr>\n",
              "  </tbody>\n",
              "</table>\n",
              "<p>5 rows × 75 columns</p>\n",
              "</div>\n",
              "      <button class=\"colab-df-convert\" onclick=\"convertToInteractive('df-d0d71672-68a9-474e-bcb4-a685d6e7e2f7')\"\n",
              "              title=\"Convert this dataframe to an interactive table.\"\n",
              "              style=\"display:none;\">\n",
              "        \n",
              "  <svg xmlns=\"http://www.w3.org/2000/svg\" height=\"24px\"viewBox=\"0 0 24 24\"\n",
              "       width=\"24px\">\n",
              "    <path d=\"M0 0h24v24H0V0z\" fill=\"none\"/>\n",
              "    <path d=\"M18.56 5.44l.94 2.06.94-2.06 2.06-.94-2.06-.94-.94-2.06-.94 2.06-2.06.94zm-11 1L8.5 8.5l.94-2.06 2.06-.94-2.06-.94L8.5 2.5l-.94 2.06-2.06.94zm10 10l.94 2.06.94-2.06 2.06-.94-2.06-.94-.94-2.06-.94 2.06-2.06.94z\"/><path d=\"M17.41 7.96l-1.37-1.37c-.4-.4-.92-.59-1.43-.59-.52 0-1.04.2-1.43.59L10.3 9.45l-7.72 7.72c-.78.78-.78 2.05 0 2.83L4 21.41c.39.39.9.59 1.41.59.51 0 1.02-.2 1.41-.59l7.78-7.78 2.81-2.81c.8-.78.8-2.07 0-2.86zM5.41 20L4 18.59l7.72-7.72 1.47 1.35L5.41 20z\"/>\n",
              "  </svg>\n",
              "      </button>\n",
              "      \n",
              "  <style>\n",
              "    .colab-df-container {\n",
              "      display:flex;\n",
              "      flex-wrap:wrap;\n",
              "      gap: 12px;\n",
              "    }\n",
              "\n",
              "    .colab-df-convert {\n",
              "      background-color: #E8F0FE;\n",
              "      border: none;\n",
              "      border-radius: 50%;\n",
              "      cursor: pointer;\n",
              "      display: none;\n",
              "      fill: #1967D2;\n",
              "      height: 32px;\n",
              "      padding: 0 0 0 0;\n",
              "      width: 32px;\n",
              "    }\n",
              "\n",
              "    .colab-df-convert:hover {\n",
              "      background-color: #E2EBFA;\n",
              "      box-shadow: 0px 1px 2px rgba(60, 64, 67, 0.3), 0px 1px 3px 1px rgba(60, 64, 67, 0.15);\n",
              "      fill: #174EA6;\n",
              "    }\n",
              "\n",
              "    [theme=dark] .colab-df-convert {\n",
              "      background-color: #3B4455;\n",
              "      fill: #D2E3FC;\n",
              "    }\n",
              "\n",
              "    [theme=dark] .colab-df-convert:hover {\n",
              "      background-color: #434B5C;\n",
              "      box-shadow: 0px 1px 3px 1px rgba(0, 0, 0, 0.15);\n",
              "      filter: drop-shadow(0px 1px 2px rgba(0, 0, 0, 0.3));\n",
              "      fill: #FFFFFF;\n",
              "    }\n",
              "  </style>\n",
              "\n",
              "      <script>\n",
              "        const buttonEl =\n",
              "          document.querySelector('#df-d0d71672-68a9-474e-bcb4-a685d6e7e2f7 button.colab-df-convert');\n",
              "        buttonEl.style.display =\n",
              "          google.colab.kernel.accessAllowed ? 'block' : 'none';\n",
              "\n",
              "        async function convertToInteractive(key) {\n",
              "          const element = document.querySelector('#df-d0d71672-68a9-474e-bcb4-a685d6e7e2f7');\n",
              "          const dataTable =\n",
              "            await google.colab.kernel.invokeFunction('convertToInteractive',\n",
              "                                                     [key], {});\n",
              "          if (!dataTable) return;\n",
              "\n",
              "          const docLinkHtml = 'Like what you see? Visit the ' +\n",
              "            '<a target=\"_blank\" href=https://colab.research.google.com/notebooks/data_table.ipynb>data table notebook</a>'\n",
              "            + ' to learn more about interactive tables.';\n",
              "          element.innerHTML = '';\n",
              "          dataTable['output_type'] = 'display_data';\n",
              "          await google.colab.output.renderOutput(dataTable, element);\n",
              "          const docLink = document.createElement('div');\n",
              "          docLink.innerHTML = docLinkHtml;\n",
              "          element.appendChild(docLink);\n",
              "        }\n",
              "      </script>\n",
              "    </div>\n",
              "  </div>\n",
              "  "
            ]
          },
          "metadata": {},
          "execution_count": 18
        }
      ]
    },
    {
      "cell_type": "code",
      "source": [
        "y.head()"
      ],
      "metadata": {
        "colab": {
          "base_uri": "https://localhost:8080/"
        },
        "id": "WTfKOcgU1AE2",
        "outputId": "1f0121fa-d205-4e28-c655-0c683a9da94f"
      },
      "execution_count": null,
      "outputs": [
        {
          "output_type": "execute_result",
          "data": {
            "text/plain": [
              "70998    1\n",
              "64453    0\n",
              "77121    0\n",
              "60845    0\n",
              "72280    1\n",
              "Name: Sleep_Stage, dtype: int64"
            ]
          },
          "metadata": {},
          "execution_count": 19
        }
      ]
    },
    {
      "cell_type": "markdown",
      "source": [
        "Dataset Spliting for train & test"
      ],
      "metadata": {
        "id": "d-ScvOF01KEl"
      }
    },
    {
      "cell_type": "code",
      "source": [
        "from sklearn.model_selection import train_test_split\n",
        "\n",
        "x_train, x_test, y_train, y_test = train_test_split(x,y,test_size = 0.2)"
      ],
      "metadata": {
        "id": "HFOmjMtu1CJr"
      },
      "execution_count": null,
      "outputs": []
    },
    {
      "cell_type": "code",
      "source": [
        "df[target].value_counts()"
      ],
      "metadata": {
        "colab": {
          "base_uri": "https://localhost:8080/"
        },
        "id": "pgc_rl615S5j",
        "outputId": "72c1af50-5d74-4ed8-cc8a-7b4bea6a6f3c"
      },
      "execution_count": null,
      "outputs": [
        {
          "output_type": "execute_result",
          "data": {
            "text/plain": [
              "0    5828\n",
              "1    1299\n",
              "Name: Sleep_Stage, dtype: int64"
            ]
          },
          "metadata": {},
          "execution_count": 21
        }
      ]
    },
    {
      "cell_type": "code",
      "source": [
        "y_train.value_counts()"
      ],
      "metadata": {
        "colab": {
          "base_uri": "https://localhost:8080/"
        },
        "id": "NV-KL6pB6zUh",
        "outputId": "80740ba0-969f-427f-9224-6810ba3baa08"
      },
      "execution_count": null,
      "outputs": [
        {
          "output_type": "execute_result",
          "data": {
            "text/plain": [
              "0    4680\n",
              "1    1021\n",
              "Name: Sleep_Stage, dtype: int64"
            ]
          },
          "metadata": {},
          "execution_count": 22
        }
      ]
    },
    {
      "cell_type": "code",
      "source": [
        "x_train, y_train = balance(x_train, y_train)"
      ],
      "metadata": {
        "id": "z5iCKRaI-hZM"
      },
      "execution_count": null,
      "outputs": []
    },
    {
      "cell_type": "code",
      "source": [
        "y_train.value_counts()"
      ],
      "metadata": {
        "colab": {
          "base_uri": "https://localhost:8080/"
        },
        "id": "jn9JGYWdCxqD",
        "outputId": "1d8eb3f1-21e5-4fa7-b539-6aa807c24ea7"
      },
      "execution_count": null,
      "outputs": [
        {
          "output_type": "execute_result",
          "data": {
            "text/plain": [
              "1    4680\n",
              "0    4680\n",
              "Name: Sleep_Stage, dtype: int64"
            ]
          },
          "metadata": {},
          "execution_count": 24
        }
      ]
    },
    {
      "cell_type": "markdown",
      "source": [
        "**Training Phase**"
      ],
      "metadata": {
        "id": "cRBefHc2DIEE"
      }
    },
    {
      "cell_type": "markdown",
      "source": [
        "Random Forest"
      ],
      "metadata": {
        "id": "l4z2hBWeDNUE"
      }
    },
    {
      "cell_type": "code",
      "source": [
        "%%time\n",
        "from sklearn.ensemble import RandomForestClassifier\n",
        "\n",
        "rf = RandomForestClassifier()\n",
        "\n",
        "rf.fit(x_train, y_train)\n",
        "\n"
      ],
      "metadata": {
        "colab": {
          "base_uri": "https://localhost:8080/",
          "height": 112
        },
        "id": "l-FgzVNRCz2f",
        "outputId": "5755fb73-e56d-47c5-abf3-34633a742dd6"
      },
      "execution_count": null,
      "outputs": [
        {
          "output_type": "stream",
          "name": "stdout",
          "text": [
            "CPU times: user 6.63 s, sys: 0 ns, total: 6.63 s\n",
            "Wall time: 6.65 s\n"
          ]
        },
        {
          "output_type": "execute_result",
          "data": {
            "text/plain": [
              "RandomForestClassifier()"
            ],
            "text/html": [
              "<style>#sk-container-id-1 {color: black;background-color: white;}#sk-container-id-1 pre{padding: 0;}#sk-container-id-1 div.sk-toggleable {background-color: white;}#sk-container-id-1 label.sk-toggleable__label {cursor: pointer;display: block;width: 100%;margin-bottom: 0;padding: 0.3em;box-sizing: border-box;text-align: center;}#sk-container-id-1 label.sk-toggleable__label-arrow:before {content: \"▸\";float: left;margin-right: 0.25em;color: #696969;}#sk-container-id-1 label.sk-toggleable__label-arrow:hover:before {color: black;}#sk-container-id-1 div.sk-estimator:hover label.sk-toggleable__label-arrow:before {color: black;}#sk-container-id-1 div.sk-toggleable__content {max-height: 0;max-width: 0;overflow: hidden;text-align: left;background-color: #f0f8ff;}#sk-container-id-1 div.sk-toggleable__content pre {margin: 0.2em;color: black;border-radius: 0.25em;background-color: #f0f8ff;}#sk-container-id-1 input.sk-toggleable__control:checked~div.sk-toggleable__content {max-height: 200px;max-width: 100%;overflow: auto;}#sk-container-id-1 input.sk-toggleable__control:checked~label.sk-toggleable__label-arrow:before {content: \"▾\";}#sk-container-id-1 div.sk-estimator input.sk-toggleable__control:checked~label.sk-toggleable__label {background-color: #d4ebff;}#sk-container-id-1 div.sk-label input.sk-toggleable__control:checked~label.sk-toggleable__label {background-color: #d4ebff;}#sk-container-id-1 input.sk-hidden--visually {border: 0;clip: rect(1px 1px 1px 1px);clip: rect(1px, 1px, 1px, 1px);height: 1px;margin: -1px;overflow: hidden;padding: 0;position: absolute;width: 1px;}#sk-container-id-1 div.sk-estimator {font-family: monospace;background-color: #f0f8ff;border: 1px dotted black;border-radius: 0.25em;box-sizing: border-box;margin-bottom: 0.5em;}#sk-container-id-1 div.sk-estimator:hover {background-color: #d4ebff;}#sk-container-id-1 div.sk-parallel-item::after {content: \"\";width: 100%;border-bottom: 1px solid gray;flex-grow: 1;}#sk-container-id-1 div.sk-label:hover label.sk-toggleable__label {background-color: #d4ebff;}#sk-container-id-1 div.sk-serial::before {content: \"\";position: absolute;border-left: 1px solid gray;box-sizing: border-box;top: 0;bottom: 0;left: 50%;z-index: 0;}#sk-container-id-1 div.sk-serial {display: flex;flex-direction: column;align-items: center;background-color: white;padding-right: 0.2em;padding-left: 0.2em;position: relative;}#sk-container-id-1 div.sk-item {position: relative;z-index: 1;}#sk-container-id-1 div.sk-parallel {display: flex;align-items: stretch;justify-content: center;background-color: white;position: relative;}#sk-container-id-1 div.sk-item::before, #sk-container-id-1 div.sk-parallel-item::before {content: \"\";position: absolute;border-left: 1px solid gray;box-sizing: border-box;top: 0;bottom: 0;left: 50%;z-index: -1;}#sk-container-id-1 div.sk-parallel-item {display: flex;flex-direction: column;z-index: 1;position: relative;background-color: white;}#sk-container-id-1 div.sk-parallel-item:first-child::after {align-self: flex-end;width: 50%;}#sk-container-id-1 div.sk-parallel-item:last-child::after {align-self: flex-start;width: 50%;}#sk-container-id-1 div.sk-parallel-item:only-child::after {width: 0;}#sk-container-id-1 div.sk-dashed-wrapped {border: 1px dashed gray;margin: 0 0.4em 0.5em 0.4em;box-sizing: border-box;padding-bottom: 0.4em;background-color: white;}#sk-container-id-1 div.sk-label label {font-family: monospace;font-weight: bold;display: inline-block;line-height: 1.2em;}#sk-container-id-1 div.sk-label-container {text-align: center;}#sk-container-id-1 div.sk-container {/* jupyter's `normalize.less` sets `[hidden] { display: none; }` but bootstrap.min.css set `[hidden] { display: none !important; }` so we also need the `!important` here to be able to override the default hidden behavior on the sphinx rendered scikit-learn.org. See: https://github.com/scikit-learn/scikit-learn/issues/21755 */display: inline-block !important;position: relative;}#sk-container-id-1 div.sk-text-repr-fallback {display: none;}</style><div id=\"sk-container-id-1\" class=\"sk-top-container\"><div class=\"sk-text-repr-fallback\"><pre>RandomForestClassifier()</pre><b>In a Jupyter environment, please rerun this cell to show the HTML representation or trust the notebook. <br />On GitHub, the HTML representation is unable to render, please try loading this page with nbviewer.org.</b></div><div class=\"sk-container\" hidden><div class=\"sk-item\"><div class=\"sk-estimator sk-toggleable\"><input class=\"sk-toggleable__control sk-hidden--visually\" id=\"sk-estimator-id-1\" type=\"checkbox\" checked><label for=\"sk-estimator-id-1\" class=\"sk-toggleable__label sk-toggleable__label-arrow\">RandomForestClassifier</label><div class=\"sk-toggleable__content\"><pre>RandomForestClassifier()</pre></div></div></div></div></div>"
            ]
          },
          "metadata": {},
          "execution_count": 25
        }
      ]
    },
    {
      "cell_type": "code",
      "source": [
        "y_pred = rf.predict(x_test)"
      ],
      "metadata": {
        "id": "C0u1IYuYFjjJ"
      },
      "execution_count": null,
      "outputs": []
    },
    {
      "cell_type": "code",
      "source": [
        "from sklearn.metrics import classification_report, confusion_matrix, accuracy_score\n",
        "\n",
        "print(confusion_matrix(y_test,y_pred))\n",
        "print(classification_report(y_test,y_pred))\n",
        "print(\"Accuracy: \",accuracy_score(y_test,y_pred))"
      ],
      "metadata": {
        "colab": {
          "base_uri": "https://localhost:8080/"
        },
        "id": "GA6VP7NeHVa9",
        "outputId": "e0472d2b-b99b-4e82-be5a-757029624f63"
      },
      "execution_count": null,
      "outputs": [
        {
          "output_type": "stream",
          "name": "stdout",
          "text": [
            "[[1056   92]\n",
            " [  69  209]]\n",
            "              precision    recall  f1-score   support\n",
            "\n",
            "           0       0.94      0.92      0.93      1148\n",
            "           1       0.69      0.75      0.72       278\n",
            "\n",
            "    accuracy                           0.89      1426\n",
            "   macro avg       0.82      0.84      0.83      1426\n",
            "weighted avg       0.89      0.89      0.89      1426\n",
            "\n",
            "Accuracy:  0.8870967741935484\n"
          ]
        }
      ]
    },
    {
      "cell_type": "markdown",
      "source": [
        "#Tunning"
      ],
      "metadata": {
        "id": "MJt9isXUH2rx"
      }
    },
    {
      "cell_type": "markdown",
      "source": [
        "##N estimator tunning"
      ],
      "metadata": {
        "id": "bZk0256hIt19"
      }
    },
    {
      "cell_type": "code",
      "source": [
        "from sklearn.ensemble import RandomForestClassifier\n",
        "from sklearn.metrics import accuracy_score\n",
        "N=400\n",
        "k_range = range (25,N+1,25)\n",
        "scores={}\n",
        "scores_list = []\n",
        "for k in k_range:\n",
        "  classifier = RandomForestClassifier(n_estimators=k)\n",
        "  classifier.fit(x_train, y_train)\n",
        "  y_pred=classifier.predict(x_test)\n",
        "  scores[k] = accuracy_score(y_test,y_pred)\n",
        "  scores_list.append(accuracy_score(y_test,y_pred))\n",
        "  print(str(k)+\"/\"+str(N)+\" round completed......................... Accurecy: \"+str(accuracy_score(y_test,y_pred)))\n",
        "\n",
        "\n",
        "\n",
        "%matplotlib inline\n",
        "import matplotlib.pyplot as plt\n",
        "\n",
        "plt.figure(figsize = (25,10))\n",
        "plt.plot(k_range,scores_list)\n",
        "plt.xlabel('Value of n_estimators')\n",
        "plt.ylabel ('Testing Accuracy')\n",
        "\n",
        "\n",
        "\n",
        "print(\"The best n_estimators:\")\n",
        "best_estimator=list(scores.keys())[scores_list.index(max(scores_list))]\n",
        "print(best_estimator)"
      ],
      "metadata": {
        "id": "a5qWXWZ-H1QQ",
        "outputId": "12466b11-e5dd-4747-c984-3fcb1d64c952",
        "colab": {
          "base_uri": "https://localhost:8080/",
          "height": 884
        }
      },
      "execution_count": null,
      "outputs": [
        {
          "output_type": "stream",
          "name": "stdout",
          "text": [
            "25/400 round completed......................... Accurecy: 0.8807854137447405\n",
            "50/400 round completed......................... Accurecy: 0.879382889200561\n",
            "75/400 round completed......................... Accurecy: 0.8814866760168303\n",
            "100/400 round completed......................... Accurecy: 0.8800841514726507\n",
            "125/400 round completed......................... Accurecy: 0.8856942496493688\n",
            "150/400 round completed......................... Accurecy: 0.8920056100981767\n",
            "175/400 round completed......................... Accurecy: 0.8870967741935484\n",
            "200/400 round completed......................... Accurecy: 0.8842917251051894\n",
            "225/400 round completed......................... Accurecy: 0.8821879382889201\n",
            "250/400 round completed......................... Accurecy: 0.8927068723702665\n",
            "275/400 round completed......................... Accurecy: 0.8877980364656382\n",
            "300/400 round completed......................... Accurecy: 0.884992987377279\n",
            "325/400 round completed......................... Accurecy: 0.8892005610098177\n",
            "350/400 round completed......................... Accurecy: 0.8884992987377279\n",
            "375/400 round completed......................... Accurecy: 0.884992987377279\n",
            "400/400 round completed......................... Accurecy: 0.8870967741935484\n",
            "The best n_estimators:\n",
            "250\n"
          ]
        },
        {
          "output_type": "display_data",
          "data": {
            "text/plain": [
              "<Figure size 2500x1000 with 1 Axes>"
            ],
            "image/png": "[encoded data removed]"
          },
          "metadata": {}
        }
      ]
    },
    {
      "cell_type": "markdown",
      "source": [
        "##Max Depth Tunning"
      ],
      "metadata": {
        "id": "d_P-_dBpJvGm"
      }
    },
    {
      "cell_type": "code",
      "source": [
        "from sklearn.ensemble import RandomForestClassifier\n",
        "from sklearn.metrics import accuracy_score\n",
        "N=100\n",
        "k_range = range (20,N+1)\n",
        "scores={}\n",
        "scores_list = []\n",
        "for k in k_range:\n",
        "  classifier = RandomForestClassifier(max_depth=k,random_state=0,n_jobs = -1)\n",
        "  classifier.fit(x_train, y_train)\n",
        "  y_pred=classifier.predict(x_test)\n",
        "  scores[k] = accuracy_score(y_test,y_pred)\n",
        "  scores_list.append(accuracy_score(y_test,y_pred))\n",
        "  print(str(k)+\"/\"+str(N)+\" round completed......................... Accurecy: \"+str(accuracy_score(y_test,y_pred)))\n",
        "\n",
        "\n",
        "\n",
        "%matplotlib inline\n",
        "import matplotlib.pyplot as plt\n",
        "\n",
        "plt.figure(figsize = (25,10))\n",
        "plt.plot(k_range,scores_list)\n",
        "plt.xlabel('Value of n_estimators')\n",
        "plt.ylabel ('Testing Accuracy')\n",
        "\n",
        "\n",
        "\n",
        "print(\"The best Depth:\")\n",
        "best_depth=list(scores.keys())[scores_list.index(max(scores_list))]\n",
        "print(best_depth)\n"
      ],
      "metadata": {
        "id": "de4XTSzgJxnQ",
        "outputId": "cae99a61-87b5-4aea-d48f-404137f35afb",
        "colab": {
          "base_uri": "https://localhost:8080/",
          "height": 1000
        }
      },
      "execution_count": null,
      "outputs": [
        {
          "output_type": "stream",
          "name": "stdout",
          "text": [
            "20/100 round completed......................... Accurecy: 0.884992987377279\n",
            "21/100 round completed......................... Accurecy: 0.8835904628330996\n",
            "22/100 round completed......................... Accurecy: 0.8899018232819075\n",
            "23/100 round completed......................... Accurecy: 0.8828892005610098\n",
            "24/100 round completed......................... Accurecy: 0.8899018232819075\n",
            "25/100 round completed......................... Accurecy: 0.8877980364656382\n",
            "26/100 round completed......................... Accurecy: 0.8884992987377279\n",
            "27/100 round completed......................... Accurecy: 0.8877980364656382\n",
            "28/100 round completed......................... Accurecy: 0.884992987377279\n",
            "29/100 round completed......................... Accurecy: 0.8899018232819075\n",
            "30/100 round completed......................... Accurecy: 0.8870967741935484\n",
            "31/100 round completed......................... Accurecy: 0.8906030855539971\n",
            "32/100 round completed......................... Accurecy: 0.8920056100981767\n",
            "33/100 round completed......................... Accurecy: 0.8892005610098177\n",
            "34/100 round completed......................... Accurecy: 0.8913043478260869\n",
            "35/100 round completed......................... Accurecy: 0.8906030855539971\n",
            "36/100 round completed......................... Accurecy: 0.8899018232819075\n",
            "37/100 round completed......................... Accurecy: 0.8899018232819075\n",
            "38/100 round completed......................... Accurecy: 0.8920056100981767\n",
            "39/100 round completed......................... Accurecy: 0.8920056100981767\n",
            "40/100 round completed......................... Accurecy: 0.8906030855539971\n",
            "41/100 round completed......................... Accurecy: 0.8899018232819075\n",
            "42/100 round completed......................... Accurecy: 0.8892005610098177\n",
            "43/100 round completed......................... Accurecy: 0.8892005610098177\n",
            "44/100 round completed......................... Accurecy: 0.8892005610098177\n",
            "45/100 round completed......................... Accurecy: 0.8892005610098177\n",
            "46/100 round completed......................... Accurecy: 0.8892005610098177\n",
            "47/100 round completed......................... Accurecy: 0.8892005610098177\n",
            "48/100 round completed......................... Accurecy: 0.8892005610098177\n",
            "49/100 round completed......................... Accurecy: 0.8892005610098177\n",
            "50/100 round completed......................... Accurecy: 0.8892005610098177\n",
            "51/100 round completed......................... Accurecy: 0.8892005610098177\n",
            "52/100 round completed......................... Accurecy: 0.8892005610098177\n",
            "53/100 round completed......................... Accurecy: 0.8892005610098177\n",
            "54/100 round completed......................... Accurecy: 0.8892005610098177\n",
            "55/100 round completed......................... Accurecy: 0.8892005610098177\n",
            "56/100 round completed......................... Accurecy: 0.8892005610098177\n",
            "57/100 round completed......................... Accurecy: 0.8892005610098177\n",
            "58/100 round completed......................... Accurecy: 0.8892005610098177\n",
            "59/100 round completed......................... Accurecy: 0.8892005610098177\n",
            "60/100 round completed......................... Accurecy: 0.8892005610098177\n",
            "61/100 round completed......................... Accurecy: 0.8892005610098177\n",
            "62/100 round completed......................... Accurecy: 0.8892005610098177\n",
            "63/100 round completed......................... Accurecy: 0.8892005610098177\n",
            "64/100 round completed......................... Accurecy: 0.8892005610098177\n",
            "65/100 round completed......................... Accurecy: 0.8892005610098177\n",
            "66/100 round completed......................... Accurecy: 0.8892005610098177\n",
            "67/100 round completed......................... Accurecy: 0.8892005610098177\n",
            "68/100 round completed......................... Accurecy: 0.8892005610098177\n",
            "69/100 round completed......................... Accurecy: 0.8892005610098177\n",
            "70/100 round completed......................... Accurecy: 0.8892005610098177\n",
            "71/100 round completed......................... Accurecy: 0.8892005610098177\n",
            "72/100 round completed......................... Accurecy: 0.8892005610098177\n",
            "73/100 round completed......................... Accurecy: 0.8892005610098177\n",
            "74/100 round completed......................... Accurecy: 0.8892005610098177\n",
            "75/100 round completed......................... Accurecy: 0.8892005610098177\n",
            "76/100 round completed......................... Accurecy: 0.8892005610098177\n",
            "77/100 round completed......................... Accurecy: 0.8892005610098177\n",
            "78/100 round completed......................... Accurecy: 0.8892005610098177\n",
            "79/100 round completed......................... Accurecy: 0.8892005610098177\n",
            "80/100 round completed......................... Accurecy: 0.8892005610098177\n",
            "81/100 round completed......................... Accurecy: 0.8892005610098177\n",
            "82/100 round completed......................... Accurecy: 0.8892005610098177\n",
            "83/100 round completed......................... Accurecy: 0.8892005610098177\n",
            "84/100 round completed......................... Accurecy: 0.8892005610098177\n",
            "85/100 round completed......................... Accurecy: 0.8892005610098177\n",
            "86/100 round completed......................... Accurecy: 0.8892005610098177\n",
            "87/100 round completed......................... Accurecy: 0.8892005610098177\n",
            "88/100 round completed......................... Accurecy: 0.8892005610098177\n",
            "89/100 round completed......................... Accurecy: 0.8892005610098177\n",
            "90/100 round completed......................... Accurecy: 0.8892005610098177\n",
            "91/100 round completed......................... Accurecy: 0.8892005610098177\n",
            "92/100 round completed......................... Accurecy: 0.8892005610098177\n",
            "93/100 round completed......................... Accurecy: 0.8892005610098177\n",
            "94/100 round completed......................... Accurecy: 0.8892005610098177\n",
            "95/100 round completed......................... Accurecy: 0.8892005610098177\n",
            "96/100 round completed......................... Accurecy: 0.8892005610098177\n",
            "97/100 round completed......................... Accurecy: 0.8892005610098177\n",
            "98/100 round completed......................... Accurecy: 0.8892005610098177\n",
            "99/100 round completed......................... Accurecy: 0.8892005610098177\n",
            "100/100 round completed......................... Accurecy: 0.8892005610098177\n",
            "The best Depth:\n",
            "32\n"
          ]
        },
        {
          "output_type": "display_data",
          "data": {
            "text/plain": [
              "<Figure size 2500x1000 with 1 Axes>"
            ],
            "image/png": "[encoded data removed]"
          },
          "metadata": {}
        }
      ]
    },
    {
      "cell_type": "markdown",
      "source": [
        "##Full dataset REading"
      ],
      "metadata": {
        "id": "bn6TZkP1LFq5"
      }
    },
    {
      "cell_type": "code",
      "source": [
        "df_2 = pd.read_csv(\"/content/drive/MyDrive/Thesis_Data/REM_NREM.csv\")\n",
        "target = \"Sleep_Stage\""
      ],
      "metadata": {
        "id": "fStJuTU3LL0u"
      },
      "execution_count": null,
      "outputs": []
    },
    {
      "cell_type": "code",
      "source": [
        "from sklearn.preprocessing import LabelEncoder\n",
        "\n",
        "encoder = LabelEncoder()\n",
        "\n",
        "df_2[target] = encoder.fit_transform(df_2[target])"
      ],
      "metadata": {
        "id": "LnmJfy44LWt4"
      },
      "execution_count": null,
      "outputs": []
    },
    {
      "cell_type": "code",
      "source": [
        "x2 = df_2.loc[:,df_2.columns != target]       #df.loc[starting_row : ending row, list_of_columns]\n",
        "\n",
        "y2 = df_2[target]"
      ],
      "metadata": {
        "id": "WJlsP4zxK88P"
      },
      "execution_count": null,
      "outputs": []
    },
    {
      "cell_type": "code",
      "source": [
        "from sklearn.model_selection import train_test_split\n",
        "\n",
        "x_train2, x_test2, y_train2, y_test2 = train_test_split(x2,y2,test_size = 0.2)"
      ],
      "metadata": {
        "id": "90jygSgvLeHX"
      },
      "execution_count": null,
      "outputs": []
    },
    {
      "cell_type": "code",
      "source": [
        "x_train2, y_train2 = balance(x_train2, y_train2)"
      ],
      "metadata": {
        "id": "b0zXEU-3LiRa"
      },
      "execution_count": null,
      "outputs": []
    },
    {
      "cell_type": "markdown",
      "source": [
        "##Result Default"
      ],
      "metadata": {
        "id": "gY9jJ9TTMmo1"
      }
    },
    {
      "cell_type": "code",
      "source": [
        "%time\n",
        "from sklearn.ensemble import RandomForestClassifier\n",
        "rf_def = RandomForestClassifier()\n",
        "rf_def.fit(x_train2, y_train2)\n",
        "y_pred=rf_def.predict(x_test2)\n",
        "\n",
        "\n",
        "from sklearn.metrics import classification_report, confusion_matrix, accuracy_score\n",
        "print(confusion_matrix(y_test2, y_pred))\n",
        "print(classification_report(y_test2,y_pred))\n",
        "print(\"Accurecy: \",accuracy_score(y_test2, y_pred))"
      ],
      "metadata": {
        "id": "apU05l7FMl6V",
        "outputId": "a30fe303-86f0-4627-e676-bf961c6c9f84",
        "colab": {
          "base_uri": "https://localhost:8080/"
        }
      },
      "execution_count": null,
      "outputs": [
        {
          "output_type": "stream",
          "name": "stdout",
          "text": [
            "CPU times: user 4 µs, sys: 0 ns, total: 4 µs\n",
            "Wall time: 9.06 µs\n",
            "[[13725   801]\n",
            " [  547  2747]]\n",
            "              precision    recall  f1-score   support\n",
            "\n",
            "           0       0.96      0.94      0.95     14526\n",
            "           1       0.77      0.83      0.80      3294\n",
            "\n",
            "    accuracy                           0.92     17820\n",
            "   macro avg       0.87      0.89      0.88     17820\n",
            "weighted avg       0.93      0.92      0.93     17820\n",
            "\n",
            "Accurecy:  0.924354657687991\n"
          ]
        }
      ]
    },
    {
      "cell_type": "markdown",
      "source": [
        "##Result for Best Estimator"
      ],
      "metadata": {
        "id": "dUK5vH8XMJyz"
      }
    },
    {
      "cell_type": "code",
      "source": [
        "%time\n",
        "from sklearn.ensemble import RandomForestClassifier\n",
        "rf_estimator = RandomForestClassifier(n_estimators=best_estimator)\n",
        "rf_estimator.fit(x_train2, y_train2)\n",
        "y_pred=rf_estimator.predict(x_test2)\n",
        "\n",
        "\n",
        "from sklearn.metrics import classification_report, confusion_matrix, accuracy_score\n",
        "print(confusion_matrix(y_test2, y_pred))\n",
        "print(classification_report(y_test2,y_pred))\n",
        "print(\"Accurecy: \",accuracy_score(y_test2, y_pred))\n"
      ],
      "metadata": {
        "id": "E1XikA-NMPgp",
        "outputId": "7dd35dcd-d221-4368-9857-0d57054e6215",
        "colab": {
          "base_uri": "https://localhost:8080/"
        }
      },
      "execution_count": null,
      "outputs": [
        {
          "output_type": "stream",
          "name": "stdout",
          "text": [
            "CPU times: user 4 µs, sys: 0 ns, total: 4 µs\n",
            "Wall time: 9.3 µs\n",
            "[[13722   804]\n",
            " [  529  2765]]\n",
            "              precision    recall  f1-score   support\n",
            "\n",
            "           0       0.96      0.94      0.95     14526\n",
            "           1       0.77      0.84      0.81      3294\n",
            "\n",
            "    accuracy                           0.93     17820\n",
            "   macro avg       0.87      0.89      0.88     17820\n",
            "weighted avg       0.93      0.93      0.93     17820\n",
            "\n",
            "Accurecy:  0.9251964085297418\n"
          ]
        }
      ]
    },
    {
      "cell_type": "markdown",
      "source": [
        "##Result for Best Depth"
      ],
      "metadata": {
        "id": "x0a_xcZyMXGd"
      }
    },
    {
      "cell_type": "code",
      "source": [
        "%time\n",
        "from sklearn.ensemble import RandomForestClassifier\n",
        "rf_depth = RandomForestClassifier(max_depth=best_depth,n_jobs = -1)\n",
        "rf_depth.fit(x_train2, y_train2)\n",
        "y_pred=rf_depth.predict(x_test2)\n",
        "\n",
        "\n",
        "from sklearn.metrics import classification_report, confusion_matrix, accuracy_score\n",
        "print(confusion_matrix(y_test2, y_pred))\n",
        "print(classification_report(y_test2,y_pred))\n",
        "print(\"Accurecy: \",accuracy_score(y_test2, y_pred))\n"
      ],
      "metadata": {
        "id": "y85ePwA3MaHb",
        "outputId": "2f5634fd-557b-47d4-a175-2663f53d47c9",
        "colab": {
          "base_uri": "https://localhost:8080/"
        }
      },
      "execution_count": null,
      "outputs": [
        {
          "output_type": "stream",
          "name": "stdout",
          "text": [
            "CPU times: user 5 µs, sys: 0 ns, total: 5 µs\n",
            "Wall time: 9.3 µs\n",
            "[[13733   793]\n",
            " [  545  2749]]\n",
            "              precision    recall  f1-score   support\n",
            "\n",
            "           0       0.96      0.95      0.95     14526\n",
            "           1       0.78      0.83      0.80      3294\n",
            "\n",
            "    accuracy                           0.92     17820\n",
            "   macro avg       0.87      0.89      0.88     17820\n",
            "weighted avg       0.93      0.92      0.93     17820\n",
            "\n",
            "Accurecy:  0.9249158249158249\n"
          ]
        }
      ]
    },
    {
      "cell_type": "markdown",
      "source": [
        "##REsult for full config"
      ],
      "metadata": {
        "id": "-bA5SDEjMutl"
      }
    },
    {
      "cell_type": "code",
      "source": [
        "%time\n",
        "from sklearn.ensemble import RandomForestClassifier\n",
        "rf_all = RandomForestClassifier(max_depth=best_depth,n_estimators=best_estimator)\n",
        "rf_all.fit(x_train2, y_train2)\n",
        "y_pred=rf_all.predict(x_test2)\n",
        "\n",
        "\n",
        "from sklearn.metrics import classification_report, confusion_matrix, accuracy_score\n",
        "print(confusion_matrix(y_test2, y_pred))\n",
        "print(classification_report(y_test2,y_pred))\n",
        "print(\"Accurecy: \",accuracy_score(y_test2, y_pred))\n"
      ],
      "metadata": {
        "id": "YPZUll1AMk6q",
        "outputId": "b4c1a323-ef68-43e1-d764-f573191f28c9",
        "colab": {
          "base_uri": "https://localhost:8080/"
        }
      },
      "execution_count": null,
      "outputs": [
        {
          "output_type": "stream",
          "name": "stdout",
          "text": [
            "CPU times: user 5 µs, sys: 0 ns, total: 5 µs\n",
            "Wall time: 9.06 µs\n",
            "[[13714   812]\n",
            " [  511  2783]]\n",
            "              precision    recall  f1-score   support\n",
            "\n",
            "           0       0.96      0.94      0.95     14526\n",
            "           1       0.77      0.84      0.81      3294\n",
            "\n",
            "    accuracy                           0.93     17820\n",
            "   macro avg       0.87      0.89      0.88     17820\n",
            "weighted avg       0.93      0.93      0.93     17820\n",
            "\n",
            "Accurecy:  0.9257575757575758\n"
          ]
        }
      ]
    },
    {
      "cell_type": "markdown",
      "source": [
        "*Model Save and Load*"
      ],
      "metadata": {
        "id": "VW89-RAeNY4Y"
      }
    },
    {
      "cell_type": "code",
      "source": [
        "import joblib\n",
        "\n",
        "def save_model(model, model_name):\n",
        "  joblib.dump(model,model_name)\n",
        "\n",
        "def load_model(model_name):\n",
        "  return joblib.load(model_name)"
      ],
      "metadata": {
        "id": "LbB16lobIGfb"
      },
      "execution_count": null,
      "outputs": []
    },
    {
      "cell_type": "code",
      "source": [
        "save_model(rf,\"RandomForest\")"
      ],
      "metadata": {
        "id": "eogJfKAWOA1e"
      },
      "execution_count": null,
      "outputs": []
    }
  ]
}