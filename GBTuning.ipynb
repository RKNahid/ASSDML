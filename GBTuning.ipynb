{
  "cells": [
    {
      "cell_type": "markdown",
      "metadata": {
        "id": "view-in-github",
        "colab_type": "text"
      },
      "source": [
        "<a href=\"https://colab.research.google.com/github/RKNahid/Automated-Sleep-Stage-Detection-using-Machine-Learning-Algorithm/blob/main/GBTuning.ipynb\" target=\"_parent\"><img src=\"https://colab.research.google.com/assets/colab-badge.svg\" alt=\"Open In Colab\"/></a>"
      ]
    },
    {
      "cell_type": "markdown",
      "metadata": {
        "id": "Q1FvLFJzIafi"
      },
      "source": [
        "##Library & Reading"
      ]
    },
    {
      "cell_type": "code",
      "execution_count": 4,
      "metadata": {
        "id": "GQvLXEOJvQVr",
        "colab": {
          "base_uri": "https://localhost:8080/"
        },
        "outputId": "50c81ef0-1895-4da5-ac78-eb11a24d2ecd"
      },
      "outputs": [
        {
          "output_type": "stream",
          "name": "stdout",
          "text": [
            "Mounted at /content/drive\n"
          ]
        }
      ],
      "source": [
        "from google.colab import drive\n",
        "drive.mount('/content/drive')"
      ]
    },
    {
      "cell_type": "code",
      "execution_count": 5,
      "metadata": {
        "id": "JEW3EhL7IeCG",
        "colab": {
          "base_uri": "https://localhost:8080/"
        },
        "outputId": "fff029d1-f14b-44e5-97e0-facbbd1aab77"
      },
      "outputs": [
        {
          "output_type": "stream",
          "name": "stdout",
          "text": [
            "Requirement already satisfied: imbalanced-learn in /usr/local/lib/python3.10/dist-packages (0.10.1)\n",
            "Requirement already satisfied: numpy>=1.17.3 in /usr/local/lib/python3.10/dist-packages (from imbalanced-learn) (1.22.4)\n",
            "Requirement already satisfied: scipy>=1.3.2 in /usr/local/lib/python3.10/dist-packages (from imbalanced-learn) (1.10.1)\n",
            "Requirement already satisfied: scikit-learn>=1.0.2 in /usr/local/lib/python3.10/dist-packages (from imbalanced-learn) (1.2.2)\n",
            "Requirement already satisfied: joblib>=1.1.1 in /usr/local/lib/python3.10/dist-packages (from imbalanced-learn) (1.2.0)\n",
            "Requirement already satisfied: threadpoolctl>=2.0.0 in /usr/local/lib/python3.10/dist-packages (from imbalanced-learn) (3.1.0)\n"
          ]
        }
      ],
      "source": [
        "!pip install imbalanced-learn\n",
        "\n",
        "from imblearn.over_sampling import SMOTE\n",
        "\n",
        "def balance(x_temp,y_temp):\n",
        "  smote = SMOTE()\n",
        "\n",
        "  x_temp, y_temp = smote.fit_resample(x_temp, y_temp)\n",
        "\n",
        "  return x_temp, y_temp"
      ]
    },
    {
      "cell_type": "code",
      "execution_count": 6,
      "metadata": {
        "id": "qP2C2o99IgFO"
      },
      "outputs": [],
      "source": [
        "import numpy as np\n",
        "import pandas as pd"
      ]
    },
    {
      "cell_type": "code",
      "execution_count": 7,
      "metadata": {
        "id": "Y1ATBnPzIspW"
      },
      "outputs": [],
      "source": [
        "df = pd.read_csv(\"/content/drive/MyDrive/Project/REM_NREM.csv\")\n",
        "target = \"Sleep_Stage\""
      ]
    },
    {
      "cell_type": "markdown",
      "metadata": {
        "id": "Vjcd8lAqKzuC"
      },
      "source": [
        "##Level Encoding"
      ]
    },
    {
      "cell_type": "code",
      "execution_count": 8,
      "metadata": {
        "id": "AGLdJoF6IxSP"
      },
      "outputs": [],
      "source": [
        "from sklearn.preprocessing import LabelEncoder\n",
        "\n",
        "encoder = LabelEncoder()\n",
        "\n",
        "df[target] = encoder.fit_transform(df[target])"
      ]
    },
    {
      "cell_type": "markdown",
      "metadata": {
        "id": "2S4PHO8sK-lp"
      },
      "source": [
        "##Spliting"
      ]
    },
    {
      "cell_type": "code",
      "execution_count": 9,
      "metadata": {
        "id": "A2qf4GnWK1vD"
      },
      "outputs": [],
      "source": [
        "x = df.loc[:,df.columns != target]\n",
        "y = df[target]"
      ]
    },
    {
      "cell_type": "code",
      "execution_count": 10,
      "metadata": {
        "id": "nHsxpCb4LCtq"
      },
      "outputs": [],
      "source": [
        "from sklearn.model_selection import train_test_split\n",
        "\n",
        "x_train, x_test, y_train, y_test = train_test_split(x,y,test_size = 0.2)"
      ]
    },
    {
      "cell_type": "markdown",
      "metadata": {
        "id": "07LcYYW3LJ9y"
      },
      "source": [
        "*Balance Dataset*"
      ]
    },
    {
      "cell_type": "code",
      "execution_count": 11,
      "metadata": {
        "id": "TlcarzFBLGff"
      },
      "outputs": [],
      "source": [
        "x_train, y_train = balance(x_train, y_train)"
      ]
    },
    {
      "cell_type": "markdown",
      "metadata": {
        "id": "69bm23ZQLfWM"
      },
      "source": [
        "# Tunning"
      ]
    },
    {
      "cell_type": "markdown",
      "metadata": {
        "id": "dw77Oo9MLtxa"
      },
      "source": [
        "##N estimator"
      ]
    },
    {
      "cell_type": "code",
      "execution_count": 12,
      "metadata": {
        "id": "K_c3eRTALQTj",
        "colab": {
          "base_uri": "https://localhost:8080/",
          "height": 896
        },
        "outputId": "f977ff3b-c86f-4642-937c-a6a9ed356336"
      },
      "outputs": [
        {
          "output_type": "stream",
          "name": "stdout",
          "text": [
            "2000/3000 round completed......................... Accurecy: 0.927384960718294\n",
            "2200/3000 round completed......................... Accurecy: 0.928395061728395\n",
            "2400/3000 round completed......................... Accurecy: 0.9281144781144781\n",
            "2600/3000 round completed......................... Accurecy: 0.9287317620650954\n",
            "2800/3000 round completed......................... Accurecy: 0.92996632996633\n",
            "3000/3000 round completed......................... Accurecy: 0.9303591470258137\n",
            "The best n_estimators:\n",
            "3000\n"
          ]
        },
        {
          "output_type": "display_data",
          "data": {
            "text/plain": [
              "<Figure size 2500x1000 with 1 Axes>"
            ],
            "image/png": "[encoded data removed]"
          },
          "metadata": {}
        }
      ],
      "source": [
        "from sklearn.ensemble import GradientBoostingClassifier\n",
        "from sklearn.metrics import accuracy_score\n",
        "N=3000\n",
        "k_range = range (2000,N+1,200)\n",
        "scores={}\n",
        "scores_list = []\n",
        "for k in k_range:\n",
        "  classifier = GradientBoostingClassifier(n_estimators=k)\n",
        "  classifier.fit(x_train,y_train)\n",
        "  y_pred=classifier.predict(x_test)\n",
        "  scores[k] = accuracy_score(y_test,y_pred)\n",
        "  scores_list.append(accuracy_score(y_test,y_pred))\n",
        "  print(str(k)+\"/\"+str(N)+\" round completed......................... Accurecy: \"+str(accuracy_score(y_test,y_pred)))\n",
        "\n",
        "\n",
        "\n",
        "%matplotlib inline\n",
        "import matplotlib.pyplot as plt\n",
        "\n",
        "plt.figure(figsize = (25,10))\n",
        "plt.plot(k_range,scores_list)\n",
        "plt.xlabel('Value of n_estimators')\n",
        "plt.ylabel ('Testing Accuracy')\n",
        "\n",
        "\n",
        "\n",
        "print(\"The best n_estimators:\")\n",
        "best_estimator=list(scores.keys())[scores_list.index(max(scores_list))]\n",
        "print(best_estimator)\n",
        "\n",
        "\n",
        "\n",
        "#2000 93"
      ]
    },
    {
      "cell_type": "markdown",
      "metadata": {
        "id": "Vd-PYBR4MVjh"
      },
      "source": [
        "*Result for Best Estimator*"
      ]
    },
    {
      "cell_type": "code",
      "execution_count": null,
      "metadata": {
        "colab": {
          "background_save": true
        },
        "id": "A5AeNUGDMTRB"
      },
      "outputs": [],
      "source": [
        "%time\n",
        "\n",
        "from sklearn.ensemble import GradientBoostingClassifier\n",
        "gb_estimator = GradientBoostingClassifier(n_estimators=best_estimator)\n",
        "gb_estimator.fit(x_train, y_train)\n",
        "y_pred=gb_estimator.predict(x_test)\n",
        "\n",
        "\n",
        "from sklearn.metrics import classification_report, confusion_matrix, accuracy_score\n",
        "print(confusion_matrix(y_test, y_pred))\n",
        "print(classification_report(y_test,y_pred))\n",
        "print(\"Accurecy: \",accuracy_score(y_test, y_pred))"
      ]
    },
    {
      "cell_type": "markdown",
      "metadata": {
        "id": "oyW01EGrL90y"
      },
      "source": [
        "##Max Depth"
      ]
    },
    {
      "cell_type": "code",
      "execution_count": 13,
      "metadata": {
        "id": "bk_XSbMbL7uz",
        "colab": {
          "base_uri": "https://localhost:8080/",
          "height": 151
        },
        "outputId": "f33c6f66-3967-4c82-ad78-1755fbbef5fb"
      },
      "outputs": [
        {
          "output_type": "error",
          "ename": "TypeError",
          "evalue": "ignored",
          "traceback": [
            "\u001b[0;31m---------------------------------------------------------------------------\u001b[0m",
            "\u001b[0;31mTypeError\u001b[0m                                 Traceback (most recent call last)",
            "\u001b[0;32m<timed exec>\u001b[0m in \u001b[0;36m<module>\u001b[0;34m\u001b[0m\n",
            "\u001b[0;31mTypeError\u001b[0m: GradientBoostingClassifier.__init__() got an unexpected keyword argument 'n_jobs'"
          ]
        }
      ],
      "source": [
        "%%time\n",
        "from sklearn.ensemble import GradientBoostingClassifier\n",
        "from sklearn.metrics import accuracy_score\n",
        "N=4000\n",
        "k_range = range (1,N+1,500)\n",
        "scores={}\n",
        "scores_list = []\n",
        "for k in k_range:\n",
        "  classifier = GradientBoostingClassifier(max_depth=k,random_state=0,n_jobs = -1)\n",
        "  classifier.fit(x_train, y_train)\n",
        "  y_pred=classifier.predict(x_test)\n",
        "  scores[k] = accuracy_score(y_test,y_pred)\n",
        "  scores_list.append(accuracy_score(y_test,y_pred))\n",
        "  print(str(k)+\"/\"+str(N)+\" round completed......................... Accurecy: \"+str(accuracy_score(y_test,y_pred)))\n",
        "\n",
        "\n",
        "\n",
        "%matplotlib inline\n",
        "import matplotlib.pyplot as plt\n",
        "\n",
        "plt.figure(figsize = (25,10))\n",
        "plt.plot(k_range,scores_list)\n",
        "plt.xlabel('Value of max_depth')\n",
        "plt.ylabel ('Testing Accuracy')\n",
        "\n",
        "\n",
        "\n",
        "print(\"The best Depth:\")\n",
        "best_depth=list(scores.keys())[scores_list.index(max(scores_list))]\n",
        "print(best_depth)\n",
        "\n",
        "\n",
        "\n",
        "#"
      ]
    },
    {
      "cell_type": "markdown",
      "metadata": {
        "id": "wvpSDGGSMl1K"
      },
      "source": [
        "*Result for Best Depth*"
      ]
    },
    {
      "cell_type": "code",
      "execution_count": null,
      "metadata": {
        "colab": {
          "background_save": true
        },
        "id": "98iYysCKMKOs"
      },
      "outputs": [],
      "source": [
        "%time\n",
        "from sklearn.ensemble import GradientBoostingClassifier\n",
        "gb_depth = GradientBoostingClassifier(max_depth=best_depth,n_jobs = -1)\n",
        "gb_depth.fit(x_train, y_train)\n",
        "y_pred=gb_depth.predict(x_test)\n",
        "\n",
        "\n",
        "from sklearn.metrics import classification_report, confusion_matrix, accuracy_score\n",
        "print(confusion_matrix(y_test, y_pred))\n",
        "print(classification_report(y_test,y_pred))\n",
        "print(\"Accurecy: \",accuracy_score(y_test, y_pred))\n"
      ]
    },
    {
      "cell_type": "markdown",
      "metadata": {
        "id": "r7QM1YSmMxGz"
      },
      "source": [
        "# Result for Full Config"
      ]
    },
    {
      "cell_type": "code",
      "execution_count": null,
      "metadata": {
        "colab": {
          "background_save": true
        },
        "id": "oZqZSQjTM002"
      },
      "outputs": [],
      "source": [
        "%time\n",
        "from sklearn.ensemble import GradientBoostingClassifier\n",
        "gb_all = GradientBoostingClassifier(max_depth=best_depth,n_estimators=best_estimator)\n",
        "gb_all.fit(x_train, y_train)\n",
        "y_pred=gb_all.predict(x_test)\n",
        "\n",
        "\n",
        "from sklearn.metrics import classification_report, confusion_matrix, accuracy_score\n",
        "print(confusion_matrix(y_test, y_pred))\n",
        "print(classification_report(y_test,y_pred))\n",
        "print(\"Accurecy: \",accuracy_score(y_test, y_pred))\n"
      ]
    }
  ],
  "metadata": {
    "colab": {
      "collapsed_sections": [
        "Q1FvLFJzIafi",
        "Vjcd8lAqKzuC",
        "2S4PHO8sK-lp"
      ],
      "provenance": [],
      "include_colab_link": true
    },
    "kernelspec": {
      "display_name": "Python 3",
      "name": "python3"
    },
    "language_info": {
      "name": "python"
    }
  },
  "nbformat": 4,
  "nbformat_minor": 0
}