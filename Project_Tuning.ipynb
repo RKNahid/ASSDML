{
  "cells": [
    {
      "cell_type": "markdown",
      "metadata": {
        "id": "view-in-github",
        "colab_type": "text"
      },
      "source": [
        "<a href=\"https://colab.research.google.com/github/RKNahid/Automated-Sleep-Stage-Detection-using-Machine-Learning-Algorithm/blob/main/Project_Tuning.ipynb\" target=\"_parent\"><img src=\"https://colab.research.google.com/assets/colab-badge.svg\" alt=\"Open In Colab\"/></a>"
      ]
    },
    {
      "cell_type": "markdown",
      "metadata": {
        "id": "Q1FvLFJzIafi"
      },
      "source": [
        "##Library & Reading"
      ]
    },
    {
      "cell_type": "code",
      "execution_count": null,
      "metadata": {
        "colab": {
          "base_uri": "https://localhost:8080/"
        },
        "id": "JEW3EhL7IeCG",
        "outputId": "2ae8586c-cc7f-4400-c55a-5ff36972b397"
      },
      "outputs": [
        {
          "name": "stdout",
          "output_type": "stream",
          "text": [
            "Looking in indexes: https://pypi.org/simple, https://us-python.pkg.dev/colab-wheels/public/simple/\n",
            "Requirement already satisfied: imbalanced-learn in /usr/local/lib/python3.9/dist-packages (0.10.1)\n",
            "Requirement already satisfied: scipy>=1.3.2 in /usr/local/lib/python3.9/dist-packages (from imbalanced-learn) (1.10.1)\n",
            "Requirement already satisfied: numpy>=1.17.3 in /usr/local/lib/python3.9/dist-packages (from imbalanced-learn) (1.22.4)\n",
            "Requirement already satisfied: scikit-learn>=1.0.2 in /usr/local/lib/python3.9/dist-packages (from imbalanced-learn) (1.2.2)\n",
            "Requirement already satisfied: joblib>=1.1.1 in /usr/local/lib/python3.9/dist-packages (from imbalanced-learn) (1.2.0)\n",
            "Requirement already satisfied: threadpoolctl>=2.0.0 in /usr/local/lib/python3.9/dist-packages (from imbalanced-learn) (3.1.0)\n"
          ]
        }
      ],
      "source": [
        "!pip install imbalanced-learn\n",
        "\n",
        "from imblearn.over_sampling import SMOTE\n",
        "\n",
        "def balance(x_temp,y_temp):\n",
        "  smote = SMOTE()\n",
        "\n",
        "  x_temp, y_temp = smote.fit_resample(x_temp, y_temp)\n",
        "\n",
        "  return x_temp, y_temp "
      ]
    },
    {
      "cell_type": "code",
      "execution_count": null,
      "metadata": {
        "id": "qP2C2o99IgFO"
      },
      "outputs": [],
      "source": [
        "import numpy as np\n",
        "import pandas as pd"
      ]
    },
    {
      "cell_type": "code",
      "execution_count": null,
      "metadata": {
        "id": "Y1ATBnPzIspW"
      },
      "outputs": [],
      "source": [
        "df = pd.read_csv(\"/content/drive/MyDrive/Project/REM_NREM.csv\")\n",
        "target = \"Sleep_Stage\""
      ]
    },
    {
      "cell_type": "markdown",
      "metadata": {
        "id": "Vjcd8lAqKzuC"
      },
      "source": [
        "##Level Encoding"
      ]
    },
    {
      "cell_type": "code",
      "execution_count": null,
      "metadata": {
        "id": "AGLdJoF6IxSP"
      },
      "outputs": [],
      "source": [
        "from sklearn.preprocessing import LabelEncoder\n",
        "\n",
        "encoder = LabelEncoder()\n",
        "\n",
        "df[target] = encoder.fit_transform(df[target])"
      ]
    },
    {
      "cell_type": "markdown",
      "metadata": {
        "id": "2S4PHO8sK-lp"
      },
      "source": [
        "##Spliting"
      ]
    },
    {
      "cell_type": "code",
      "execution_count": null,
      "metadata": {
        "id": "A2qf4GnWK1vD"
      },
      "outputs": [],
      "source": [
        "x = df.loc[:,df.columns != target]\n",
        "y = df[target]"
      ]
    },
    {
      "cell_type": "code",
      "execution_count": null,
      "metadata": {
        "id": "nHsxpCb4LCtq"
      },
      "outputs": [],
      "source": [
        "from sklearn.model_selection import train_test_split\n",
        "\n",
        "x_train, x_test, y_train, y_test = train_test_split(x,y,test_size = 0.2)"
      ]
    },
    {
      "cell_type": "markdown",
      "metadata": {
        "id": "07LcYYW3LJ9y"
      },
      "source": [
        "*Balance Dataset*"
      ]
    },
    {
      "cell_type": "code",
      "execution_count": null,
      "metadata": {
        "id": "TlcarzFBLGff"
      },
      "outputs": [],
      "source": [
        "x_train, y_train = balance(x_train, y_train)"
      ]
    },
    {
      "cell_type": "markdown",
      "metadata": {
        "id": "69bm23ZQLfWM"
      },
      "source": [
        "# Tunning"
      ]
    },
    {
      "cell_type": "markdown",
      "metadata": {
        "id": "dw77Oo9MLtxa"
      },
      "source": [
        "##N estimator"
      ]
    },
    {
      "cell_type": "code",
      "execution_count": null,
      "metadata": {
        "colab": {
          "background_save": true
        },
        "id": "K_c3eRTALQTj",
        "outputId": "2d5dfc99-0c04-4c1d-bc7c-fd25c500ac6d"
      },
      "outputs": [
        {
          "name": "stdout",
          "output_type": "stream",
          "text": [
            "1000/1400 round completed......................... Accurecy: 0.9250280583613917\n",
            "1050/1400 round completed......................... Accurecy: 0.923625140291807\n"
          ]
        }
      ],
      "source": [
        "from sklearn.ensemble import RandomForestClassifier\n",
        "from sklearn.metrics import accuracy_score\n",
        "N=1500\n",
        "k_range = range (1000,N+1,100)\n",
        "scores={}\n",
        "scores_list = []\n",
        "for k in k_range:\n",
        "  classifier = RandomForestClassifier(n_estimators=k)\n",
        "  classifier.fit(x_train, y_train)\n",
        "  y_pred=classifier.predict(x_test)\n",
        "  scores[k] = accuracy_score(y_test,y_pred)\n",
        "  scores_list.append(accuracy_score(y_test,y_pred))\n",
        "  print(str(k)+\"/\"+str(N)+\" round completed......................... Accurecy: \"+str(accuracy_score(y_test,y_pred)))\n",
        "\n",
        "\n",
        "\n",
        "%matplotlib inline\n",
        "import matplotlib.pyplot as plt\n",
        "\n",
        "plt.figure(figsize = (25,10))\n",
        "plt.plot(k_range,scores_list)\n",
        "plt.xlabel('Value of n_estimators')\n",
        "plt.ylabel ('Testing Accuracy')\n",
        "\n",
        "\n",
        "\n",
        "print(\"The best n_estimators:\")\n",
        "best_estimator=list(scores.keys())[scores_list.index(max(scores_list))]\n",
        "print(best_estimator)\n",
        "\n",
        "\n",
        "#250"
      ]
    },
    {
      "cell_type": "markdown",
      "metadata": {
        "id": "Vd-PYBR4MVjh"
      },
      "source": [
        "*Result for Best Estimator*"
      ]
    },
    {
      "cell_type": "code",
      "execution_count": null,
      "metadata": {
        "id": "A5AeNUGDMTRB"
      },
      "outputs": [],
      "source": [
        "%time\n",
        "from sklearn.ensemble import RandomForestClassifier\n",
        "rf_estimator = RandomForestClassifier(n_estimators=best_estimator)\n",
        "rf_estimator.fit(x_train, y_train)\n",
        "y_pred=rf_estimator.predict(x_test)\n",
        "\n",
        "\n",
        "from sklearn.metrics import classification_report, confusion_matrix, accuracy_score\n",
        "print(confusion_matrix(y_test, y_pred))\n",
        "print(classification_report(y_test,y_pred))\n",
        "print(\"Accurecy: \",accuracy_score(y_test, y_pred))"
      ]
    },
    {
      "cell_type": "markdown",
      "metadata": {
        "id": "oyW01EGrL90y"
      },
      "source": [
        "##Max Depth"
      ]
    },
    {
      "cell_type": "code",
      "execution_count": null,
      "metadata": {
        "id": "bk_XSbMbL7uz"
      },
      "outputs": [],
      "source": [
        "%%time\n",
        "from sklearn.ensemble import RandomForestClassifier\n",
        "from sklearn.metrics import accuracy_score\n",
        "N=400\n",
        "k_range = range (50,N+1,50)\n",
        "scores={}\n",
        "scores_list = []\n",
        "for k in k_range:\n",
        "  classifier = RandomForestClassifier(max_depth=k,random_state=0,n_jobs = -1)\n",
        "  classifier.fit(x_train, y_train)\n",
        "  y_pred=classifier.predict(x_test)\n",
        "  scores[k] = accuracy_score(y_test,y_pred)\n",
        "  scores_list.append(accuracy_score(y_test,y_pred))\n",
        "  print(str(k)+\"/\"+str(N)+\" round completed......................... Accurecy: \"+str(accuracy_score(y_test,y_pred)))\n",
        "\n",
        "\n",
        "\n",
        "%matplotlib inline\n",
        "import matplotlib.pyplot as plt\n",
        "\n",
        "plt.figure(figsize = (25,10))\n",
        "plt.plot(k_range,scores_list)\n",
        "plt.xlabel('Value of n_estimators')\n",
        "plt.ylabel ('Testing Accuracy')\n",
        "\n",
        "\n",
        "\n",
        "print(\"The best Depth:\")\n",
        "best_depth=list(scores.keys())[scores_list.index(max(scores_list))]\n",
        "print(best_depth)\n",
        "\n",
        "\n",
        "#76"
      ]
    },
    {
      "cell_type": "markdown",
      "metadata": {
        "id": "wvpSDGGSMl1K"
      },
      "source": [
        "*Result for Best Depth*"
      ]
    },
    {
      "cell_type": "code",
      "execution_count": null,
      "metadata": {
        "id": "98iYysCKMKOs"
      },
      "outputs": [],
      "source": [
        "%time\n",
        "from sklearn.ensemble import RandomForestClassifier\n",
        "rf_depth = RandomForestClassifier(max_depth=best_depth,n_jobs = -1)\n",
        "rf_depth.fit(x_train, y_train)\n",
        "y_pred=rf_depth.predict(x_test)\n",
        "\n",
        "\n",
        "from sklearn.metrics import classification_report, confusion_matrix, accuracy_score\n",
        "print(confusion_matrix(y_test, y_pred))\n",
        "print(classification_report(y_test,y_pred))\n",
        "print(\"Accurecy: \",accuracy_score(y_test, y_pred))\n"
      ]
    },
    {
      "cell_type": "markdown",
      "metadata": {
        "id": "r7QM1YSmMxGz"
      },
      "source": [
        "# Result for Full Config"
      ]
    },
    {
      "cell_type": "code",
      "execution_count": null,
      "metadata": {
        "id": "oZqZSQjTM002"
      },
      "outputs": [],
      "source": [
        "%time\n",
        "from sklearn.ensemble import RandomForestClassifier\n",
        "rf_all = RandomForestClassifier(max_depth=best_depth,n_estimators=best_estimator)\n",
        "rf_all.fit(x_train, y_train)\n",
        "y_pred=rf_all.predict(x_test)\n",
        "\n",
        "\n",
        "from sklearn.metrics import classification_report, confusion_matrix, accuracy_score\n",
        "print(confusion_matrix(y_test, y_pred))\n",
        "print(classification_report(y_test,y_pred))\n",
        "print(\"Accurecy: \",accuracy_score(y_test, y_pred))\n"
      ]
    }
  ],
  "metadata": {
    "colab": {
      "collapsed_sections": [
        "Vjcd8lAqKzuC",
        "2S4PHO8sK-lp"
      ],
      "toc_visible": true,
      "provenance": [],
      "mount_file_id": "1Wkl5POk4isIe-7Zwuc5Qvdwx7veOpwqj",
      "authorship_tag": "ABX9TyM4qH0ML89j9Gj6i3MN9gCX",
      "include_colab_link": true
    },
    "kernelspec": {
      "display_name": "Python 3",
      "name": "python3"
    },
    "language_info": {
      "name": "python"
    }
  },
  "nbformat": 4,
  "nbformat_minor": 0
}