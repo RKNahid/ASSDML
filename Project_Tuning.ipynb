{
  "nbformat": 4,
  "nbformat_minor": 0,
  "metadata": {
    "colab": {
      "provenance": [],
      "mount_file_id": "1Wkl5POk4isIe-7Zwuc5Qvdwx7veOpwqj",
      "authorship_tag": "ABX9TyPbOG3A9lyHcXg/l73uNncP",
      "include_colab_link": true
    },
    "kernelspec": {
      "name": "python3",
      "display_name": "Python 3"
    },
    "language_info": {
      "name": "python"
    }
  },
  "cells": [
    {
      "cell_type": "markdown",
      "metadata": {
        "id": "view-in-github",
        "colab_type": "text"
      },
      "source": [
        "<a href=\"https://colab.research.google.com/github/RKNahid/Automated-Sleep-Stage-Detection-using-Machine-Learning-Algorithm/blob/main/Project_Tuning.ipynb\" target=\"_parent\"><img src=\"https://colab.research.google.com/assets/colab-badge.svg\" alt=\"Open In Colab\"/></a>"
      ]
    },
    {
      "cell_type": "markdown",
      "source": [
        "##Library & Reading"
      ],
      "metadata": {
        "id": "Q1FvLFJzIafi"
      }
    },
    {
      "cell_type": "code",
      "source": [
        "!pip install imbalanced-learn\n",
        "\n",
        "from imblearn.over_sampling import SMOTE\n",
        "\n",
        "def balance(x_temp,y_temp):\n",
        "  smote = SMOTE()\n",
        "\n",
        "  x_temp, y_temp = smote.fit_resample(x_temp, y_temp)\n",
        "\n",
        "  return x_temp, y_temp"
      ],
      "metadata": {
        "colab": {
          "base_uri": "https://localhost:8080/"
        },
        "id": "JEW3EhL7IeCG",
        "outputId": "e6636f45-9416-453e-a601-2c633c263393"
      },
      "execution_count": 1,
      "outputs": [
        {
          "output_type": "stream",
          "name": "stdout",
          "text": [
            "Looking in indexes: https://pypi.org/simple, https://us-python.pkg.dev/colab-wheels/public/simple/\n",
            "Requirement already satisfied: imbalanced-learn in /usr/local/lib/python3.9/dist-packages (0.10.1)\n",
            "Requirement already satisfied: joblib>=1.1.1 in /usr/local/lib/python3.9/dist-packages (from imbalanced-learn) (1.2.0)\n",
            "Requirement already satisfied: scipy>=1.3.2 in /usr/local/lib/python3.9/dist-packages (from imbalanced-learn) (1.10.1)\n",
            "Requirement already satisfied: threadpoolctl>=2.0.0 in /usr/local/lib/python3.9/dist-packages (from imbalanced-learn) (3.1.0)\n",
            "Requirement already satisfied: numpy>=1.17.3 in /usr/local/lib/python3.9/dist-packages (from imbalanced-learn) (1.22.4)\n",
            "Requirement already satisfied: scikit-learn>=1.0.2 in /usr/local/lib/python3.9/dist-packages (from imbalanced-learn) (1.2.2)\n"
          ]
        }
      ]
    },
    {
      "cell_type": "code",
      "source": [
        "import numpy as np\n",
        "import pandas as pd"
      ],
      "metadata": {
        "id": "qP2C2o99IgFO"
      },
      "execution_count": 2,
      "outputs": []
    },
    {
      "cell_type": "code",
      "source": [
        "df = pd.read_csv(\"/content/drive/MyDrive/Project/REM_NREM.csv\")\n",
        "target = \"Sleep_Stage\""
      ],
      "metadata": {
        "id": "Y1ATBnPzIspW"
      },
      "execution_count": 3,
      "outputs": []
    },
    {
      "cell_type": "markdown",
      "source": [
        "##Level Encoding"
      ],
      "metadata": {
        "id": "Vjcd8lAqKzuC"
      }
    },
    {
      "cell_type": "code",
      "source": [
        "from sklearn.preprocessing import LabelEncoder\n",
        "\n",
        "encoder = LabelEncoder()\n",
        "\n",
        "df[target] = encoder.fit_transform(df[target])"
      ],
      "metadata": {
        "id": "AGLdJoF6IxSP"
      },
      "execution_count": 4,
      "outputs": []
    },
    {
      "cell_type": "markdown",
      "source": [
        "##Spliting"
      ],
      "metadata": {
        "id": "2S4PHO8sK-lp"
      }
    },
    {
      "cell_type": "code",
      "source": [
        "x = df.loc[:,df.columns != target]\n",
        "y = df[target]"
      ],
      "metadata": {
        "id": "A2qf4GnWK1vD"
      },
      "execution_count": 5,
      "outputs": []
    },
    {
      "cell_type": "code",
      "source": [
        "from sklearn.model_selection import train_test_split\n",
        "\n",
        "x_train, x_test, y_train, y_test = train_test_split(x,y,test_size = 0.2)"
      ],
      "metadata": {
        "id": "nHsxpCb4LCtq"
      },
      "execution_count": 6,
      "outputs": []
    },
    {
      "cell_type": "markdown",
      "source": [
        "*Balance Dataset*"
      ],
      "metadata": {
        "id": "07LcYYW3LJ9y"
      }
    },
    {
      "cell_type": "code",
      "source": [
        "x_train, y_train = balance(x_train, y_train)"
      ],
      "metadata": {
        "id": "TlcarzFBLGff"
      },
      "execution_count": 7,
      "outputs": []
    },
    {
      "cell_type": "markdown",
      "source": [
        "# Tunning"
      ],
      "metadata": {
        "id": "69bm23ZQLfWM"
      }
    },
    {
      "cell_type": "markdown",
      "source": [
        "##N estimator"
      ],
      "metadata": {
        "id": "dw77Oo9MLtxa"
      }
    },
    {
      "cell_type": "code",
      "source": [
        "from sklearn.ensemble import RandomForestClassifier\n",
        "from sklearn.metrics import accuracy_score\n",
        "N=400\n",
        "k_range = range (100,N+1,25)\n",
        "scores={}\n",
        "scores_list = []\n",
        "for k in k_range:\n",
        "  classifier = RandomForestClassifier(n_estimators=k)\n",
        "  classifier.fit(x_train, y_train)\n",
        "  y_pred=classifier.predict(x_test)\n",
        "  scores[k] = accuracy_score(y_test,y_pred)\n",
        "  scores_list.append(accuracy_score(y_test,y_pred))\n",
        "  print(str(k)+\"/\"+str(N)+\" round completed......................... Accurecy: \"+str(accuracy_score(y_test,y_pred)))\n",
        "\n",
        "\n",
        "\n",
        "%matplotlib inline\n",
        "import matplotlib.pyplot as plt\n",
        "\n",
        "plt.figure(figsize = (25,10))\n",
        "plt.plot(k_range,scores_list)\n",
        "plt.xlabel('Value of n_estimators')\n",
        "plt.ylabel ('Testing Accuracy')\n",
        "\n",
        "\n",
        "\n",
        "print(\"The best n_estimators:\")\n",
        "best_estimator=list(scores.keys())[scores_list.index(max(scores_list))]\n",
        "print(best_estimator)"
      ],
      "metadata": {
        "id": "K_c3eRTALQTj"
      },
      "execution_count": null,
      "outputs": []
    },
    {
      "cell_type": "markdown",
      "source": [
        "*Result for Best Estimator*"
      ],
      "metadata": {
        "id": "Vd-PYBR4MVjh"
      }
    },
    {
      "cell_type": "code",
      "source": [
        "%time\n",
        "from sklearn.ensemble import RandomForestClassifier\n",
        "rf_estimator = RandomForestClassifier(n_estimators=best_estimator)\n",
        "rf_estimator.fit(x_train, y_train)\n",
        "y_pred=rf_estimator.predict(x_test)\n",
        "\n",
        "\n",
        "from sklearn.metrics import classification_report, confusion_matrix, accuracy_score\n",
        "print(confusion_matrix(y_test, y_pred))\n",
        "print(classification_report(y_test,y_pred))\n",
        "print(\"Accurecy: \",accuracy_score(y_test, y_pred))"
      ],
      "metadata": {
        "id": "A5AeNUGDMTRB"
      },
      "execution_count": null,
      "outputs": []
    },
    {
      "cell_type": "markdown",
      "source": [
        "##Max Depth"
      ],
      "metadata": {
        "id": "oyW01EGrL90y"
      }
    },
    {
      "cell_type": "code",
      "source": [
        "%%time\n",
        "from sklearn.ensemble import RandomForestClassifier\n",
        "from sklearn.metrics import accuracy_score\n",
        "N=400\n",
        "k_range = range (50,N+1,25)\n",
        "scores={}\n",
        "scores_list = []\n",
        "for k in k_range:\n",
        "  classifier = RandomForestClassifier(max_depth=k,random_state=0,n_jobs = -1)\n",
        "  classifier.fit(x_train, y_train)\n",
        "  y_pred=classifier.predict(x_test)\n",
        "  scores[k] = accuracy_score(y_test,y_pred)\n",
        "  scores_list.append(accuracy_score(y_test,y_pred))\n",
        "  print(str(k)+\"/\"+str(N)+\" round completed......................... Accurecy: \"+str(accuracy_score(y_test,y_pred)))\n",
        "\n",
        "\n",
        "\n",
        "%matplotlib inline\n",
        "import matplotlib.pyplot as plt\n",
        "\n",
        "plt.figure(figsize = (25,10))\n",
        "plt.plot(k_range,scores_list)\n",
        "plt.xlabel('Value of n_estimators')\n",
        "plt.ylabel ('Testing Accuracy')\n",
        "\n",
        "\n",
        "\n",
        "print(\"The best Depth:\")\n",
        "best_depth=list(scores.keys())[scores_list.index(max(scores_list))]\n",
        "print(best_depth)\n",
        "\n",
        "\n",
        "#76"
      ],
      "metadata": {
        "id": "bk_XSbMbL7uz"
      },
      "execution_count": null,
      "outputs": []
    },
    {
      "cell_type": "markdown",
      "source": [
        "*Result for Best Depth*"
      ],
      "metadata": {
        "id": "wvpSDGGSMl1K"
      }
    },
    {
      "cell_type": "code",
      "source": [
        "%time\n",
        "from sklearn.ensemble import RandomForestClassifier\n",
        "rf_depth = RandomForestClassifier(max_depth=best_depth,n_jobs = -1)\n",
        "rf_depth.fit(x_train, y_train)\n",
        "y_pred=rf_depth.predict(x_test)\n",
        "\n",
        "\n",
        "from sklearn.metrics import classification_report, confusion_matrix, accuracy_score\n",
        "print(confusion_matrix(y_test, y_pred))\n",
        "print(classification_report(y_test,y_pred))\n",
        "print(\"Accurecy: \",accuracy_score(y_test, y_pred))\n"
      ],
      "metadata": {
        "id": "98iYysCKMKOs"
      },
      "execution_count": null,
      "outputs": []
    },
    {
      "cell_type": "markdown",
      "source": [
        "# Result for Full Config"
      ],
      "metadata": {
        "id": "r7QM1YSmMxGz"
      }
    },
    {
      "cell_type": "code",
      "source": [
        "%time\n",
        "from sklearn.ensemble import RandomForestClassifier\n",
        "rf_all = RandomForestClassifier(max_depth=best_depth,n_estimators=best_estimator)\n",
        "rf_all.fit(x_train, y_train)\n",
        "y_pred=rf_all.predict(x_test)\n",
        "\n",
        "\n",
        "from sklearn.metrics import classification_report, confusion_matrix, accuracy_score\n",
        "print(confusion_matrix(y_test, y_pred))\n",
        "print(classification_report(y_test,y_pred))\n",
        "print(\"Accurecy: \",accuracy_score(y_test, y_pred))\n"
      ],
      "metadata": {
        "id": "oZqZSQjTM002"
      },
      "execution_count": null,
      "outputs": []
    }
  ]
}