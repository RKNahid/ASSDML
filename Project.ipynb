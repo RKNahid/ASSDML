{
  "nbformat": 4,
  "nbformat_minor": 0,
  "metadata": {
    "colab": {
      "provenance": [],
      "mount_file_id": "10hWwhMdyCQwbxWjwqQfltwz64n9QJ61G",
      "authorship_tag": "ABX9TyNNcE9q7qNniq13NVF1+xDz",
      "include_colab_link": true
    },
    "kernelspec": {
      "name": "python3",
      "display_name": "Python 3"
    },
    "language_info": {
      "name": "python"
    }
  },
  "cells": [
    {
      "cell_type": "markdown",
      "metadata": {
        "id": "view-in-github",
        "colab_type": "text"
      },
      "source": [
        "<a href=\"https://colab.research.google.com/github/RKNahid/Automated-Sleep-Stage-Detection-using-Machine-Learning-Algorithm/blob/main/Project.ipynb\" target=\"_parent\"><img src=\"https://colab.research.google.com/assets/colab-badge.svg\" alt=\"Open In Colab\"/></a>"
      ]
    },
    {
      "cell_type": "code",
      "execution_count": null,
      "metadata": {
        "id": "x5dqGHC1vQkb"
      },
      "outputs": [],
      "source": [
        " from google.colab import drive\n",
        "drive.mount('/content/drive')"
      ]
    },
    {
      "cell_type": "code",
      "source": [
        "!pip install imbalanced-learn\n",
        "\n",
        "from imblearn.over_sampling import SMOTE\n",
        "\n",
        "def balance(x_temp,y_temp):\n",
        "  smote = SMOTE()\n",
        "\n",
        "  x_temp, y_temp = smote.fit_resample(x_temp, y_temp)\n",
        "\n",
        "  return x_temp, y_temp"
      ],
      "metadata": {
        "colab": {
          "base_uri": "https://localhost:8080/"
        },
        "id": "q1tD9JMR-lqA",
        "outputId": "bf05b1cf-d272-41ff-e5b5-62d5dbbdb59a"
      },
      "execution_count": null,
      "outputs": [
        {
          "output_type": "stream",
          "name": "stdout",
          "text": [
            "Looking in indexes: https://pypi.org/simple, https://us-python.pkg.dev/colab-wheels/public/simple/\n",
            "Requirement already satisfied: imbalanced-learn in /usr/local/lib/python3.9/dist-packages (0.10.1)\n",
            "Requirement already satisfied: scikit-learn>=1.0.2 in /usr/local/lib/python3.9/dist-packages (from imbalanced-learn) (1.2.2)\n",
            "Requirement already satisfied: scipy>=1.3.2 in /usr/local/lib/python3.9/dist-packages (from imbalanced-learn) (1.10.1)\n",
            "Requirement already satisfied: threadpoolctl>=2.0.0 in /usr/local/lib/python3.9/dist-packages (from imbalanced-learn) (3.1.0)\n",
            "Requirement already satisfied: numpy>=1.17.3 in /usr/local/lib/python3.9/dist-packages (from imbalanced-learn) (1.22.4)\n",
            "Requirement already satisfied: joblib>=1.1.1 in /usr/local/lib/python3.9/dist-packages (from imbalanced-learn) (1.2.0)\n"
          ]
        }
      ]
    },
    {
      "cell_type": "code",
      "source": [
        "import numpy as np\n",
        "import pandas as pd"
      ],
      "metadata": {
        "id": "wKNX0Szqwqzi"
      },
      "execution_count": null,
      "outputs": []
    },
    {
      "cell_type": "code",
      "source": [
        "df = pd.read_csv(\"/content/drive/MyDrive/Project/REM_NREM.csv\")\n",
        "target = \"Sleep_Stage\""
      ],
      "metadata": {
        "id": "ihaloMJYxTK4"
      },
      "execution_count": null,
      "outputs": []
    },
    {
      "cell_type": "code",
      "source": [
        "df.head()"
      ],
      "metadata": {
        "colab": {
          "base_uri": "https://localhost:8080/",
          "height": 317
        },
        "id": "iIjsvQrnx_rA",
        "outputId": "738cfb97-9691-48bb-babc-048e93bd132f"
      },
      "execution_count": null,
      "outputs": [
        {
          "output_type": "execute_result",
          "data": {
            "text/plain": [
              "  Sleep_Stage  MeanP_Alpha_F4  MedianF_Alpha_F4  MeanF_Alpha_F4  \\\n",
              "0        NREM         0.00034          10.11512        17.85756   \n",
              "1        NREM         0.00035          10.73951        17.60780   \n",
              "2        NREM         0.00035           9.36585        17.60780   \n",
              "3        NREM         0.00050          10.36488        16.60878   \n",
              "4        NREM         0.00072           9.36585        15.98439   \n",
              "\n",
              "   Spectral Edge_Alpha_F4  PeakF_Alpha_F4  MeanP_Beta_F4  MedianF_Beta_F4  \\\n",
              "0                17.48293        10.24000        0.00047         17.73268   \n",
              "1                17.10829         9.11610        0.00048         16.85854   \n",
              "2                16.98341         9.24098        0.00042         17.35805   \n",
              "3                15.85951         7.99220        0.00053         15.48488   \n",
              "4                15.48488         7.99220        0.00067         15.11024   \n",
              "\n",
              "   MeanF_Beta_F4  Spectral Edge_Beta_F4  ...  MeanP_Delta_O2  \\\n",
              "0       25.35024               27.47317  ...         0.00112   \n",
              "1       25.22537               26.97366  ...         0.00070   \n",
              "2       26.09951               28.47220  ...         0.00077   \n",
              "3       24.10146               25.72488  ...         0.00130   \n",
              "4       22.22829               23.22732  ...         0.00123   \n",
              "\n",
              "   MedianF_Delta_O2  MeanF_Delta_O2  Spectral Edge_Delta_O2  PeakF_Delta_O2  \\\n",
              "0           0.74927         6.36878                 2.87220         0.62439   \n",
              "1           0.99902         6.86829                 3.62146         0.74927   \n",
              "2           1.49854         6.49366                 4.12098         0.74927   \n",
              "3           1.87317         6.11902                 3.74634         0.37463   \n",
              "4           1.49854         6.61854                 3.74634         0.74927   \n",
              "\n",
              "   MeanP_Gamma_O2  MedianF_Gamma_O2  MeanF_Gamma_O2  Spectral Edge_Gamma_O2  \\\n",
              "0        0.000076          32.71805        43.83220                49.95122   \n",
              "1        0.000072          32.09366        44.33171                49.95122   \n",
              "2        0.000069          33.09268        43.95707                49.95122   \n",
              "3        0.000070          31.59415        42.83317                49.95122   \n",
              "4        0.000060          29.47122        45.08098                49.95122   \n",
              "\n",
              "   PeakF_Gamma_O2  \n",
              "0        49.95122  \n",
              "1        49.95122  \n",
              "2        49.95122  \n",
              "3        49.95122  \n",
              "4        49.95122  \n",
              "\n",
              "[5 rows x 76 columns]"
            ],
            "text/html": [
              "\n",
              "  <div id=\"df-634fee36-9898-411d-bcd5-c13cdc5c436f\">\n",
              "    <div class=\"colab-df-container\">\n",
              "      <div>\n",
              "<style scoped>\n",
              "    .dataframe tbody tr th:only-of-type {\n",
              "        vertical-align: middle;\n",
              "    }\n",
              "\n",
              "    .dataframe tbody tr th {\n",
              "        vertical-align: top;\n",
              "    }\n",
              "\n",
              "    .dataframe thead th {\n",
              "        text-align: right;\n",
              "    }\n",
              "</style>\n",
              "<table border=\"1\" class=\"dataframe\">\n",
              "  <thead>\n",
              "    <tr style=\"text-align: right;\">\n",
              "      <th></th>\n",
              "      <th>Sleep_Stage</th>\n",
              "      <th>MeanP_Alpha_F4</th>\n",
              "      <th>MedianF_Alpha_F4</th>\n",
              "      <th>MeanF_Alpha_F4</th>\n",
              "      <th>Spectral Edge_Alpha_F4</th>\n",
              "      <th>PeakF_Alpha_F4</th>\n",
              "      <th>MeanP_Beta_F4</th>\n",
              "      <th>MedianF_Beta_F4</th>\n",
              "      <th>MeanF_Beta_F4</th>\n",
              "      <th>Spectral Edge_Beta_F4</th>\n",
              "      <th>...</th>\n",
              "      <th>MeanP_Delta_O2</th>\n",
              "      <th>MedianF_Delta_O2</th>\n",
              "      <th>MeanF_Delta_O2</th>\n",
              "      <th>Spectral Edge_Delta_O2</th>\n",
              "      <th>PeakF_Delta_O2</th>\n",
              "      <th>MeanP_Gamma_O2</th>\n",
              "      <th>MedianF_Gamma_O2</th>\n",
              "      <th>MeanF_Gamma_O2</th>\n",
              "      <th>Spectral Edge_Gamma_O2</th>\n",
              "      <th>PeakF_Gamma_O2</th>\n",
              "    </tr>\n",
              "  </thead>\n",
              "  <tbody>\n",
              "    <tr>\n",
              "      <th>0</th>\n",
              "      <td>NREM</td>\n",
              "      <td>0.00034</td>\n",
              "      <td>10.11512</td>\n",
              "      <td>17.85756</td>\n",
              "      <td>17.48293</td>\n",
              "      <td>10.24000</td>\n",
              "      <td>0.00047</td>\n",
              "      <td>17.73268</td>\n",
              "      <td>25.35024</td>\n",
              "      <td>27.47317</td>\n",
              "      <td>...</td>\n",
              "      <td>0.00112</td>\n",
              "      <td>0.74927</td>\n",
              "      <td>6.36878</td>\n",
              "      <td>2.87220</td>\n",
              "      <td>0.62439</td>\n",
              "      <td>0.000076</td>\n",
              "      <td>32.71805</td>\n",
              "      <td>43.83220</td>\n",
              "      <td>49.95122</td>\n",
              "      <td>49.95122</td>\n",
              "    </tr>\n",
              "    <tr>\n",
              "      <th>1</th>\n",
              "      <td>NREM</td>\n",
              "      <td>0.00035</td>\n",
              "      <td>10.73951</td>\n",
              "      <td>17.60780</td>\n",
              "      <td>17.10829</td>\n",
              "      <td>9.11610</td>\n",
              "      <td>0.00048</td>\n",
              "      <td>16.85854</td>\n",
              "      <td>25.22537</td>\n",
              "      <td>26.97366</td>\n",
              "      <td>...</td>\n",
              "      <td>0.00070</td>\n",
              "      <td>0.99902</td>\n",
              "      <td>6.86829</td>\n",
              "      <td>3.62146</td>\n",
              "      <td>0.74927</td>\n",
              "      <td>0.000072</td>\n",
              "      <td>32.09366</td>\n",
              "      <td>44.33171</td>\n",
              "      <td>49.95122</td>\n",
              "      <td>49.95122</td>\n",
              "    </tr>\n",
              "    <tr>\n",
              "      <th>2</th>\n",
              "      <td>NREM</td>\n",
              "      <td>0.00035</td>\n",
              "      <td>9.36585</td>\n",
              "      <td>17.60780</td>\n",
              "      <td>16.98341</td>\n",
              "      <td>9.24098</td>\n",
              "      <td>0.00042</td>\n",
              "      <td>17.35805</td>\n",
              "      <td>26.09951</td>\n",
              "      <td>28.47220</td>\n",
              "      <td>...</td>\n",
              "      <td>0.00077</td>\n",
              "      <td>1.49854</td>\n",
              "      <td>6.49366</td>\n",
              "      <td>4.12098</td>\n",
              "      <td>0.74927</td>\n",
              "      <td>0.000069</td>\n",
              "      <td>33.09268</td>\n",
              "      <td>43.95707</td>\n",
              "      <td>49.95122</td>\n",
              "      <td>49.95122</td>\n",
              "    </tr>\n",
              "    <tr>\n",
              "      <th>3</th>\n",
              "      <td>NREM</td>\n",
              "      <td>0.00050</td>\n",
              "      <td>10.36488</td>\n",
              "      <td>16.60878</td>\n",
              "      <td>15.85951</td>\n",
              "      <td>7.99220</td>\n",
              "      <td>0.00053</td>\n",
              "      <td>15.48488</td>\n",
              "      <td>24.10146</td>\n",
              "      <td>25.72488</td>\n",
              "      <td>...</td>\n",
              "      <td>0.00130</td>\n",
              "      <td>1.87317</td>\n",
              "      <td>6.11902</td>\n",
              "      <td>3.74634</td>\n",
              "      <td>0.37463</td>\n",
              "      <td>0.000070</td>\n",
              "      <td>31.59415</td>\n",
              "      <td>42.83317</td>\n",
              "      <td>49.95122</td>\n",
              "      <td>49.95122</td>\n",
              "    </tr>\n",
              "    <tr>\n",
              "      <th>4</th>\n",
              "      <td>NREM</td>\n",
              "      <td>0.00072</td>\n",
              "      <td>9.36585</td>\n",
              "      <td>15.98439</td>\n",
              "      <td>15.48488</td>\n",
              "      <td>7.99220</td>\n",
              "      <td>0.00067</td>\n",
              "      <td>15.11024</td>\n",
              "      <td>22.22829</td>\n",
              "      <td>23.22732</td>\n",
              "      <td>...</td>\n",
              "      <td>0.00123</td>\n",
              "      <td>1.49854</td>\n",
              "      <td>6.61854</td>\n",
              "      <td>3.74634</td>\n",
              "      <td>0.74927</td>\n",
              "      <td>0.000060</td>\n",
              "      <td>29.47122</td>\n",
              "      <td>45.08098</td>\n",
              "      <td>49.95122</td>\n",
              "      <td>49.95122</td>\n",
              "    </tr>\n",
              "  </tbody>\n",
              "</table>\n",
              "<p>5 rows × 76 columns</p>\n",
              "</div>\n",
              "      <button class=\"colab-df-convert\" onclick=\"convertToInteractive('df-634fee36-9898-411d-bcd5-c13cdc5c436f')\"\n",
              "              title=\"Convert this dataframe to an interactive table.\"\n",
              "              style=\"display:none;\">\n",
              "        \n",
              "  <svg xmlns=\"http://www.w3.org/2000/svg\" height=\"24px\"viewBox=\"0 0 24 24\"\n",
              "       width=\"24px\">\n",
              "    <path d=\"M0 0h24v24H0V0z\" fill=\"none\"/>\n",
              "    <path d=\"M18.56 5.44l.94 2.06.94-2.06 2.06-.94-2.06-.94-.94-2.06-.94 2.06-2.06.94zm-11 1L8.5 8.5l.94-2.06 2.06-.94-2.06-.94L8.5 2.5l-.94 2.06-2.06.94zm10 10l.94 2.06.94-2.06 2.06-.94-2.06-.94-.94-2.06-.94 2.06-2.06.94z\"/><path d=\"M17.41 7.96l-1.37-1.37c-.4-.4-.92-.59-1.43-.59-.52 0-1.04.2-1.43.59L10.3 9.45l-7.72 7.72c-.78.78-.78 2.05 0 2.83L4 21.41c.39.39.9.59 1.41.59.51 0 1.02-.2 1.41-.59l7.78-7.78 2.81-2.81c.8-.78.8-2.07 0-2.86zM5.41 20L4 18.59l7.72-7.72 1.47 1.35L5.41 20z\"/>\n",
              "  </svg>\n",
              "      </button>\n",
              "      \n",
              "  <style>\n",
              "    .colab-df-container {\n",
              "      display:flex;\n",
              "      flex-wrap:wrap;\n",
              "      gap: 12px;\n",
              "    }\n",
              "\n",
              "    .colab-df-convert {\n",
              "      background-color: #E8F0FE;\n",
              "      border: none;\n",
              "      border-radius: 50%;\n",
              "      cursor: pointer;\n",
              "      display: none;\n",
              "      fill: #1967D2;\n",
              "      height: 32px;\n",
              "      padding: 0 0 0 0;\n",
              "      width: 32px;\n",
              "    }\n",
              "\n",
              "    .colab-df-convert:hover {\n",
              "      background-color: #E2EBFA;\n",
              "      box-shadow: 0px 1px 2px rgba(60, 64, 67, 0.3), 0px 1px 3px 1px rgba(60, 64, 67, 0.15);\n",
              "      fill: #174EA6;\n",
              "    }\n",
              "\n",
              "    [theme=dark] .colab-df-convert {\n",
              "      background-color: #3B4455;\n",
              "      fill: #D2E3FC;\n",
              "    }\n",
              "\n",
              "    [theme=dark] .colab-df-convert:hover {\n",
              "      background-color: #434B5C;\n",
              "      box-shadow: 0px 1px 3px 1px rgba(0, 0, 0, 0.15);\n",
              "      filter: drop-shadow(0px 1px 2px rgba(0, 0, 0, 0.3));\n",
              "      fill: #FFFFFF;\n",
              "    }\n",
              "  </style>\n",
              "\n",
              "      <script>\n",
              "        const buttonEl =\n",
              "          document.querySelector('#df-634fee36-9898-411d-bcd5-c13cdc5c436f button.colab-df-convert');\n",
              "        buttonEl.style.display =\n",
              "          google.colab.kernel.accessAllowed ? 'block' : 'none';\n",
              "\n",
              "        async function convertToInteractive(key) {\n",
              "          const element = document.querySelector('#df-634fee36-9898-411d-bcd5-c13cdc5c436f');\n",
              "          const dataTable =\n",
              "            await google.colab.kernel.invokeFunction('convertToInteractive',\n",
              "                                                     [key], {});\n",
              "          if (!dataTable) return;\n",
              "\n",
              "          const docLinkHtml = 'Like what you see? Visit the ' +\n",
              "            '<a target=\"_blank\" href=https://colab.research.google.com/notebooks/data_table.ipynb>data table notebook</a>'\n",
              "            + ' to learn more about interactive tables.';\n",
              "          element.innerHTML = '';\n",
              "          dataTable['output_type'] = 'display_data';\n",
              "          await google.colab.output.renderOutput(dataTable, element);\n",
              "          const docLink = document.createElement('div');\n",
              "          docLink.innerHTML = docLinkHtml;\n",
              "          element.appendChild(docLink);\n",
              "        }\n",
              "      </script>\n",
              "    </div>\n",
              "  </div>\n",
              "  "
            ]
          },
          "metadata": {},
          "execution_count": 4
        }
      ]
    },
    {
      "cell_type": "code",
      "source": [
        "df.tail()"
      ],
      "metadata": {
        "colab": {
          "base_uri": "https://localhost:8080/",
          "height": 317
        },
        "id": "eDz1HbI4yB9l",
        "outputId": "74851321-e505-4b12-9ff9-f527594d224a"
      },
      "execution_count": null,
      "outputs": [
        {
          "output_type": "execute_result",
          "data": {
            "text/plain": [
              "      Sleep_Stage  MeanP_Alpha_F4  MedianF_Alpha_F4  MeanF_Alpha_F4  \\\n",
              "89091        NREM         0.00055          11.36390        19.73073   \n",
              "89092        NREM         0.00052          10.61463        18.10732   \n",
              "89093        NREM         0.00031          10.11512        17.48293   \n",
              "89094        NREM         0.00042           9.99024        16.35902   \n",
              "89095        NREM         0.00040           9.86537        15.73463   \n",
              "\n",
              "       Spectral Edge_Alpha_F4  PeakF_Alpha_F4  MeanP_Beta_F4  MedianF_Beta_F4  \\\n",
              "89091                19.35610        10.36488        0.00112         21.35415   \n",
              "89092                17.60780         8.61659        0.00084         19.85561   \n",
              "89093                16.85854        10.11512        0.00039         16.73366   \n",
              "89094                15.85951         9.86537        0.00044         15.73463   \n",
              "89095                14.98537        10.36488        0.00037         14.48585   \n",
              "\n",
              "       MeanF_Beta_F4  Spectral Edge_Beta_F4  ...  MeanP_Delta_O2  \\\n",
              "89091       31.34439               34.96585  ...         0.00779   \n",
              "89092       31.21951               36.33951  ...         0.00620   \n",
              "89093       24.97561               26.97366  ...         0.00101   \n",
              "89094       24.85073               26.47415  ...         0.00426   \n",
              "89095       22.72780               24.10146  ...         0.00116   \n",
              "\n",
              "       MedianF_Delta_O2  MeanF_Delta_O2  Spectral Edge_Delta_O2  \\\n",
              "89091           0.74927         4.87024                 1.87317   \n",
              "89092           0.99902         4.87024                 2.24780   \n",
              "89093           1.12390         6.99317                 3.74634   \n",
              "89094           1.12390         5.24488                 2.24780   \n",
              "89095           0.87415         7.36780                 3.99610   \n",
              "\n",
              "       PeakF_Delta_O2  MeanP_Gamma_O2  MedianF_Gamma_O2  MeanF_Gamma_O2  \\\n",
              "89091         0.62439        0.000420          34.96585        41.08488   \n",
              "89092         0.49951        0.000330          36.83902        43.45756   \n",
              "89093         0.49951        0.000063          29.09659        37.58829   \n",
              "89094         1.24878        0.000065          29.59610        39.08683   \n",
              "89095         0.74927        0.000041          27.09854        36.58927   \n",
              "\n",
              "       Spectral Edge_Gamma_O2  PeakF_Gamma_O2  \n",
              "89091                48.45268        36.21463  \n",
              "89092                50.95024        36.46439  \n",
              "89093                45.20585        24.22634  \n",
              "89094                47.57854        24.97561  \n",
              "89095                43.08293        21.10439  \n",
              "\n",
              "[5 rows x 76 columns]"
            ],
            "text/html": [
              "\n",
              "  <div id=\"df-feda6629-cc91-400d-be3b-2039909402e9\">\n",
              "    <div class=\"colab-df-container\">\n",
              "      <div>\n",
              "<style scoped>\n",
              "    .dataframe tbody tr th:only-of-type {\n",
              "        vertical-align: middle;\n",
              "    }\n",
              "\n",
              "    .dataframe tbody tr th {\n",
              "        vertical-align: top;\n",
              "    }\n",
              "\n",
              "    .dataframe thead th {\n",
              "        text-align: right;\n",
              "    }\n",
              "</style>\n",
              "<table border=\"1\" class=\"dataframe\">\n",
              "  <thead>\n",
              "    <tr style=\"text-align: right;\">\n",
              "      <th></th>\n",
              "      <th>Sleep_Stage</th>\n",
              "      <th>MeanP_Alpha_F4</th>\n",
              "      <th>MedianF_Alpha_F4</th>\n",
              "      <th>MeanF_Alpha_F4</th>\n",
              "      <th>Spectral Edge_Alpha_F4</th>\n",
              "      <th>PeakF_Alpha_F4</th>\n",
              "      <th>MeanP_Beta_F4</th>\n",
              "      <th>MedianF_Beta_F4</th>\n",
              "      <th>MeanF_Beta_F4</th>\n",
              "      <th>Spectral Edge_Beta_F4</th>\n",
              "      <th>...</th>\n",
              "      <th>MeanP_Delta_O2</th>\n",
              "      <th>MedianF_Delta_O2</th>\n",
              "      <th>MeanF_Delta_O2</th>\n",
              "      <th>Spectral Edge_Delta_O2</th>\n",
              "      <th>PeakF_Delta_O2</th>\n",
              "      <th>MeanP_Gamma_O2</th>\n",
              "      <th>MedianF_Gamma_O2</th>\n",
              "      <th>MeanF_Gamma_O2</th>\n",
              "      <th>Spectral Edge_Gamma_O2</th>\n",
              "      <th>PeakF_Gamma_O2</th>\n",
              "    </tr>\n",
              "  </thead>\n",
              "  <tbody>\n",
              "    <tr>\n",
              "      <th>89091</th>\n",
              "      <td>NREM</td>\n",
              "      <td>0.00055</td>\n",
              "      <td>11.36390</td>\n",
              "      <td>19.73073</td>\n",
              "      <td>19.35610</td>\n",
              "      <td>10.36488</td>\n",
              "      <td>0.00112</td>\n",
              "      <td>21.35415</td>\n",
              "      <td>31.34439</td>\n",
              "      <td>34.96585</td>\n",
              "      <td>...</td>\n",
              "      <td>0.00779</td>\n",
              "      <td>0.74927</td>\n",
              "      <td>4.87024</td>\n",
              "      <td>1.87317</td>\n",
              "      <td>0.62439</td>\n",
              "      <td>0.000420</td>\n",
              "      <td>34.96585</td>\n",
              "      <td>41.08488</td>\n",
              "      <td>48.45268</td>\n",
              "      <td>36.21463</td>\n",
              "    </tr>\n",
              "    <tr>\n",
              "      <th>89092</th>\n",
              "      <td>NREM</td>\n",
              "      <td>0.00052</td>\n",
              "      <td>10.61463</td>\n",
              "      <td>18.10732</td>\n",
              "      <td>17.60780</td>\n",
              "      <td>8.61659</td>\n",
              "      <td>0.00084</td>\n",
              "      <td>19.85561</td>\n",
              "      <td>31.21951</td>\n",
              "      <td>36.33951</td>\n",
              "      <td>...</td>\n",
              "      <td>0.00620</td>\n",
              "      <td>0.99902</td>\n",
              "      <td>4.87024</td>\n",
              "      <td>2.24780</td>\n",
              "      <td>0.49951</td>\n",
              "      <td>0.000330</td>\n",
              "      <td>36.83902</td>\n",
              "      <td>43.45756</td>\n",
              "      <td>50.95024</td>\n",
              "      <td>36.46439</td>\n",
              "    </tr>\n",
              "    <tr>\n",
              "      <th>89093</th>\n",
              "      <td>NREM</td>\n",
              "      <td>0.00031</td>\n",
              "      <td>10.11512</td>\n",
              "      <td>17.48293</td>\n",
              "      <td>16.85854</td>\n",
              "      <td>10.11512</td>\n",
              "      <td>0.00039</td>\n",
              "      <td>16.73366</td>\n",
              "      <td>24.97561</td>\n",
              "      <td>26.97366</td>\n",
              "      <td>...</td>\n",
              "      <td>0.00101</td>\n",
              "      <td>1.12390</td>\n",
              "      <td>6.99317</td>\n",
              "      <td>3.74634</td>\n",
              "      <td>0.49951</td>\n",
              "      <td>0.000063</td>\n",
              "      <td>29.09659</td>\n",
              "      <td>37.58829</td>\n",
              "      <td>45.20585</td>\n",
              "      <td>24.22634</td>\n",
              "    </tr>\n",
              "    <tr>\n",
              "      <th>89094</th>\n",
              "      <td>NREM</td>\n",
              "      <td>0.00042</td>\n",
              "      <td>9.99024</td>\n",
              "      <td>16.35902</td>\n",
              "      <td>15.85951</td>\n",
              "      <td>9.86537</td>\n",
              "      <td>0.00044</td>\n",
              "      <td>15.73463</td>\n",
              "      <td>24.85073</td>\n",
              "      <td>26.47415</td>\n",
              "      <td>...</td>\n",
              "      <td>0.00426</td>\n",
              "      <td>1.12390</td>\n",
              "      <td>5.24488</td>\n",
              "      <td>2.24780</td>\n",
              "      <td>1.24878</td>\n",
              "      <td>0.000065</td>\n",
              "      <td>29.59610</td>\n",
              "      <td>39.08683</td>\n",
              "      <td>47.57854</td>\n",
              "      <td>24.97561</td>\n",
              "    </tr>\n",
              "    <tr>\n",
              "      <th>89095</th>\n",
              "      <td>NREM</td>\n",
              "      <td>0.00040</td>\n",
              "      <td>9.86537</td>\n",
              "      <td>15.73463</td>\n",
              "      <td>14.98537</td>\n",
              "      <td>10.36488</td>\n",
              "      <td>0.00037</td>\n",
              "      <td>14.48585</td>\n",
              "      <td>22.72780</td>\n",
              "      <td>24.10146</td>\n",
              "      <td>...</td>\n",
              "      <td>0.00116</td>\n",
              "      <td>0.87415</td>\n",
              "      <td>7.36780</td>\n",
              "      <td>3.99610</td>\n",
              "      <td>0.74927</td>\n",
              "      <td>0.000041</td>\n",
              "      <td>27.09854</td>\n",
              "      <td>36.58927</td>\n",
              "      <td>43.08293</td>\n",
              "      <td>21.10439</td>\n",
              "    </tr>\n",
              "  </tbody>\n",
              "</table>\n",
              "<p>5 rows × 76 columns</p>\n",
              "</div>\n",
              "      <button class=\"colab-df-convert\" onclick=\"convertToInteractive('df-feda6629-cc91-400d-be3b-2039909402e9')\"\n",
              "              title=\"Convert this dataframe to an interactive table.\"\n",
              "              style=\"display:none;\">\n",
              "        \n",
              "  <svg xmlns=\"http://www.w3.org/2000/svg\" height=\"24px\"viewBox=\"0 0 24 24\"\n",
              "       width=\"24px\">\n",
              "    <path d=\"M0 0h24v24H0V0z\" fill=\"none\"/>\n",
              "    <path d=\"M18.56 5.44l.94 2.06.94-2.06 2.06-.94-2.06-.94-.94-2.06-.94 2.06-2.06.94zm-11 1L8.5 8.5l.94-2.06 2.06-.94-2.06-.94L8.5 2.5l-.94 2.06-2.06.94zm10 10l.94 2.06.94-2.06 2.06-.94-2.06-.94-.94-2.06-.94 2.06-2.06.94z\"/><path d=\"M17.41 7.96l-1.37-1.37c-.4-.4-.92-.59-1.43-.59-.52 0-1.04.2-1.43.59L10.3 9.45l-7.72 7.72c-.78.78-.78 2.05 0 2.83L4 21.41c.39.39.9.59 1.41.59.51 0 1.02-.2 1.41-.59l7.78-7.78 2.81-2.81c.8-.78.8-2.07 0-2.86zM5.41 20L4 18.59l7.72-7.72 1.47 1.35L5.41 20z\"/>\n",
              "  </svg>\n",
              "      </button>\n",
              "      \n",
              "  <style>\n",
              "    .colab-df-container {\n",
              "      display:flex;\n",
              "      flex-wrap:wrap;\n",
              "      gap: 12px;\n",
              "    }\n",
              "\n",
              "    .colab-df-convert {\n",
              "      background-color: #E8F0FE;\n",
              "      border: none;\n",
              "      border-radius: 50%;\n",
              "      cursor: pointer;\n",
              "      display: none;\n",
              "      fill: #1967D2;\n",
              "      height: 32px;\n",
              "      padding: 0 0 0 0;\n",
              "      width: 32px;\n",
              "    }\n",
              "\n",
              "    .colab-df-convert:hover {\n",
              "      background-color: #E2EBFA;\n",
              "      box-shadow: 0px 1px 2px rgba(60, 64, 67, 0.3), 0px 1px 3px 1px rgba(60, 64, 67, 0.15);\n",
              "      fill: #174EA6;\n",
              "    }\n",
              "\n",
              "    [theme=dark] .colab-df-convert {\n",
              "      background-color: #3B4455;\n",
              "      fill: #D2E3FC;\n",
              "    }\n",
              "\n",
              "    [theme=dark] .colab-df-convert:hover {\n",
              "      background-color: #434B5C;\n",
              "      box-shadow: 0px 1px 3px 1px rgba(0, 0, 0, 0.15);\n",
              "      filter: drop-shadow(0px 1px 2px rgba(0, 0, 0, 0.3));\n",
              "      fill: #FFFFFF;\n",
              "    }\n",
              "  </style>\n",
              "\n",
              "      <script>\n",
              "        const buttonEl =\n",
              "          document.querySelector('#df-feda6629-cc91-400d-be3b-2039909402e9 button.colab-df-convert');\n",
              "        buttonEl.style.display =\n",
              "          google.colab.kernel.accessAllowed ? 'block' : 'none';\n",
              "\n",
              "        async function convertToInteractive(key) {\n",
              "          const element = document.querySelector('#df-feda6629-cc91-400d-be3b-2039909402e9');\n",
              "          const dataTable =\n",
              "            await google.colab.kernel.invokeFunction('convertToInteractive',\n",
              "                                                     [key], {});\n",
              "          if (!dataTable) return;\n",
              "\n",
              "          const docLinkHtml = 'Like what you see? Visit the ' +\n",
              "            '<a target=\"_blank\" href=https://colab.research.google.com/notebooks/data_table.ipynb>data table notebook</a>'\n",
              "            + ' to learn more about interactive tables.';\n",
              "          element.innerHTML = '';\n",
              "          dataTable['output_type'] = 'display_data';\n",
              "          await google.colab.output.renderOutput(dataTable, element);\n",
              "          const docLink = document.createElement('div');\n",
              "          docLink.innerHTML = docLinkHtml;\n",
              "          element.appendChild(docLink);\n",
              "        }\n",
              "      </script>\n",
              "    </div>\n",
              "  </div>\n",
              "  "
            ]
          },
          "metadata": {},
          "execution_count": 5
        }
      ]
    },
    {
      "cell_type": "code",
      "source": [
        "df.shape    #(row,col)"
      ],
      "metadata": {
        "colab": {
          "base_uri": "https://localhost:8080/"
        },
        "id": "QwI2pupgyF2Z",
        "outputId": "6a9aa652-2564-4be4-809e-c30a76acfca3"
      },
      "execution_count": null,
      "outputs": [
        {
          "output_type": "execute_result",
          "data": {
            "text/plain": [
              "(89096, 76)"
            ]
          },
          "metadata": {},
          "execution_count": 6
        }
      ]
    },
    {
      "cell_type": "code",
      "source": [
        "sorted(list(set(df[target])))"
      ],
      "metadata": {
        "colab": {
          "base_uri": "https://localhost:8080/"
        },
        "id": "xDS9cPMeyJ3J",
        "outputId": "134dc463-a9ef-4568-f427-73ceed282ef7"
      },
      "execution_count": null,
      "outputs": [
        {
          "output_type": "execute_result",
          "data": {
            "text/plain": [
              "['NREM', 'REM']"
            ]
          },
          "metadata": {},
          "execution_count": 7
        }
      ]
    },
    {
      "cell_type": "code",
      "source": [
        "df.info()"
      ],
      "metadata": {
        "colab": {
          "base_uri": "https://localhost:8080/"
        },
        "id": "baR_eJaoy6cU",
        "outputId": "9484aee8-bf33-4fb7-e068-df88f061b3ea"
      },
      "execution_count": null,
      "outputs": [
        {
          "output_type": "stream",
          "name": "stdout",
          "text": [
            "<class 'pandas.core.frame.DataFrame'>\n",
            "RangeIndex: 89096 entries, 0 to 89095\n",
            "Data columns (total 76 columns):\n",
            " #   Column                  Non-Null Count  Dtype  \n",
            "---  ------                  --------------  -----  \n",
            " 0   Sleep_Stage             89096 non-null  object \n",
            " 1   MeanP_Alpha_F4          89096 non-null  float64\n",
            " 2   MedianF_Alpha_F4        89096 non-null  float64\n",
            " 3   MeanF_Alpha_F4          89096 non-null  float64\n",
            " 4   Spectral Edge_Alpha_F4  89096 non-null  float64\n",
            " 5   PeakF_Alpha_F4          89096 non-null  float64\n",
            " 6   MeanP_Beta_F4           89096 non-null  float64\n",
            " 7   MedianF_Beta_F4         89096 non-null  float64\n",
            " 8   MeanF_Beta_F4           89096 non-null  float64\n",
            " 9   Spectral Edge_Beta_F4   89096 non-null  float64\n",
            " 10  PeakF_Beta_F4           89096 non-null  float64\n",
            " 11  MeanP_Theta_F4          89096 non-null  float64\n",
            " 12  MedianF_Theta_F4        89096 non-null  float64\n",
            " 13  MeanF_Theta_F4          89096 non-null  float64\n",
            " 14  Spectral Edge_Theta_F4  89096 non-null  float64\n",
            " 15  PeakF_Theta_F4          89096 non-null  float64\n",
            " 16  MeanP_Delta_F4          89096 non-null  float64\n",
            " 17  MedianF_Delta_F4        89096 non-null  float64\n",
            " 18  MeanF_Delta_F4          89096 non-null  float64\n",
            " 19  Spectral Edge_Delta_F4  89096 non-null  float64\n",
            " 20  PeakF_Delta_F4          89096 non-null  float64\n",
            " 21  MeanP_Gamma_F4          89096 non-null  float64\n",
            " 22  MedianF_Gamma_F4        89096 non-null  float64\n",
            " 23  MeanF_Gamma_F4          89096 non-null  float64\n",
            " 24  Spectral Edge_Gamma_F4  89096 non-null  float64\n",
            " 25  PeakF_Gamma_F4          89096 non-null  float64\n",
            " 26  MeanP_Alpha_C4          89096 non-null  float64\n",
            " 27  MedianF_Alpha_C4        89096 non-null  float64\n",
            " 28  MeanF_Alpha_C4          89096 non-null  float64\n",
            " 29  Spectral Edge_Alpha_C4  89096 non-null  float64\n",
            " 30  PeakF_Alpha_C4          89096 non-null  float64\n",
            " 31  MeanP_Beta_C4           89096 non-null  float64\n",
            " 32  MedianF_Beta_C4         89096 non-null  float64\n",
            " 33  MeanF_Beta_C4           89096 non-null  float64\n",
            " 34  Spectral Edge_Beta_C4   89096 non-null  float64\n",
            " 35  PeakF_Beta_C4           89096 non-null  float64\n",
            " 36  MeanP_Theta_C4          89096 non-null  float64\n",
            " 37  MedianF_Theta_C4        89096 non-null  float64\n",
            " 38  MeanF_Theta_C4          89096 non-null  float64\n",
            " 39  Spectral Edge_Theta_C4  89096 non-null  float64\n",
            " 40  PeakF_Theta_C4          89096 non-null  float64\n",
            " 41  MeanP_Delta_C4          89096 non-null  float64\n",
            " 42  MedianF_Delta_C4        89096 non-null  float64\n",
            " 43  MeanF_Delta_C4          89096 non-null  float64\n",
            " 44  Spectral Edge_Delta_C4  89096 non-null  float64\n",
            " 45  PeakF_Delta_C4          89096 non-null  float64\n",
            " 46  MeanP_Gamma_C4          89096 non-null  float64\n",
            " 47  MedianF_Gamma_C4        89096 non-null  float64\n",
            " 48  MeanF_Gamma_C4          89096 non-null  float64\n",
            " 49  Spectral Edge_Gamma_C4  89096 non-null  float64\n",
            " 50  PeakF_Gamma_C4          89096 non-null  float64\n",
            " 51  MeanP_Alpha_O2          89096 non-null  float64\n",
            " 52  MedianF_Alpha_O2        89096 non-null  float64\n",
            " 53  MeanF_Alpha_O2          89096 non-null  float64\n",
            " 54  Spectral Edge_Alpha_O2  89096 non-null  float64\n",
            " 55  PeakF_Alpha_O2          89096 non-null  float64\n",
            " 56  MeanP_Beta_O2           89096 non-null  float64\n",
            " 57  MedianF_Beta_O2         89096 non-null  float64\n",
            " 58  MeanF_Beta_O2           89096 non-null  float64\n",
            " 59  Spectral Edge_Beta_O2   89096 non-null  float64\n",
            " 60  PeakF_Beta_O2           89096 non-null  float64\n",
            " 61  MeanP_Theta_O2          89096 non-null  float64\n",
            " 62  MedianF_Theta_O2        89096 non-null  float64\n",
            " 63  MeanF_Theta_O2          89096 non-null  float64\n",
            " 64  Spectral Edge_Theta_O2  89096 non-null  float64\n",
            " 65  PeakF_Theta_O2          89096 non-null  float64\n",
            " 66  MeanP_Delta_O2          89096 non-null  float64\n",
            " 67  MedianF_Delta_O2        89096 non-null  float64\n",
            " 68  MeanF_Delta_O2          89096 non-null  float64\n",
            " 69  Spectral Edge_Delta_O2  89096 non-null  float64\n",
            " 70  PeakF_Delta_O2          89096 non-null  float64\n",
            " 71  MeanP_Gamma_O2          89096 non-null  float64\n",
            " 72  MedianF_Gamma_O2        89096 non-null  float64\n",
            " 73  MeanF_Gamma_O2          89096 non-null  float64\n",
            " 74  Spectral Edge_Gamma_O2  89096 non-null  float64\n",
            " 75  PeakF_Gamma_O2          89096 non-null  float64\n",
            "dtypes: float64(75), object(1)\n",
            "memory usage: 51.7+ MB\n"
          ]
        }
      ]
    },
    {
      "cell_type": "markdown",
      "source": [
        "Label Encoding"
      ],
      "metadata": {
        "id": "LhDd7M9h0JYJ"
      }
    },
    {
      "cell_type": "code",
      "source": [
        "from sklearn.preprocessing import LabelEncoder\n",
        "\n",
        "encoder = LabelEncoder()\n",
        "\n",
        "df[target] = encoder.fit_transform(df[target])"
      ],
      "metadata": {
        "id": "w7upusgjzF1P"
      },
      "execution_count": null,
      "outputs": []
    },
    {
      "cell_type": "code",
      "source": [
        "sorted(list(set(df[target])))"
      ],
      "metadata": {
        "colab": {
          "base_uri": "https://localhost:8080/"
        },
        "id": "SrMVunOlz1Ii",
        "outputId": "2084ce11-da6d-40ef-e6ae-7e964e0267e6"
      },
      "execution_count": null,
      "outputs": [
        {
          "output_type": "execute_result",
          "data": {
            "text/plain": [
              "[0, 1]"
            ]
          },
          "metadata": {},
          "execution_count": 10
        }
      ]
    },
    {
      "cell_type": "code",
      "source": [
        "df.info()"
      ],
      "metadata": {
        "colab": {
          "base_uri": "https://localhost:8080/"
        },
        "id": "5KFPzEGpz43Q",
        "outputId": "e1c6c62d-ae6b-4e9c-d150-56ed5008090e"
      },
      "execution_count": null,
      "outputs": [
        {
          "output_type": "stream",
          "name": "stdout",
          "text": [
            "<class 'pandas.core.frame.DataFrame'>\n",
            "RangeIndex: 89096 entries, 0 to 89095\n",
            "Data columns (total 76 columns):\n",
            " #   Column                  Non-Null Count  Dtype  \n",
            "---  ------                  --------------  -----  \n",
            " 0   Sleep_Stage             89096 non-null  int64  \n",
            " 1   MeanP_Alpha_F4          89096 non-null  float64\n",
            " 2   MedianF_Alpha_F4        89096 non-null  float64\n",
            " 3   MeanF_Alpha_F4          89096 non-null  float64\n",
            " 4   Spectral Edge_Alpha_F4  89096 non-null  float64\n",
            " 5   PeakF_Alpha_F4          89096 non-null  float64\n",
            " 6   MeanP_Beta_F4           89096 non-null  float64\n",
            " 7   MedianF_Beta_F4         89096 non-null  float64\n",
            " 8   MeanF_Beta_F4           89096 non-null  float64\n",
            " 9   Spectral Edge_Beta_F4   89096 non-null  float64\n",
            " 10  PeakF_Beta_F4           89096 non-null  float64\n",
            " 11  MeanP_Theta_F4          89096 non-null  float64\n",
            " 12  MedianF_Theta_F4        89096 non-null  float64\n",
            " 13  MeanF_Theta_F4          89096 non-null  float64\n",
            " 14  Spectral Edge_Theta_F4  89096 non-null  float64\n",
            " 15  PeakF_Theta_F4          89096 non-null  float64\n",
            " 16  MeanP_Delta_F4          89096 non-null  float64\n",
            " 17  MedianF_Delta_F4        89096 non-null  float64\n",
            " 18  MeanF_Delta_F4          89096 non-null  float64\n",
            " 19  Spectral Edge_Delta_F4  89096 non-null  float64\n",
            " 20  PeakF_Delta_F4          89096 non-null  float64\n",
            " 21  MeanP_Gamma_F4          89096 non-null  float64\n",
            " 22  MedianF_Gamma_F4        89096 non-null  float64\n",
            " 23  MeanF_Gamma_F4          89096 non-null  float64\n",
            " 24  Spectral Edge_Gamma_F4  89096 non-null  float64\n",
            " 25  PeakF_Gamma_F4          89096 non-null  float64\n",
            " 26  MeanP_Alpha_C4          89096 non-null  float64\n",
            " 27  MedianF_Alpha_C4        89096 non-null  float64\n",
            " 28  MeanF_Alpha_C4          89096 non-null  float64\n",
            " 29  Spectral Edge_Alpha_C4  89096 non-null  float64\n",
            " 30  PeakF_Alpha_C4          89096 non-null  float64\n",
            " 31  MeanP_Beta_C4           89096 non-null  float64\n",
            " 32  MedianF_Beta_C4         89096 non-null  float64\n",
            " 33  MeanF_Beta_C4           89096 non-null  float64\n",
            " 34  Spectral Edge_Beta_C4   89096 non-null  float64\n",
            " 35  PeakF_Beta_C4           89096 non-null  float64\n",
            " 36  MeanP_Theta_C4          89096 non-null  float64\n",
            " 37  MedianF_Theta_C4        89096 non-null  float64\n",
            " 38  MeanF_Theta_C4          89096 non-null  float64\n",
            " 39  Spectral Edge_Theta_C4  89096 non-null  float64\n",
            " 40  PeakF_Theta_C4          89096 non-null  float64\n",
            " 41  MeanP_Delta_C4          89096 non-null  float64\n",
            " 42  MedianF_Delta_C4        89096 non-null  float64\n",
            " 43  MeanF_Delta_C4          89096 non-null  float64\n",
            " 44  Spectral Edge_Delta_C4  89096 non-null  float64\n",
            " 45  PeakF_Delta_C4          89096 non-null  float64\n",
            " 46  MeanP_Gamma_C4          89096 non-null  float64\n",
            " 47  MedianF_Gamma_C4        89096 non-null  float64\n",
            " 48  MeanF_Gamma_C4          89096 non-null  float64\n",
            " 49  Spectral Edge_Gamma_C4  89096 non-null  float64\n",
            " 50  PeakF_Gamma_C4          89096 non-null  float64\n",
            " 51  MeanP_Alpha_O2          89096 non-null  float64\n",
            " 52  MedianF_Alpha_O2        89096 non-null  float64\n",
            " 53  MeanF_Alpha_O2          89096 non-null  float64\n",
            " 54  Spectral Edge_Alpha_O2  89096 non-null  float64\n",
            " 55  PeakF_Alpha_O2          89096 non-null  float64\n",
            " 56  MeanP_Beta_O2           89096 non-null  float64\n",
            " 57  MedianF_Beta_O2         89096 non-null  float64\n",
            " 58  MeanF_Beta_O2           89096 non-null  float64\n",
            " 59  Spectral Edge_Beta_O2   89096 non-null  float64\n",
            " 60  PeakF_Beta_O2           89096 non-null  float64\n",
            " 61  MeanP_Theta_O2          89096 non-null  float64\n",
            " 62  MedianF_Theta_O2        89096 non-null  float64\n",
            " 63  MeanF_Theta_O2          89096 non-null  float64\n",
            " 64  Spectral Edge_Theta_O2  89096 non-null  float64\n",
            " 65  PeakF_Theta_O2          89096 non-null  float64\n",
            " 66  MeanP_Delta_O2          89096 non-null  float64\n",
            " 67  MedianF_Delta_O2        89096 non-null  float64\n",
            " 68  MeanF_Delta_O2          89096 non-null  float64\n",
            " 69  Spectral Edge_Delta_O2  89096 non-null  float64\n",
            " 70  PeakF_Delta_O2          89096 non-null  float64\n",
            " 71  MeanP_Gamma_O2          89096 non-null  float64\n",
            " 72  MedianF_Gamma_O2        89096 non-null  float64\n",
            " 73  MeanF_Gamma_O2          89096 non-null  float64\n",
            " 74  Spectral Edge_Gamma_O2  89096 non-null  float64\n",
            " 75  PeakF_Gamma_O2          89096 non-null  float64\n",
            "dtypes: float64(75), int64(1)\n",
            "memory usage: 51.7 MB\n"
          ]
        }
      ]
    },
    {
      "cell_type": "markdown",
      "source": [
        "Dataset Spliting"
      ],
      "metadata": {
        "id": "3KgKZ33e0Mim"
      }
    },
    {
      "cell_type": "code",
      "source": [
        "x = df.loc[:,df.columns != target]       #df.loc[starting_row : ending row, list_of_columns]\n",
        "\n",
        "y = df[target]"
      ],
      "metadata": {
        "id": "yON5bfKcz6ck"
      },
      "execution_count": null,
      "outputs": []
    },
    {
      "cell_type": "code",
      "source": [
        "x.head()"
      ],
      "metadata": {
        "colab": {
          "base_uri": "https://localhost:8080/",
          "height": 317
        },
        "id": "FSihjTbU09lu",
        "outputId": "d263a1e8-b629-4623-b0b1-6b8ec7a40ec0"
      },
      "execution_count": null,
      "outputs": [
        {
          "output_type": "execute_result",
          "data": {
            "text/plain": [
              "   MeanP_Alpha_F4  MedianF_Alpha_F4  MeanF_Alpha_F4  Spectral Edge_Alpha_F4  \\\n",
              "0         0.00034          10.11512        17.85756                17.48293   \n",
              "1         0.00035          10.73951        17.60780                17.10829   \n",
              "2         0.00035           9.36585        17.60780                16.98341   \n",
              "3         0.00050          10.36488        16.60878                15.85951   \n",
              "4         0.00072           9.36585        15.98439                15.48488   \n",
              "\n",
              "   PeakF_Alpha_F4  MeanP_Beta_F4  MedianF_Beta_F4  MeanF_Beta_F4  \\\n",
              "0        10.24000        0.00047         17.73268       25.35024   \n",
              "1         9.11610        0.00048         16.85854       25.22537   \n",
              "2         9.24098        0.00042         17.35805       26.09951   \n",
              "3         7.99220        0.00053         15.48488       24.10146   \n",
              "4         7.99220        0.00067         15.11024       22.22829   \n",
              "\n",
              "   Spectral Edge_Beta_F4  PeakF_Beta_F4  ...  MeanP_Delta_O2  \\\n",
              "0               27.47317       14.36098  ...         0.00112   \n",
              "1               26.97366       16.60878  ...         0.00070   \n",
              "2               28.47220       14.98537  ...         0.00077   \n",
              "3               25.72488       11.36390  ...         0.00130   \n",
              "4               23.22732       15.98439  ...         0.00123   \n",
              "\n",
              "   MedianF_Delta_O2  MeanF_Delta_O2  Spectral Edge_Delta_O2  PeakF_Delta_O2  \\\n",
              "0           0.74927         6.36878                 2.87220         0.62439   \n",
              "1           0.99902         6.86829                 3.62146         0.74927   \n",
              "2           1.49854         6.49366                 4.12098         0.74927   \n",
              "3           1.87317         6.11902                 3.74634         0.37463   \n",
              "4           1.49854         6.61854                 3.74634         0.74927   \n",
              "\n",
              "   MeanP_Gamma_O2  MedianF_Gamma_O2  MeanF_Gamma_O2  Spectral Edge_Gamma_O2  \\\n",
              "0        0.000076          32.71805        43.83220                49.95122   \n",
              "1        0.000072          32.09366        44.33171                49.95122   \n",
              "2        0.000069          33.09268        43.95707                49.95122   \n",
              "3        0.000070          31.59415        42.83317                49.95122   \n",
              "4        0.000060          29.47122        45.08098                49.95122   \n",
              "\n",
              "   PeakF_Gamma_O2  \n",
              "0        49.95122  \n",
              "1        49.95122  \n",
              "2        49.95122  \n",
              "3        49.95122  \n",
              "4        49.95122  \n",
              "\n",
              "[5 rows x 75 columns]"
            ],
            "text/html": [
              "\n",
              "  <div id=\"df-b4e6289e-0d3c-42ab-b1a3-19edbdc217da\">\n",
              "    <div class=\"colab-df-container\">\n",
              "      <div>\n",
              "<style scoped>\n",
              "    .dataframe tbody tr th:only-of-type {\n",
              "        vertical-align: middle;\n",
              "    }\n",
              "\n",
              "    .dataframe tbody tr th {\n",
              "        vertical-align: top;\n",
              "    }\n",
              "\n",
              "    .dataframe thead th {\n",
              "        text-align: right;\n",
              "    }\n",
              "</style>\n",
              "<table border=\"1\" class=\"dataframe\">\n",
              "  <thead>\n",
              "    <tr style=\"text-align: right;\">\n",
              "      <th></th>\n",
              "      <th>MeanP_Alpha_F4</th>\n",
              "      <th>MedianF_Alpha_F4</th>\n",
              "      <th>MeanF_Alpha_F4</th>\n",
              "      <th>Spectral Edge_Alpha_F4</th>\n",
              "      <th>PeakF_Alpha_F4</th>\n",
              "      <th>MeanP_Beta_F4</th>\n",
              "      <th>MedianF_Beta_F4</th>\n",
              "      <th>MeanF_Beta_F4</th>\n",
              "      <th>Spectral Edge_Beta_F4</th>\n",
              "      <th>PeakF_Beta_F4</th>\n",
              "      <th>...</th>\n",
              "      <th>MeanP_Delta_O2</th>\n",
              "      <th>MedianF_Delta_O2</th>\n",
              "      <th>MeanF_Delta_O2</th>\n",
              "      <th>Spectral Edge_Delta_O2</th>\n",
              "      <th>PeakF_Delta_O2</th>\n",
              "      <th>MeanP_Gamma_O2</th>\n",
              "      <th>MedianF_Gamma_O2</th>\n",
              "      <th>MeanF_Gamma_O2</th>\n",
              "      <th>Spectral Edge_Gamma_O2</th>\n",
              "      <th>PeakF_Gamma_O2</th>\n",
              "    </tr>\n",
              "  </thead>\n",
              "  <tbody>\n",
              "    <tr>\n",
              "      <th>0</th>\n",
              "      <td>0.00034</td>\n",
              "      <td>10.11512</td>\n",
              "      <td>17.85756</td>\n",
              "      <td>17.48293</td>\n",
              "      <td>10.24000</td>\n",
              "      <td>0.00047</td>\n",
              "      <td>17.73268</td>\n",
              "      <td>25.35024</td>\n",
              "      <td>27.47317</td>\n",
              "      <td>14.36098</td>\n",
              "      <td>...</td>\n",
              "      <td>0.00112</td>\n",
              "      <td>0.74927</td>\n",
              "      <td>6.36878</td>\n",
              "      <td>2.87220</td>\n",
              "      <td>0.62439</td>\n",
              "      <td>0.000076</td>\n",
              "      <td>32.71805</td>\n",
              "      <td>43.83220</td>\n",
              "      <td>49.95122</td>\n",
              "      <td>49.95122</td>\n",
              "    </tr>\n",
              "    <tr>\n",
              "      <th>1</th>\n",
              "      <td>0.00035</td>\n",
              "      <td>10.73951</td>\n",
              "      <td>17.60780</td>\n",
              "      <td>17.10829</td>\n",
              "      <td>9.11610</td>\n",
              "      <td>0.00048</td>\n",
              "      <td>16.85854</td>\n",
              "      <td>25.22537</td>\n",
              "      <td>26.97366</td>\n",
              "      <td>16.60878</td>\n",
              "      <td>...</td>\n",
              "      <td>0.00070</td>\n",
              "      <td>0.99902</td>\n",
              "      <td>6.86829</td>\n",
              "      <td>3.62146</td>\n",
              "      <td>0.74927</td>\n",
              "      <td>0.000072</td>\n",
              "      <td>32.09366</td>\n",
              "      <td>44.33171</td>\n",
              "      <td>49.95122</td>\n",
              "      <td>49.95122</td>\n",
              "    </tr>\n",
              "    <tr>\n",
              "      <th>2</th>\n",
              "      <td>0.00035</td>\n",
              "      <td>9.36585</td>\n",
              "      <td>17.60780</td>\n",
              "      <td>16.98341</td>\n",
              "      <td>9.24098</td>\n",
              "      <td>0.00042</td>\n",
              "      <td>17.35805</td>\n",
              "      <td>26.09951</td>\n",
              "      <td>28.47220</td>\n",
              "      <td>14.98537</td>\n",
              "      <td>...</td>\n",
              "      <td>0.00077</td>\n",
              "      <td>1.49854</td>\n",
              "      <td>6.49366</td>\n",
              "      <td>4.12098</td>\n",
              "      <td>0.74927</td>\n",
              "      <td>0.000069</td>\n",
              "      <td>33.09268</td>\n",
              "      <td>43.95707</td>\n",
              "      <td>49.95122</td>\n",
              "      <td>49.95122</td>\n",
              "    </tr>\n",
              "    <tr>\n",
              "      <th>3</th>\n",
              "      <td>0.00050</td>\n",
              "      <td>10.36488</td>\n",
              "      <td>16.60878</td>\n",
              "      <td>15.85951</td>\n",
              "      <td>7.99220</td>\n",
              "      <td>0.00053</td>\n",
              "      <td>15.48488</td>\n",
              "      <td>24.10146</td>\n",
              "      <td>25.72488</td>\n",
              "      <td>11.36390</td>\n",
              "      <td>...</td>\n",
              "      <td>0.00130</td>\n",
              "      <td>1.87317</td>\n",
              "      <td>6.11902</td>\n",
              "      <td>3.74634</td>\n",
              "      <td>0.37463</td>\n",
              "      <td>0.000070</td>\n",
              "      <td>31.59415</td>\n",
              "      <td>42.83317</td>\n",
              "      <td>49.95122</td>\n",
              "      <td>49.95122</td>\n",
              "    </tr>\n",
              "    <tr>\n",
              "      <th>4</th>\n",
              "      <td>0.00072</td>\n",
              "      <td>9.36585</td>\n",
              "      <td>15.98439</td>\n",
              "      <td>15.48488</td>\n",
              "      <td>7.99220</td>\n",
              "      <td>0.00067</td>\n",
              "      <td>15.11024</td>\n",
              "      <td>22.22829</td>\n",
              "      <td>23.22732</td>\n",
              "      <td>15.98439</td>\n",
              "      <td>...</td>\n",
              "      <td>0.00123</td>\n",
              "      <td>1.49854</td>\n",
              "      <td>6.61854</td>\n",
              "      <td>3.74634</td>\n",
              "      <td>0.74927</td>\n",
              "      <td>0.000060</td>\n",
              "      <td>29.47122</td>\n",
              "      <td>45.08098</td>\n",
              "      <td>49.95122</td>\n",
              "      <td>49.95122</td>\n",
              "    </tr>\n",
              "  </tbody>\n",
              "</table>\n",
              "<p>5 rows × 75 columns</p>\n",
              "</div>\n",
              "      <button class=\"colab-df-convert\" onclick=\"convertToInteractive('df-b4e6289e-0d3c-42ab-b1a3-19edbdc217da')\"\n",
              "              title=\"Convert this dataframe to an interactive table.\"\n",
              "              style=\"display:none;\">\n",
              "        \n",
              "  <svg xmlns=\"http://www.w3.org/2000/svg\" height=\"24px\"viewBox=\"0 0 24 24\"\n",
              "       width=\"24px\">\n",
              "    <path d=\"M0 0h24v24H0V0z\" fill=\"none\"/>\n",
              "    <path d=\"M18.56 5.44l.94 2.06.94-2.06 2.06-.94-2.06-.94-.94-2.06-.94 2.06-2.06.94zm-11 1L8.5 8.5l.94-2.06 2.06-.94-2.06-.94L8.5 2.5l-.94 2.06-2.06.94zm10 10l.94 2.06.94-2.06 2.06-.94-2.06-.94-.94-2.06-.94 2.06-2.06.94z\"/><path d=\"M17.41 7.96l-1.37-1.37c-.4-.4-.92-.59-1.43-.59-.52 0-1.04.2-1.43.59L10.3 9.45l-7.72 7.72c-.78.78-.78 2.05 0 2.83L4 21.41c.39.39.9.59 1.41.59.51 0 1.02-.2 1.41-.59l7.78-7.78 2.81-2.81c.8-.78.8-2.07 0-2.86zM5.41 20L4 18.59l7.72-7.72 1.47 1.35L5.41 20z\"/>\n",
              "  </svg>\n",
              "      </button>\n",
              "      \n",
              "  <style>\n",
              "    .colab-df-container {\n",
              "      display:flex;\n",
              "      flex-wrap:wrap;\n",
              "      gap: 12px;\n",
              "    }\n",
              "\n",
              "    .colab-df-convert {\n",
              "      background-color: #E8F0FE;\n",
              "      border: none;\n",
              "      border-radius: 50%;\n",
              "      cursor: pointer;\n",
              "      display: none;\n",
              "      fill: #1967D2;\n",
              "      height: 32px;\n",
              "      padding: 0 0 0 0;\n",
              "      width: 32px;\n",
              "    }\n",
              "\n",
              "    .colab-df-convert:hover {\n",
              "      background-color: #E2EBFA;\n",
              "      box-shadow: 0px 1px 2px rgba(60, 64, 67, 0.3), 0px 1px 3px 1px rgba(60, 64, 67, 0.15);\n",
              "      fill: #174EA6;\n",
              "    }\n",
              "\n",
              "    [theme=dark] .colab-df-convert {\n",
              "      background-color: #3B4455;\n",
              "      fill: #D2E3FC;\n",
              "    }\n",
              "\n",
              "    [theme=dark] .colab-df-convert:hover {\n",
              "      background-color: #434B5C;\n",
              "      box-shadow: 0px 1px 3px 1px rgba(0, 0, 0, 0.15);\n",
              "      filter: drop-shadow(0px 1px 2px rgba(0, 0, 0, 0.3));\n",
              "      fill: #FFFFFF;\n",
              "    }\n",
              "  </style>\n",
              "\n",
              "      <script>\n",
              "        const buttonEl =\n",
              "          document.querySelector('#df-b4e6289e-0d3c-42ab-b1a3-19edbdc217da button.colab-df-convert');\n",
              "        buttonEl.style.display =\n",
              "          google.colab.kernel.accessAllowed ? 'block' : 'none';\n",
              "\n",
              "        async function convertToInteractive(key) {\n",
              "          const element = document.querySelector('#df-b4e6289e-0d3c-42ab-b1a3-19edbdc217da');\n",
              "          const dataTable =\n",
              "            await google.colab.kernel.invokeFunction('convertToInteractive',\n",
              "                                                     [key], {});\n",
              "          if (!dataTable) return;\n",
              "\n",
              "          const docLinkHtml = 'Like what you see? Visit the ' +\n",
              "            '<a target=\"_blank\" href=https://colab.research.google.com/notebooks/data_table.ipynb>data table notebook</a>'\n",
              "            + ' to learn more about interactive tables.';\n",
              "          element.innerHTML = '';\n",
              "          dataTable['output_type'] = 'display_data';\n",
              "          await google.colab.output.renderOutput(dataTable, element);\n",
              "          const docLink = document.createElement('div');\n",
              "          docLink.innerHTML = docLinkHtml;\n",
              "          element.appendChild(docLink);\n",
              "        }\n",
              "      </script>\n",
              "    </div>\n",
              "  </div>\n",
              "  "
            ]
          },
          "metadata": {},
          "execution_count": 13
        }
      ]
    },
    {
      "cell_type": "code",
      "source": [
        "y.head()"
      ],
      "metadata": {
        "colab": {
          "base_uri": "https://localhost:8080/"
        },
        "id": "WTfKOcgU1AE2",
        "outputId": "efd4f5bb-218b-471e-958b-84ad945b54c8"
      },
      "execution_count": null,
      "outputs": [
        {
          "output_type": "execute_result",
          "data": {
            "text/plain": [
              "0    0\n",
              "1    0\n",
              "2    0\n",
              "3    0\n",
              "4    0\n",
              "Name: Sleep_Stage, dtype: int64"
            ]
          },
          "metadata": {},
          "execution_count": 14
        }
      ]
    },
    {
      "cell_type": "markdown",
      "source": [
        "Dataset Spliting for train & test"
      ],
      "metadata": {
        "id": "d-ScvOF01KEl"
      }
    },
    {
      "cell_type": "code",
      "source": [
        "from sklearn.model_selection import train_test_split\n",
        "\n",
        "x_train, x_test, y_train, y_test = train_test_split(x,y,test_size = 0.2)"
      ],
      "metadata": {
        "id": "HFOmjMtu1CJr"
      },
      "execution_count": null,
      "outputs": []
    },
    {
      "cell_type": "code",
      "source": [
        "df[target].value_counts()"
      ],
      "metadata": {
        "colab": {
          "base_uri": "https://localhost:8080/"
        },
        "id": "pgc_rl615S5j",
        "outputId": "bd0b65a2-bf4a-4746-ba63-e70b9c8bd0fe"
      },
      "execution_count": null,
      "outputs": [
        {
          "output_type": "execute_result",
          "data": {
            "text/plain": [
              "0    72631\n",
              "1    16465\n",
              "Name: Sleep_Stage, dtype: int64"
            ]
          },
          "metadata": {},
          "execution_count": 16
        }
      ]
    },
    {
      "cell_type": "code",
      "source": [
        "y_train.value_counts()"
      ],
      "metadata": {
        "colab": {
          "base_uri": "https://localhost:8080/"
        },
        "id": "NV-KL6pB6zUh",
        "outputId": "32662e44-0f26-4339-f457-2d6ef5370b41"
      },
      "execution_count": null,
      "outputs": [
        {
          "output_type": "execute_result",
          "data": {
            "text/plain": [
              "0    58073\n",
              "1    13203\n",
              "Name: Sleep_Stage, dtype: int64"
            ]
          },
          "metadata": {},
          "execution_count": 17
        }
      ]
    },
    {
      "cell_type": "code",
      "source": [
        "x_train, y_train = balance(x_train, y_train)"
      ],
      "metadata": {
        "id": "z5iCKRaI-hZM"
      },
      "execution_count": null,
      "outputs": []
    },
    {
      "cell_type": "code",
      "source": [
        "y_train.value_counts()"
      ],
      "metadata": {
        "colab": {
          "base_uri": "https://localhost:8080/"
        },
        "id": "jn9JGYWdCxqD",
        "outputId": "f4cf85c7-99fc-4ae6-9387-1fadb346bb80"
      },
      "execution_count": null,
      "outputs": [
        {
          "output_type": "execute_result",
          "data": {
            "text/plain": [
              "0    58073\n",
              "1    58073\n",
              "Name: Sleep_Stage, dtype: int64"
            ]
          },
          "metadata": {},
          "execution_count": 19
        }
      ]
    },
    {
      "cell_type": "markdown",
      "source": [
        "**Training Phase**"
      ],
      "metadata": {
        "id": "cRBefHc2DIEE"
      }
    },
    {
      "cell_type": "markdown",
      "source": [
        "Random Forest"
      ],
      "metadata": {
        "id": "l4z2hBWeDNUE"
      }
    },
    {
      "cell_type": "code",
      "source": [
        "%%time\n",
        "from sklearn.ensemble import RandomForestClassifier\n",
        "\n",
        "rf = RandomForestClassifier()\n",
        "\n",
        "rf.fit(x_train, y_train)\n",
        "\n"
      ],
      "metadata": {
        "colab": {
          "base_uri": "https://localhost:8080/",
          "height": 110
        },
        "id": "l-FgzVNRCz2f",
        "outputId": "203ace76-4562-41dc-add6-d98a8156ce6f"
      },
      "execution_count": null,
      "outputs": [
        {
          "output_type": "stream",
          "name": "stdout",
          "text": [
            "CPU times: user 1min 53s, sys: 166 ms, total: 1min 53s\n",
            "Wall time: 2min 9s\n"
          ]
        },
        {
          "output_type": "execute_result",
          "data": {
            "text/plain": [
              "RandomForestClassifier()"
            ],
            "text/html": [
              "<style>#sk-container-id-1 {color: black;background-color: white;}#sk-container-id-1 pre{padding: 0;}#sk-container-id-1 div.sk-toggleable {background-color: white;}#sk-container-id-1 label.sk-toggleable__label {cursor: pointer;display: block;width: 100%;margin-bottom: 0;padding: 0.3em;box-sizing: border-box;text-align: center;}#sk-container-id-1 label.sk-toggleable__label-arrow:before {content: \"▸\";float: left;margin-right: 0.25em;color: #696969;}#sk-container-id-1 label.sk-toggleable__label-arrow:hover:before {color: black;}#sk-container-id-1 div.sk-estimator:hover label.sk-toggleable__label-arrow:before {color: black;}#sk-container-id-1 div.sk-toggleable__content {max-height: 0;max-width: 0;overflow: hidden;text-align: left;background-color: #f0f8ff;}#sk-container-id-1 div.sk-toggleable__content pre {margin: 0.2em;color: black;border-radius: 0.25em;background-color: #f0f8ff;}#sk-container-id-1 input.sk-toggleable__control:checked~div.sk-toggleable__content {max-height: 200px;max-width: 100%;overflow: auto;}#sk-container-id-1 input.sk-toggleable__control:checked~label.sk-toggleable__label-arrow:before {content: \"▾\";}#sk-container-id-1 div.sk-estimator input.sk-toggleable__control:checked~label.sk-toggleable__label {background-color: #d4ebff;}#sk-container-id-1 div.sk-label input.sk-toggleable__control:checked~label.sk-toggleable__label {background-color: #d4ebff;}#sk-container-id-1 input.sk-hidden--visually {border: 0;clip: rect(1px 1px 1px 1px);clip: rect(1px, 1px, 1px, 1px);height: 1px;margin: -1px;overflow: hidden;padding: 0;position: absolute;width: 1px;}#sk-container-id-1 div.sk-estimator {font-family: monospace;background-color: #f0f8ff;border: 1px dotted black;border-radius: 0.25em;box-sizing: border-box;margin-bottom: 0.5em;}#sk-container-id-1 div.sk-estimator:hover {background-color: #d4ebff;}#sk-container-id-1 div.sk-parallel-item::after {content: \"\";width: 100%;border-bottom: 1px solid gray;flex-grow: 1;}#sk-container-id-1 div.sk-label:hover label.sk-toggleable__label {background-color: #d4ebff;}#sk-container-id-1 div.sk-serial::before {content: \"\";position: absolute;border-left: 1px solid gray;box-sizing: border-box;top: 0;bottom: 0;left: 50%;z-index: 0;}#sk-container-id-1 div.sk-serial {display: flex;flex-direction: column;align-items: center;background-color: white;padding-right: 0.2em;padding-left: 0.2em;position: relative;}#sk-container-id-1 div.sk-item {position: relative;z-index: 1;}#sk-container-id-1 div.sk-parallel {display: flex;align-items: stretch;justify-content: center;background-color: white;position: relative;}#sk-container-id-1 div.sk-item::before, #sk-container-id-1 div.sk-parallel-item::before {content: \"\";position: absolute;border-left: 1px solid gray;box-sizing: border-box;top: 0;bottom: 0;left: 50%;z-index: -1;}#sk-container-id-1 div.sk-parallel-item {display: flex;flex-direction: column;z-index: 1;position: relative;background-color: white;}#sk-container-id-1 div.sk-parallel-item:first-child::after {align-self: flex-end;width: 50%;}#sk-container-id-1 div.sk-parallel-item:last-child::after {align-self: flex-start;width: 50%;}#sk-container-id-1 div.sk-parallel-item:only-child::after {width: 0;}#sk-container-id-1 div.sk-dashed-wrapped {border: 1px dashed gray;margin: 0 0.4em 0.5em 0.4em;box-sizing: border-box;padding-bottom: 0.4em;background-color: white;}#sk-container-id-1 div.sk-label label {font-family: monospace;font-weight: bold;display: inline-block;line-height: 1.2em;}#sk-container-id-1 div.sk-label-container {text-align: center;}#sk-container-id-1 div.sk-container {/* jupyter's `normalize.less` sets `[hidden] { display: none; }` but bootstrap.min.css set `[hidden] { display: none !important; }` so we also need the `!important` here to be able to override the default hidden behavior on the sphinx rendered scikit-learn.org. See: https://github.com/scikit-learn/scikit-learn/issues/21755 */display: inline-block !important;position: relative;}#sk-container-id-1 div.sk-text-repr-fallback {display: none;}</style><div id=\"sk-container-id-1\" class=\"sk-top-container\"><div class=\"sk-text-repr-fallback\"><pre>RandomForestClassifier()</pre><b>In a Jupyter environment, please rerun this cell to show the HTML representation or trust the notebook. <br />On GitHub, the HTML representation is unable to render, please try loading this page with nbviewer.org.</b></div><div class=\"sk-container\" hidden><div class=\"sk-item\"><div class=\"sk-estimator sk-toggleable\"><input class=\"sk-toggleable__control sk-hidden--visually\" id=\"sk-estimator-id-1\" type=\"checkbox\" checked><label for=\"sk-estimator-id-1\" class=\"sk-toggleable__label sk-toggleable__label-arrow\">RandomForestClassifier</label><div class=\"sk-toggleable__content\"><pre>RandomForestClassifier()</pre></div></div></div></div></div>"
            ]
          },
          "metadata": {},
          "execution_count": 20
        }
      ]
    },
    {
      "cell_type": "code",
      "source": [
        "y_pred = rf.predict(x_test)\n"
      ],
      "metadata": {
        "id": "C0u1IYuYFjjJ"
      },
      "execution_count": null,
      "outputs": []
    },
    {
      "cell_type": "code",
      "source": [
        "from sklearn.metrics import classification_report, confusion_matrix, accuracy_score\n",
        "\n",
        "print(confusion_matrix(y_test,y_pred))\n",
        "print(classification_report(y_test,y_pred))\n",
        "print(\"Accuracy: \",accuracy_score(y_test,y_pred))"
      ],
      "metadata": {
        "colab": {
          "base_uri": "https://localhost:8080/"
        },
        "id": "GA6VP7NeHVa9",
        "outputId": "ded316b5-6f46-4ffc-894b-29f97558b7b7"
      },
      "execution_count": null,
      "outputs": [
        {
          "output_type": "stream",
          "name": "stdout",
          "text": [
            "[[13738   820]\n",
            " [  538  2724]]\n",
            "              precision    recall  f1-score   support\n",
            "\n",
            "           0       0.96      0.94      0.95     14558\n",
            "           1       0.77      0.84      0.80      3262\n",
            "\n",
            "    accuracy                           0.92     17820\n",
            "   macro avg       0.87      0.89      0.88     17820\n",
            "weighted avg       0.93      0.92      0.92     17820\n",
            "\n",
            "Accuracy:  0.9237934904601571\n"
          ]
        }
      ]
    },
    {
      "cell_type": "markdown",
      "source": [
        "*Model Save and Load*"
      ],
      "metadata": {
        "id": "VW89-RAeNY4Y"
      }
    },
    {
      "cell_type": "code",
      "source": [
        "import joblib\n",
        "\n",
        "def save_model(model, model_name):\n",
        "  joblib.dump(model,model_name)\n",
        "\n",
        "def load_model(model_name):\n",
        "  return joblib.load(model_name)"
      ],
      "metadata": {
        "id": "LbB16lobIGfb"
      },
      "execution_count": null,
      "outputs": []
    },
    {
      "cell_type": "code",
      "source": [
        "save_model(rf,\"RandomForest\")"
      ],
      "metadata": {
        "id": "eogJfKAWOA1e"
      },
      "execution_count": null,
      "outputs": []
    }
  ]
}